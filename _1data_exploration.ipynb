{
 "cells": [
  {
   "cell_type": "markdown",
   "metadata": {},
   "source": [
    "# Resume NER\n",
    "## Extract Information from Resumes using NER (Named Entity Recognition)"
   ]
  },
  {
   "cell_type": "markdown",
   "metadata": {},
   "source": [
    "### Part 1 - Data Exploration and preprocessing\n",
    "In this first part of the challenge, we will load and examine the dataset we will be working with. We will also prepare the data for training which we will start in the second part of the challenge. You will be required to program some basic python pertaining to file loading, data conversion, and basic dictionaries and array manipulation. If you are experienced with Python, this will be easy. If you are new to python and/or programming, it will be a good opportunity to learn some basic programming you will need for data loading and exploration.\n",
    "\n",
    "* *If you need help setting up python or running this notebook, please get help from the  assistants to the professor*\n",
    "* *It might be helpful to try your code out first in a python ide like pycharm before copying it an running it here in this notebook*  "
   ]
  },
  {
   "cell_type": "markdown",
   "metadata": {},
   "source": [
    "#### Load the Dataset\n",
    "The dataset we will be using is located in the dataset folder included in the project. Verify the data is available by executing the code cell below "
   ]
  },
  {
   "cell_type": "code",
   "execution_count": 1,
   "metadata": {},
   "outputs": [
    {
     "name": "stdout",
     "output_type": "stream",
     "text": [
      "Path exists? False\n"
     ]
    }
   ],
   "source": [
    "import os\n",
    "dataset_path = \"../dataset/Entity Recognition in Resumes.json\"\n",
    "print(\"Path exists? {}\".format(os.path.exists(dataset_path)))"
   ]
  },
  {
   "cell_type": "markdown",
   "metadata": {},
   "source": [
    "So far so good? OK then let's load the dataset. The dataset is structured so that each line of text is a resume. \n",
    "You will do the following:\n",
    "1. using python's built-in \"open\" function, get a filehandle to the dataset (tip don't forget the file is utf8!)\n",
    "2. load the data into an array of resumes (each text line is one resume) \n",
    "3. use the print function to print how many resumes were loaded\n",
    "4. use the print function to output one of the resumes so we can see how the resumes look in raw text form \n"
   ]
  },
  {
   "cell_type": "code",
   "execution_count": 9,
   "metadata": {},
   "outputs": [
    {
     "name": "stdout",
     "output_type": "stream",
     "text": [
      "701\n",
      "Sample resume:\n",
      "{\"content\": \"Afreen Jamadar\\nActive member of IIIT Committee in Third year\\n\\nSangli, Maharashtra - Email me on Indeed: indeed.com/r/Afreen-Jamadar/8baf379b705e37c6\\n\\nI wish to use my knowledge, skills and conceptual understanding to create excellent team\\nenvironments and work consistently achieving organization objectives believes in taking initiative\\nand work to excellence in my work.\\n\\nWORK EXPERIENCE\\n\\nActive member of IIIT Committee in Third year\\n\\nCisco Networking -  Kanpur, Uttar Pradesh\\n\\norganized by Techkriti IIT Kanpur and Azure Skynet.\\nPERSONALLITY TRAITS:\\n• Quick learning ability\\n• hard working\\n\\nEDUCATION\\n\\nPG-DAC\\n\\nCDAC ACTS\\n\\n2017\\n\\nBachelor of Engg in Information Technology\\n\\nShivaji University Kolhapur -  Kolhapur, Maharashtra\\n\\n2016\\n\\nSKILLS\\n\\nDatabase (Less than 1 year), HTML (Less than 1 year), Linux. (Less than 1 year), MICROSOFT\\nACCESS (Less than 1 year), MICROSOFT WINDOWS (Less than 1 year)\\n\\nADDITIONAL INFORMATION\\n\\nTECHNICAL SKILLS:\\n\\n• Programming Languages: C, C++, Java, .net, php.\\n• Web Designing: HTML, XML\\n• Operating Systems: Windows […] Windows Server 2003, Linux.\\n• Database: MS Access, MS SQL Server 2008, Oracle 10g, MySql.\\n\\nhttps://www.indeed.com/r/Afreen-Jamadar/8baf379b705e37c6?isid=rex-download&ikw=download-top&co=IN\",\"annotation\":[{\"label\":[\"Email Address\"],\"points\":[{\"start\":1155,\"end\":1198,\"text\":\"indeed.com/r/Afreen-Jamadar/8baf379b705e37c6\"}]},{\"label\":[\"Links\"],\"points\":[{\"start\":1143,\"end\":1239,\"text\":\"https://www.indeed.com/r/Afreen-Jamadar/8baf379b705e37c6?isid=rex-download&ikw=download-top&co=IN\"}]},{\"label\":[\"Skills\"],\"points\":[{\"start\":743,\"end\":1140,\"text\":\"Database (Less than 1 year), HTML (Less than 1 year), Linux. (Less than 1 year), MICROSOFT\\nACCESS (Less than 1 year), MICROSOFT WINDOWS (Less than 1 year)\\n\\nADDITIONAL INFORMATION\\n\\nTECHNICAL SKILLS:\\n\\n• Programming Languages: C, C++, Java, .net, php.\\n• Web Designing: HTML, XML\\n• Operating Systems: Windows […] Windows Server 2003, Linux.\\n• Database: MS Access, MS SQL Server 2008, Oracle 10g, MySql.\"}]},{\"label\":[\"Graduation Year\"],\"points\":[{\"start\":729,\"end\":732,\"text\":\"2016\"}]},{\"label\":[\"College Name\"],\"points\":[{\"start\":675,\"end\":702,\"text\":\"Shivaji University Kolhapur \"}]},{\"label\":[\"Degree\"],\"points\":[{\"start\":631,\"end\":672,\"text\":\"Bachelor of Engg in Information Technology\"}]},{\"label\":[\"Graduation Year\"],\"points\":[{\"start\":625,\"end\":629,\"text\":\"2017\\n\"}]},{\"label\":[\"College Name\"],\"points\":[{\"start\":614,\"end\":622,\"text\":\"CDAC ACTS\"}]},{\"label\":[\"Degree\"],\"points\":[{\"start\":606,\"end\":611,\"text\":\"PG-DAC\"}]},{\"label\":[\"Companies worked at\"],\"points\":[{\"start\":438,\"end\":453,\"text\":\"Cisco Networking\"}]},{\"label\":[\"Email Address\"],\"points\":[{\"start\":104,\"end\":147,\"text\":\"indeed.com/r/Afreen-Jamadar/8baf379b705e37c6\"}]},{\"label\":[\"Location\"],\"points\":[{\"start\":62,\"end\":67,\"text\":\"Sangli\"}]},{\"label\":[\"Name\"],\"points\":[{\"start\":0,\"end\":13,\"text\":\"Afreen Jamadar\"}]}],\"extras\":null,\"metadata\":{\"first_done_at\":1527844872000,\"last_updated_at\":1537724086000,\"sec_taken\":0,\"last_updated_by\":\"BIQNZm4INNfvByMqkaVwVt6OZTv2\",\"status\":\"done\",\"evaluation\":\"CORRECT\"}}\n",
      "\n"
     ]
    }
   ],
   "source": [
    "## use the \"open\" function to get a filehandle. \n",
    "with open(dataset_path,encoding=\"utf8\") as f:\n",
    "    ## use the filehandle to read all lines into an array of text lines.\n",
    "    lines = f.readlines()\n",
    "    ## print how many lines were loaded\n",
    "    print(len(lines))\n",
    "    ## now print one resume/line to see how the resumes look in raw text form\n",
    "    print(\"Sample resume:\")\n",
    "    #TODO print sample resume\n",
    "    print(lines[0])\n"
   ]
  },
  {
   "cell_type": "markdown",
   "metadata": {},
   "source": [
    "#### Convert the dataset to json\n",
    "As we can see, the resumes are not in a convenient human-readable form, but are json dictionaries. We want to work with the resumes as python dictionaries and not as raw text, so we will convert the resumes from text to dictionaries. We will do the following:\n",
    "1. Import the json module\n",
    "2. Loop through all of the text lines and use the json 'loads' function to convert the line to a python dictionary. Tip - you can use a 'for' loop, or if you want to get fancy, a python 'list comprehension' to accomplish this. \n",
    "3. Select one of the converted resumes so that we can examine its structure.   \n"
   ]
  },
  {
   "cell_type": "code",
   "execution_count": 17,
   "metadata": {},
   "outputs": [
    {
     "name": "stdout",
     "output_type": "stream",
     "text": [
      "701\n"
     ]
    }
   ],
   "source": [
    "## import json module to load json strings\n",
    "import json\n",
    "## using a for loop or a list comprehension, cycle through all lines (loaded above) and convert them to dictionaries \n",
    "## using json loads function. Make sure all converted resumes are stored in the 'all_resumes' array below  \n",
    "all_resumes = []\n",
    "## select one resume to examine from the all_resumes list\n",
    "resume = None\n",
    "\n",
    "for line in lines:\n",
    "    all_resumes.append(json.loads(line))\n",
    "\n",
    "print(len(all_resumes))\n",
    "resume = all_resumes[5]"
   ]
  },
  {
   "cell_type": "markdown",
   "metadata": {},
   "source": [
    "##### Explore the resume data structure\n",
    "You should have one sample resume saved in the \"resume\" variable. Now we will examine the resume dictionary. Complete the code below to see the keys in the dictionary "
   ]
  },
  {
   "cell_type": "code",
   "execution_count": 19,
   "metadata": {},
   "outputs": [
    {
     "name": "stdout",
     "output_type": "stream",
     "text": [
      "keys and values in resume:\n",
      "content\n",
      "annotation\n",
      "extras\n",
      "metadata\n"
     ]
    }
   ],
   "source": [
    "## explore keys in cv\n",
    "print(\"keys and values in resume:\")\n",
    "## TODO print out the keys and values for the sample resume\n",
    "for key, value in resume.items() :\n",
    "    print(key)"
   ]
  },
  {
   "cell_type": "markdown",
   "metadata": {},
   "source": [
    "##### Question: which key do you think points to the text content of the resume?\n",
    "*Answer here*\n",
    "\n",
    "content\n",
    "##### Question: which key do you think points to the list of entity annotations? \n",
    "*Answer here*\n",
    "\n",
    "annotation"
   ]
  },
  {
   "cell_type": "markdown",
   "metadata": {},
   "source": [
    "Based on your answers above, see if you were right by printing the text content and the entity list by completing and executing the code below"
   ]
  },
  {
   "cell_type": "code",
   "execution_count": 20,
   "metadata": {},
   "outputs": [
    {
     "name": "stdout",
     "output_type": "stream",
     "text": [
      "resume content:\n",
      "Ashalata Bisoyi\n",
      "Transaction Processor - Oracle India Private Limited\n",
      "\n",
      "Bengaluru, Karnataka - Email me on Indeed: indeed.com/r/Ashalata-Bisoyi/cf02125911cfb5df\n",
      "\n",
      "To secure a position an esteem organization with good working culture that will help my career\n",
      "in the field of finance through my sincerity, hard works and skills.\n",
      "\n",
      "WORK EXPERIENCE\n",
      "\n",
      "Transaction Processor\n",
      "\n",
      "Oracle India Private Limited -\n",
      "\n",
      "April 2016 to Present\n",
      "\n",
      "2 Year of experience with Oracle India Private Limited in expense team. My work is auditing of\n",
      "expense reports of employees of all the countries, handling queries through emails and calls also.\n",
      "JOB DESCRIPTION\n",
      "• Auditing of expense reports of the employees for all the countries and working on service portal\n",
      "(Answering queries through email)\n",
      "• Handling the team in absence of seniors.\n",
      "• Working on Payment Rejections, export of expense reports to AP.\n",
      "• Take care of running Backlog, Having knowledge about travel advance.\n",
      "\n",
      "EDUCATION\n",
      "\n",
      "Master of Finance and Control in MFC\n",
      "\n",
      "Khallikote Autonomous college -  Brahmapur, Orissa\n",
      "\n",
      "2015\n",
      "\n",
      "Bachelor in Commerce\n",
      "\n",
      "Berhampur university -  Brahmapur, Orissa\n",
      "\n",
      "2013\n",
      "\n",
      "Accounting\n",
      "\n",
      "Science College, Hinjilicut -  Brahmapur, Orissa\n",
      "\n",
      "2010\n",
      "\n",
      "Education\n",
      "\n",
      "Council of Higher Secondary -  Orissa, IN\n",
      "\n",
      "2008\n",
      "\n",
      "Government girls High school -  Hinjilikatu, Orissa\n",
      "\n",
      "https://www.indeed.com/r/Ashalata-Bisoyi/cf02125911cfb5df?isid=rex-download&ikw=download-top&co=IN\n",
      "\n",
      "\n",
      "Board of Secondary Education -  Orissa, IN\n",
      "\n",
      "ADDITIONAL INFORMATION\n",
      "\n",
      "• Good analytical skills and flexible in work atmosphere.\n",
      "• Able to handle complex situation under process\n",
      "• Willingness to learn\n",
      "• Ability to meet deadlines\n",
      "• Every time accept the new challenges\n",
      "\n",
      "OTHER QUALIFICATIONS\n",
      "• DOEACC O LEVEL\n",
      "• M.S. OFFICE\n",
      "resume entity list:\n",
      "[{'label': ['Skills'], 'points': [{'start': 1710, 'end': 1720, 'text': 'M.S. OFFICE'}]}, {'label': ['Skills'], 'points': [{'start': 1692, 'end': 1706, 'text': ' DOEACC O LEVEL'}]}, {'label': ['Address'], 'points': [{'start': 1436, 'end': 1441, 'text': 'Orissa'}]}, {'label': ['Degree'], 'points': [{'start': 1404, 'end': 1432, 'text': 'Board of Secondary Education '}]}, {'label': ['Email Address'], 'points': [{'start': 1315, 'end': 1359, 'text': 'indeed.com/r/Ashalata-Bisoyi/cf02125911cfb5df'}]}, {'label': ['Links'], 'points': [{'start': 1303, 'end': 1400, 'text': 'https://www.indeed.com/r/Ashalata-Bisoyi/cf02125911cfb5df?isid=rex-download&ikw=download-top&co=IN'}]}, {'label': ['Address'], 'points': [{'start': 1295, 'end': 1300, 'text': 'Orissa'}]}, {'label': ['College Name'], 'points': [{'start': 1250, 'end': 1278, 'text': 'Government girls High school '}]}, {'label': ['Graduation Year'], 'points': [{'start': 1244, 'end': 1247, 'text': '2008'}]}, {'label': ['Address'], 'points': [{'start': 1232, 'end': 1237, 'text': 'Orissa'}]}, {'label': ['Graduation Year'], 'points': [{'start': 1184, 'end': 1187, 'text': '2010'}]}, {'label': ['Address'], 'points': [{'start': 1176, 'end': 1181, 'text': 'Orissa'}]}, {'label': ['College Name'], 'points': [{'start': 1134, 'end': 1160, 'text': 'Science College, Hinjilicut'}]}, {'label': ['Degree'], 'points': [{'start': 1122, 'end': 1131, 'text': 'Accounting'}]}, {'label': ['Graduation Year'], 'points': [{'start': 1116, 'end': 1119, 'text': '2013'}]}, {'label': ['Address'], 'points': [{'start': 1108, 'end': 1113, 'text': 'Orissa'}]}, {'label': ['College Name'], 'points': [{'start': 1073, 'end': 1092, 'text': 'Berhampur university'}]}, {'label': ['Degree'], 'points': [{'start': 1051, 'end': 1071, 'text': 'Bachelor in Commerce\\n'}]}, {'label': ['Graduation Year'], 'points': [{'start': 1045, 'end': 1049, 'text': '2015\\n'}]}, {'label': ['Address'], 'points': [{'start': 1037, 'end': 1042, 'text': 'Orissa'}]}, {'label': ['College Name'], 'points': [{'start': 993, 'end': 1021, 'text': 'Khallikote Autonomous college'}]}, {'label': ['Degree'], 'points': [{'start': 955, 'end': 990, 'text': 'Master of Finance and Control in MFC'}]}, {'label': ['Companies worked at'], 'points': [{'start': 446, 'end': 473, 'text': 'Oracle India Private Limited'}]}, {'label': ['Years of Experience'], 'points': [{'start': 420, 'end': 439, 'text': '2 Year of experience'}]}, {'label': ['Companies worked at'], 'points': [{'start': 365, 'end': 392, 'text': 'Oracle India Private Limited'}]}, {'label': ['Designation'], 'points': [{'start': 342, 'end': 362, 'text': 'Transaction Processor'}]}, {'label': ['Email Address'], 'points': [{'start': 113, 'end': 157, 'text': 'indeed.com/r/Ashalata-Bisoyi/cf02125911cfb5df'}]}, {'label': ['Location'], 'points': [{'start': 70, 'end': 78, 'text': 'Bengaluru'}]}, {'label': ['Companies worked at'], 'points': [{'start': 40, 'end': 67, 'text': 'Oracle India Private Limited'}]}, {'label': ['Designation'], 'points': [{'start': 16, 'end': 36, 'text': 'Transaction Processor'}]}, {'label': ['Name'], 'points': [{'start': 0, 'end': 14, 'text': 'Ashalata Bisoyi'}]}]\n"
     ]
    }
   ],
   "source": [
    "## TODO print the resume text\n",
    "print(\"resume content:\")\n",
    "print(resume[\"content\"])\n",
    "## TODO print the resume's list of entity annotations\n",
    "print(\"resume entity list:\")\n",
    "print(resume[\"annotation\"])"
   ]
  },
  {
   "cell_type": "markdown",
   "metadata": {},
   "source": [
    "##### Explore the list of entity labels\n",
    "The entity list is a list of dictionaries, we want to explore this list\n",
    "1. Cycle through the entities in the list. You can use a 'for' loop for this\n",
    "2. For each entity - which will be a dictionary - print out each key and each value for the key"
   ]
  },
  {
   "cell_type": "code",
   "execution_count": 21,
   "metadata": {},
   "outputs": [
    {
     "name": "stdout",
     "output_type": "stream",
     "text": [
      "Entity\n",
      "\tKey: label \tValue: ['Skills']\n",
      "\tKey: points \tValue: [{'start': 1710, 'end': 1720, 'text': 'M.S. OFFICE'}]\n",
      "Entity\n",
      "\tKey: label \tValue: ['Skills']\n",
      "\tKey: points \tValue: [{'start': 1692, 'end': 1706, 'text': ' DOEACC O LEVEL'}]\n",
      "Entity\n",
      "\tKey: label \tValue: ['Address']\n",
      "\tKey: points \tValue: [{'start': 1436, 'end': 1441, 'text': 'Orissa'}]\n",
      "Entity\n",
      "\tKey: label \tValue: ['Degree']\n",
      "\tKey: points \tValue: [{'start': 1404, 'end': 1432, 'text': 'Board of Secondary Education '}]\n",
      "Entity\n",
      "\tKey: label \tValue: ['Email Address']\n",
      "\tKey: points \tValue: [{'start': 1315, 'end': 1359, 'text': 'indeed.com/r/Ashalata-Bisoyi/cf02125911cfb5df'}]\n",
      "Entity\n",
      "\tKey: label \tValue: ['Links']\n",
      "\tKey: points \tValue: [{'start': 1303, 'end': 1400, 'text': 'https://www.indeed.com/r/Ashalata-Bisoyi/cf02125911cfb5df?isid=rex-download&ikw=download-top&co=IN'}]\n",
      "Entity\n",
      "\tKey: label \tValue: ['Address']\n",
      "\tKey: points \tValue: [{'start': 1295, 'end': 1300, 'text': 'Orissa'}]\n",
      "Entity\n",
      "\tKey: label \tValue: ['College Name']\n",
      "\tKey: points \tValue: [{'start': 1250, 'end': 1278, 'text': 'Government girls High school '}]\n",
      "Entity\n",
      "\tKey: label \tValue: ['Graduation Year']\n",
      "\tKey: points \tValue: [{'start': 1244, 'end': 1247, 'text': '2008'}]\n",
      "Entity\n",
      "\tKey: label \tValue: ['Address']\n",
      "\tKey: points \tValue: [{'start': 1232, 'end': 1237, 'text': 'Orissa'}]\n",
      "Entity\n",
      "\tKey: label \tValue: ['Graduation Year']\n",
      "\tKey: points \tValue: [{'start': 1184, 'end': 1187, 'text': '2010'}]\n",
      "Entity\n",
      "\tKey: label \tValue: ['Address']\n",
      "\tKey: points \tValue: [{'start': 1176, 'end': 1181, 'text': 'Orissa'}]\n",
      "Entity\n",
      "\tKey: label \tValue: ['College Name']\n",
      "\tKey: points \tValue: [{'start': 1134, 'end': 1160, 'text': 'Science College, Hinjilicut'}]\n",
      "Entity\n",
      "\tKey: label \tValue: ['Degree']\n",
      "\tKey: points \tValue: [{'start': 1122, 'end': 1131, 'text': 'Accounting'}]\n",
      "Entity\n",
      "\tKey: label \tValue: ['Graduation Year']\n",
      "\tKey: points \tValue: [{'start': 1116, 'end': 1119, 'text': '2013'}]\n",
      "Entity\n",
      "\tKey: label \tValue: ['Address']\n",
      "\tKey: points \tValue: [{'start': 1108, 'end': 1113, 'text': 'Orissa'}]\n",
      "Entity\n",
      "\tKey: label \tValue: ['College Name']\n",
      "\tKey: points \tValue: [{'start': 1073, 'end': 1092, 'text': 'Berhampur university'}]\n",
      "Entity\n",
      "\tKey: label \tValue: ['Degree']\n",
      "\tKey: points \tValue: [{'start': 1051, 'end': 1071, 'text': 'Bachelor in Commerce\\n'}]\n",
      "Entity\n",
      "\tKey: label \tValue: ['Graduation Year']\n",
      "\tKey: points \tValue: [{'start': 1045, 'end': 1049, 'text': '2015\\n'}]\n",
      "Entity\n",
      "\tKey: label \tValue: ['Address']\n",
      "\tKey: points \tValue: [{'start': 1037, 'end': 1042, 'text': 'Orissa'}]\n",
      "Entity\n",
      "\tKey: label \tValue: ['College Name']\n",
      "\tKey: points \tValue: [{'start': 993, 'end': 1021, 'text': 'Khallikote Autonomous college'}]\n",
      "Entity\n",
      "\tKey: label \tValue: ['Degree']\n",
      "\tKey: points \tValue: [{'start': 955, 'end': 990, 'text': 'Master of Finance and Control in MFC'}]\n",
      "Entity\n",
      "\tKey: label \tValue: ['Companies worked at']\n",
      "\tKey: points \tValue: [{'start': 446, 'end': 473, 'text': 'Oracle India Private Limited'}]\n",
      "Entity\n",
      "\tKey: label \tValue: ['Years of Experience']\n",
      "\tKey: points \tValue: [{'start': 420, 'end': 439, 'text': '2 Year of experience'}]\n",
      "Entity\n",
      "\tKey: label \tValue: ['Companies worked at']\n",
      "\tKey: points \tValue: [{'start': 365, 'end': 392, 'text': 'Oracle India Private Limited'}]\n",
      "Entity\n",
      "\tKey: label \tValue: ['Designation']\n",
      "\tKey: points \tValue: [{'start': 342, 'end': 362, 'text': 'Transaction Processor'}]\n",
      "Entity\n",
      "\tKey: label \tValue: ['Email Address']\n",
      "\tKey: points \tValue: [{'start': 113, 'end': 157, 'text': 'indeed.com/r/Ashalata-Bisoyi/cf02125911cfb5df'}]\n",
      "Entity\n",
      "\tKey: label \tValue: ['Location']\n",
      "\tKey: points \tValue: [{'start': 70, 'end': 78, 'text': 'Bengaluru'}]\n",
      "Entity\n",
      "\tKey: label \tValue: ['Companies worked at']\n",
      "\tKey: points \tValue: [{'start': 40, 'end': 67, 'text': 'Oracle India Private Limited'}]\n",
      "Entity\n",
      "\tKey: label \tValue: ['Designation']\n",
      "\tKey: points \tValue: [{'start': 16, 'end': 36, 'text': 'Transaction Processor'}]\n",
      "Entity\n",
      "\tKey: label \tValue: ['Name']\n",
      "\tKey: points \tValue: [{'start': 0, 'end': 14, 'text': 'Ashalata Bisoyi'}]\n"
     ]
    }
   ],
   "source": [
    "## explore entity list\n",
    "##TODO print out each key and each value for each entity in the entities list\n",
    "for entity in resume[\"annotation\"]:\n",
    "    print(\"Entity\")\n",
    "    for key, value in entity.items():\n",
    "        print(\"\\tKey:\",key,\"\\tValue:\",value)"
   ]
  },
  {
   "cell_type": "markdown",
   "metadata": {},
   "source": [
    "##### Question: What keys do the entity entries have? What is the datatype of the values of these keys?\n",
    "*Answer here*\n",
    "\n",
    "Label and Points. Label Datatype = String, Points DataType = Dictionary\n",
    "##### Question: What do these keys and values mean? (think of their significance as entity labels)\n",
    "*Answer here*\n"
   ]
  },
  {
   "cell_type": "markdown",
   "metadata": {},
   "source": [
    "##### Convert  data to \"spacy\" offset format\n",
    "Before we go any further, we need to convert the data into a slightly more compact format. This format is the format we will be using to train our first models in the next part of the challenge. Here we will do the following:\n",
    "1. Use the provided data conversion function\n",
    "2. Convert the data with that function, storing the results in a variable\n",
    "3. Inspect the converted data"
   ]
  },
  {
   "cell_type": "code",
   "execution_count": 42,
   "metadata": {},
   "outputs": [
    {
     "name": "stdout",
     "output_type": "stream",
     "text": [
      "701\n",
      "[(13907, 13911, 'Skills'), (13883, 13887, 'Skills'), (13883, 13886, 'Skills'), (13835, 13841, 'Companies worked at'), (13724, 13732, 'Skills'), (13716, 13722, 'Skills'), (13707, 13714, 'Skills'), (13699, 13705, 'Skills'), (13691, 13697, 'Skills'), (13687, 13690, 'Skills'), (13682, 13685, 'Skills'), (13665, 13670, 'Skills'), (13650, 13654, 'Skills'), (13636, 13639, 'Skills'), (13600, 13609, 'Location'), (13587, 13596, 'Location'), (13543, 13579, 'College Name'), (13502, 13508, 'Companies worked at'), (13478, 13500, 'Designation'), (12696, 12702, 'Companies worked at'), (12020, 12026, 'Skills'), (11962, 11968, 'Skills'), (11701, 11705, 'Skills'), (11578, 11582, 'Skills'), (11578, 11581, 'Skills'), (11014, 11023, 'Location'), (11004, 11010, 'Companies worked at'), (10980, 11002, 'Designation'), (10890, 10899, 'Location'), (10829, 10834, 'Skills'), (10803, 10809, 'Companies worked at'), (9450, 9455, 'Skills'), (8846, 8851, 'Skills'), (8704, 8709, 'Skills'), (8678, 8684, 'Companies worked at'), (8137, 8143, 'Companies worked at'), (7512, 7517, 'Skills'), (6507, 6513, 'Skills'), (6503, 6506, 'Skills'), (6479, 6484, 'Skills'), (5619, 5625, 'Companies worked at'), (4994, 4999, 'Skills'), (4213, 4216, 'Skills'), (4122, 4126, 'Skills'), (3540, 3545, 'Skills'), (3520, 3524, 'Skills'), (3466, 3488, 'Designation'), (3367, 3371, 'Graduation Year'), (3355, 3364, 'Location'), (3312, 3348, 'College Name'), (3300, 3306, 'Degree'), (3269, 3273, 'Skills'), (3248, 3268, 'Skills'), (3243, 3247, 'Skills'), (3243, 3246, 'Skills'), (3236, 3242, 'Skills'), (3219, 3234, 'Skills'), (3192, 3198, 'Companies worked at'), (3083, 3110, 'Skills'), (3052, 3059, 'Skills'), (3017, 3036, 'Skills'), (2980, 3016, 'Skills'), (2951, 2979, 'Skills'), (2936, 2950, 'Skills'), (2915, 2935, 'Skills'), (2891, 2914, 'Skills'), (2650, 2654, 'Graduation Year'), (2630, 2639, 'Location'), (2622, 2628, 'Companies worked at'), (2596, 2618, 'Designation'), (1785, 1791, 'Companies worked at'), (1109, 1115, 'Skills'), (1051, 1057, 'Skills'), (790, 794, 'Skills'), (667, 671, 'Skills'), (667, 670, 'Skills'), (101, 148, 'Email Address'), (58, 67, 'Location'), (50, 56, 'Companies worked at'), (34, 48, 'Designation'), (17, 32, 'Designation'), (0, 16, 'Name')]\n"
     ]
    }
   ],
   "source": [
    "## data conversion method\n",
    "def convert_data(data):\n",
    "    \"\"\"\n",
    "    Creates NER training data in Spacy format from JSON dataset\n",
    "    Outputs the Spacy training data which can be used for Spacy training.\n",
    "    \"\"\"\n",
    "    text = data['content']\n",
    "    entities = []\n",
    "    if data['annotation'] is not None:\n",
    "        for annotation in data['annotation']:\n",
    "            # only a single point in text annotation.\n",
    "            point = annotation['points'][0]\n",
    "            labels = annotation['label']\n",
    "            # handle both list of labels or a single label.\n",
    "            if not isinstance(labels, list):\n",
    "                labels = [labels]\n",
    "            for label in labels:\n",
    "                # dataturks indices are both inclusive [start, end] but spacy is not [start, end)\n",
    "                entities.append((point['start'], point['end'] + 1, label))\n",
    "    return (text, {\"entities\": entities})\n",
    "   \n",
    "## TODO using a loop or list comprehension, convert each resume in all_resumes using the convert function above, storing the result\n",
    "converted_resumes = [convert_data(res) for res in all_resumes]\n",
    "## TODO print the number of resumes in converted resumes \n",
    "print(len(converted_resumes))\n",
    "print(converted_resumes[50][1][\"entities\"])"
   ]
  },
  {
   "cell_type": "markdown",
   "metadata": {},
   "source": [
    "##### Question: how is the converted data different than the original data? How is it the same? \n",
    "*Answer here*"
   ]
  },
  {
   "cell_type": "markdown",
   "metadata": {},
   "source": [
    "##### filter out resumes without annotations\n",
    "A few of the resumes have an empty entity list. We want to filter these resumes out of our data before continuing. We will do the following:\n",
    "1. cycle through all resumes using for loop or list comprehension\n",
    "2. for each resume, if the resume has no labled entities, ignore it. Otherwise save it to new resume list "
   ]
  },
  {
   "cell_type": "code",
   "execution_count": 43,
   "metadata": {},
   "outputs": [
    {
     "name": "stdout",
     "output_type": "stream",
     "text": [
      "690\n"
     ]
    }
   ],
   "source": [
    "## TODO filter out resumes where resume entities list is None (you can do this in a one-line list comprehension)\n",
    "## sove to converted_resumes variable\n",
    "converted_resumes = [res for res in converted_resumes if len(res[1][\"entities\"]) > 0]\n",
    "## TODO print length of new filtered converted_resumes.  \n",
    "print(len(converted_resumes))"
   ]
  },
  {
   "cell_type": "code",
   "execution_count": 65,
   "metadata": {},
   "outputs": [
    {
     "name": "stdout",
     "output_type": "stream",
     "text": [
      "[(2110, 2404, 'Skills'), (2055, 2064, 'Location'), (1895, 1947, 'Skills'), (1880, 1885, 'Graduation Year'), (1851, 1860, 'Location'), (1829, 1838, 'Location'), (1794, 1826, 'Degree'), (1056, 1061, 'Graduation Year'), (1031, 1038, 'Companies worked at'), (479, 493, 'Designation'), (352, 359, 'Companies worked at'), (337, 351, 'Designation'), (253, 258, 'Graduation Year'), (236, 243, 'Companies worked at'), (219, 234, 'Designation'), (135, 144, 'Location'), (26, 35, 'Location'), (11, 25, 'Designation'), (0, 10, 'Name')]\n",
      "Label:  Skills \tText:  SKILL SET • ASP.NET, C# • QA tools\n",
      "\n",
      "• Coding and modularization • Excellent communication skills\n",
      "\n",
      "• VB, VB.net, ASP • Technical specifications creation\n",
      "\n",
      "• HTML • System backups\n",
      "\n",
      "• Sql server 2005, Oracle • System upgrades\n",
      "\n",
      "• Java/C/C++ • Excellent problem-solving abilities\n",
      "\n",
      "Navas Najeer Koya 3\n",
      "Label:  Location \tText:  Mangalore\n",
      "Label:  Skills \tText:  C# (Less than 1 year), .NET, SQL Server, Css, Html5\n",
      "\n",
      "Label:  Graduation Year \tText:   2014\n",
      "Label:  Location \tText:  Mangalore\n",
      "Label:  Location \tText:  Mangalore\n",
      "Label:  Degree \tText:  Bachelor of Computer Application\n",
      "Label:  Graduation Year \tText:   2014\n",
      "Label:  Companies worked at \tText:  Infosys\n",
      "Label:  Designation \tText:  Test Engineer\n",
      "\n",
      "Label:  Companies worked at \tText:  Infosys\n",
      "Label:  Designation \tText:  Test Engineer\n",
      "\n",
      "Label:  Graduation Year \tText:   2014\n",
      "Label:  Companies worked at \tText:  Infosys\n",
      "Label:  Designation \tText:  System Engineer\n",
      "Label:  Location \tText:  Mangalore\n",
      "Label:  Location \tText:  Mangalore\n",
      "Label:  Designation \tText:  Test Engineer\n",
      "\n",
      "Label:  Name \tText:  Navas Koya\n"
     ]
    }
   ],
   "source": [
    "## store one resume in the variable\n",
    "converted_resume = converted_resumes[42]\n",
    "## find text content and store in variable\n",
    "text = converted_resume[0]\n",
    "## find the entities list and store in variable\n",
    "entities_list = converted_resume[1]\n",
    "## TODO for each entity, print the label, and the text (text content substring pointed to by start and end index)\n",
    "##print(entities_list)\n",
    "print(entities_list[\"entities\"])\n",
    "for entity in entities_list[\"entities\"]:\n",
    "    start = entity[0]\n",
    "    end = entity[1]\n",
    "    label = entity[2]\n",
    "    print(\"Label: \", label, \"\\tText: \", text[start:end])\n",
    "\n"
   ]
  },
  {
   "cell_type": "markdown",
   "metadata": {},
   "source": [
    "##### Print all entities for one converted resume\n",
    "The converted data also has an entity list. You should be able to examine this using similar techniques we have used above on the converted data. In the next code block you will write code that will print all of the entities for one resume. TIP each entity entry in the 'entities' list consists of a start index of the entity in the resume text, an end index, and the entity label. We will do the following:\n",
    "1. Store one converted resume in the 'converted_resume' variable\n",
    "2. Find the entity list in the converted_resume\n",
    "3. Cycle through the entities, and - using the start and end index - print the label of the entity and the value of the entity. This will be the text substring pointed to by the start and end index"
   ]
  },
  {
   "cell_type": "markdown",
   "metadata": {},
   "source": [
    "##### Question: What are some of the entity labels you see? Are there any entity values that seem surprising or particularly interesting? \n",
    "*Answer here*"
   ]
  },
  {
   "cell_type": "markdown",
   "metadata": {},
   "source": [
    "##### Collect unique labels of all entities in dataset\n",
    "Now we are interested in finding out all of the (unique) entity labels which exist in our dataset. Complete and execute the code below to do this."
   ]
  },
  {
   "cell_type": "code",
   "execution_count": null,
   "metadata": {
    "collapsed": true
   },
   "outputs": [],
   "source": [
    "## collect names of all entities in complete resume dataset\n",
    "all_labels = list()\n",
    "for res in converted_resumes:\n",
    "    ## entity list of res\n",
    "    entity_list = None\n",
    "    ## TODO extend all_labels with labels of entities \n",
    "    ##all_labels.           \n",
    "## TODO all_labels is not yet unique. Make the list a set of unique values\n",
    "unique_labels = None\n",
    "## Print unique entity labels\n",
    "print(\"Entity labels: \",unique_labels)"
   ]
  },
  {
   "cell_type": "markdown",
   "metadata": {},
   "source": [
    "Now we see all entity labels in our dataset. Do some of them seem particularly interesting to you? "
   ]
  },
  {
   "cell_type": "markdown",
   "metadata": {},
   "source": [
    "Choose up to 3 Entities from the list that you would like to use for training a named entity recognition model. \n",
    "##### Question: which entities did you choose? \n",
    "*Answer here*"
   ]
  },
  {
   "cell_type": "markdown",
   "metadata": {},
   "source": [
    "##### Validate entities\n",
    "Now we need to check that there is adequate training data for the entities you have chosen. "
   ]
  },
  {
   "cell_type": "code",
   "execution_count": null,
   "metadata": {
    "collapsed": true
   },
   "outputs": [],
   "source": [
    "## TODO store entity label names for the entities you want to work with in an array \n",
    "chosen_entity_label = None\n",
    "## for each chosen entity label, count how many documents have a labeled entity for that label, and how many labeled entities total there are \n",
    "## for that entity\n",
    "for chosen in chosen_entity_label:\n",
    "    found_docs_with_entity = 0\n",
    "    entity_count = 0\n",
    "    for resume in converted_resumes:\n",
    "        entity_list = resume[1][\"entities\"]\n",
    "        _,_,labels = zip(*entity_list)\n",
    "        if chosen in labels:\n",
    "            found_docs_with_entity+=1\n",
    "            entity_count+=len([l for l in labels if l == chosen])\n",
    "    print(\"Docs with {}: {}\".format(chosen,found_docs_with_entity))\n",
    "    print(\"Total count of {}: {}\".format(chosen,entity_count))"
   ]
  },
  {
   "cell_type": "markdown",
   "metadata": {},
   "source": [
    "#####  Question: Is adequate training data available for the entities you have chosen? (there should be at least several hundered examples total of each entity)\n",
    "*Answer here*"
   ]
  },
  {
   "cell_type": "markdown",
   "metadata": {},
   "source": [
    "##### Save converted data for later use\n",
    "We are almost done with the first part of the challenge! One more detail. We need to save the \"converted_resumes\" list so we can load it in the next notebook. We will do the following:\n",
    "1. Store the location we want to save the data to in the 'converted_resumes_path' variable\n",
    "2. Using python's 'open' function and the 'json' module's 'dump' function, save the data to disk. Make sure to create missing directories (if applicable) using python's \"os.makedirs\" function. Save the file with a \".json\" file extension\n",
    "3. Check the filesystem if the file exists and is complete"
   ]
  },
  {
   "cell_type": "code",
   "execution_count": null,
   "metadata": {
    "collapsed": true
   },
   "outputs": [],
   "source": [
    "converted_resumes_path = \"../dataset/converted_resumes.json\"\n",
    "##TODO save converted resumes to path using \"open\" and json's \"dump\" function. "
   ]
  },
  {
   "cell_type": "markdown",
   "metadata": {},
   "source": [
    "### Congratulations!\n",
    "We are done with part one. Now we will go on to train our own NER Models with the dataset and the entities we have chosen. "
   ]
  },
  {
   "cell_type": "code",
   "execution_count": null,
   "metadata": {
    "collapsed": true
   },
   "outputs": [],
   "source": []
  }
 ],
 "metadata": {
  "kernelspec": {
   "display_name": "Python 3",
   "language": "python",
   "name": "python3"
  },
  "language_info": {
   "codemirror_mode": {
    "name": "ipython",
    "version": 3
   },
   "file_extension": ".py",
   "mimetype": "text/x-python",
   "name": "python",
   "nbconvert_exporter": "python",
   "pygments_lexer": "ipython3",
   "version": "3.7.3"
  }
 },
 "nbformat": 4,
 "nbformat_minor": 2
}
