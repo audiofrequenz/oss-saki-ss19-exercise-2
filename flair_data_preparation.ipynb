{
 "cells": [
  {
   "cell_type": "code",
   "execution_count": 0,
   "metadata": {
    "colab": {},
    "colab_type": "code",
    "id": "xJmUdwCDJQQz"
   },
   "outputs": [],
   "source": [
    "from google.colab import drive\n",
    "drive.mount('/content/gdrive')"
   ]
  },
  {
   "cell_type": "code",
   "execution_count": 0,
   "metadata": {
    "colab": {},
    "colab_type": "code",
    "id": "KIZk8yz8KJsM"
   },
   "outputs": [],
   "source": [
    "import os\n",
    "os.chdir(\"/content/gdrive/My Drive/SAKI_2019/dataset\") "
   ]
  },
  {
   "cell_type": "code",
   "execution_count": 0,
   "metadata": {
    "colab": {},
    "colab_type": "code",
    "id": "zTcnMHvrKM0f"
   },
   "outputs": [],
   "source": [
    "# download flair library #\n",
    "! pip install flair"
   ]
  },
  {
   "cell_type": "code",
   "execution_count": 0,
   "metadata": {
    "colab": {},
    "colab_type": "code",
    "id": "5h_89FPHKn7M"
   },
   "outputs": [],
   "source": [
    "from flair.data import Corpus\n",
    "from flair.datasets import WIKINER_ENGLISH"
   ]
  },
  {
   "cell_type": "code",
   "execution_count": 0,
   "metadata": {
    "colab": {},
    "colab_type": "code",
    "id": "mCyfS290Kp7a"
   },
   "outputs": [],
   "source": [
    "# 1. get the corpus\n",
    "wikiner_corpus: Corpus = WIKINER_ENGLISH().downsample(0.1)\n",
    "print(wikiner_corpus)\n",
    "# 3. make the tag dictionary from the corpus\n",
    "tag_dictionary = corpus.make_tag_dictionary(tag_type='ner')\n",
    "print(tag_dictionary.idx2item)"
   ]
  },
  {
   "cell_type": "code",
   "execution_count": 0,
   "metadata": {
    "colab": {},
    "colab_type": "code",
    "id": "Xz5_TVavMYCo"
   },
   "outputs": [],
   "source": [
    "print(wikiner_corpus.train[73])\n",
    "print(wikiner_corpus.train[73].to_tagged_string())"
   ]
  },
  {
   "cell_type": "code",
   "execution_count": 0,
   "metadata": {
    "colab": {},
    "colab_type": "code",
    "id": "fCS7O0RxRNUA"
   },
   "outputs": [],
   "source": [
    "from flair.data_fetcher import NLPTaskDataFetcher\n",
    "\n",
    "downsample = 1.0 # 1.0 is full data, try a much smaller number like 0.01 to test run the code\n",
    "data_folder = '/content/gdrive/My Drive/SAKI_2019/dataset/flair' \n",
    "columns = {0: 'text', 1: 'ner'}\n",
    "\n",
    "# 1. get the corpus\n",
    "corpus: Corpus = NLPTaskDataFetcher.load_column_corpus(data_folder, columns,\n",
    "                                                             train_file='train_res_bilou_2.txt',\n",
    "                                                             test_file='test_res_bilou_2.txt',\n",
    "                                                           dev_file=None).downsample(downsample)\n",
    "print(corpus)\n",
    "\n",
    "# 3. make the tag dictionary from the corpus\n",
    "tag_dictionary = corpus.make_tag_dictionary(tag_type='ner')\n",
    "print(tag_dictionary.idx2item)\n"
   ]
  },
  {
   "cell_type": "code",
   "execution_count": 0,
   "metadata": {
    "colab": {},
    "colab_type": "code",
    "id": "wK4wyRrnjc6B"
   },
   "outputs": [],
   "source": [
    "for sent in corpus.test:\n",
    "  print(sent.to_tagged_string())"
   ]
  },
  {
   "cell_type": "code",
   "execution_count": 0,
   "metadata": {
    "colab": {},
    "colab_type": "code",
    "id": "XfgnZTHlmGcC"
   },
   "outputs": [],
   "source": [
    "sent = corpus.test[0]\n",
    "for tok in sent.tokens:\n",
    "  print(tok.text)\n",
    "  for k in tok.tags:\n",
    "    print(\"   \"+k+\" \"+tok.tags[k].value)"
   ]
  }
 ],
 "metadata": {
  "accelerator": "GPU",
  "colab": {
   "name": "flair_data_preparation.ipynb",
   "provenance": [],
   "version": "0.3.2"
  },
  "kernelspec": {
   "display_name": "Python 3",
   "language": "python",
   "name": "python3"
  },
  "language_info": {
   "codemirror_mode": {
    "name": "ipython",
    "version": 3
   },
   "file_extension": ".py",
   "mimetype": "text/x-python",
   "name": "python",
   "nbconvert_exporter": "python",
   "pygments_lexer": "ipython3",
   "version": "3.7.3"
  }
 },
 "nbformat": 4,
 "nbformat_minor": 1
}
