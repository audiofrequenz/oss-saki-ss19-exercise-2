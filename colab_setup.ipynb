{
 "cells": [
  {
   "cell_type": "markdown",
   "metadata": {
    "colab_type": "text",
    "id": "zkx88o1lSMPs"
   },
   "source": [
    "## 1. Creating Folder on Google Drive\n",
    "Since Colab is working on your own Google Drive, we first need to specify the folder we will work.   \n",
    "![替代文字](https://cdn-images-1.medium.com/max/1600/1*7XLisHAnGGnflIYyqQja8Q.jpeg)\n",
    "\n",
    "## 2. Creating New Colab Notebook\n",
    "1. Create a new notebook via **Right click > More > Colaboratory**\n",
    "![替代文字](https://cdn-images-1.medium.com/max/1600/1*7XLisHAnGGnflIYyqQja8Q.jpeg)\n",
    "\n",
    "\n",
    "2. **Rename** notebook by means of clicking the file name.\n",
    "![替代文字](https://cdn-images-1.medium.com/max/1600/1*emOY5nIyYphREEqo6e86jg.png)\n",
    "\n",
    "\n",
    "## 3.  Setting Free GPU\n",
    "Fellow **Edit > Notebook settings > Runtime type > Python 3** and **select GPU as Hardware accelerator**.\n",
    "![替代文字](https://cdn-images-1.medium.com/max/1600/1*WNovJnpGMOys8Rv7YIsZzA.png)\n",
    "\n",
    "## 4. Mounting Google Drive locally\n",
    "Run the cell, click the link, copy the code on the page, paste it in the box, hit enter\n",
    "\n"
   ]
  },
  {
   "cell_type": "code",
   "execution_count": 0,
   "metadata": {
    "colab": {
     "base_uri": "https://localhost:8080/",
     "height": 34
    },
    "colab_type": "code",
    "id": "jPcKr1UCzRpi",
    "outputId": "85c9ef68-693f-4c40-aea9-d8eab157b796"
   },
   "outputs": [
    {
     "name": "stdout",
     "output_type": "stream",
     "text": [
      "Mounted at /content/gdrive\n"
     ]
    }
   ],
   "source": [
    "from google.colab import drive\n",
    "drive.mount('/content/gdrive')"
   ]
  },
  {
   "cell_type": "markdown",
   "metadata": {
    "colab_type": "text",
    "id": "owABdWhshUDo"
   },
   "source": [
    "## 5. Check Memory for Colab GPU\n",
    "Before you start, you can check the memory condition for your current GPU on Colab with below codes:"
   ]
  },
  {
   "cell_type": "code",
   "execution_count": 0,
   "metadata": {
    "colab": {
     "base_uri": "https://localhost:8080/",
     "height": 218
    },
    "colab_type": "code",
    "id": "4xk1e21fdhVB",
    "outputId": "5b389521-05cd-478e-9167-ee1f3c4d641e"
   },
   "outputs": [
    {
     "name": "stdout",
     "output_type": "stream",
     "text": [
      "Collecting gputil\n",
      "  Downloading https://files.pythonhosted.org/packages/ed/0e/5c61eedde9f6c87713e89d794f01e378cfd9565847d4576fa627d758c554/GPUtil-1.4.0.tar.gz\n",
      "Building wheels for collected packages: gputil\n",
      "  Building wheel for gputil (setup.py) ... \u001b[?25ldone\n",
      "\u001b[?25h  Stored in directory: /root/.cache/pip/wheels/3d/77/07/80562de4bb0786e5ea186911a2c831fdd0018bda69beab71fd\n",
      "Successfully built gputil\n",
      "Installing collected packages: gputil\n",
      "Successfully installed gputil-1.4.0\n",
      "Requirement already satisfied: psutil in /usr/local/lib/python3.6/dist-packages (5.4.8)\n",
      "Requirement already satisfied: humanize in /usr/local/lib/python3.6/dist-packages (0.5.1)\n",
      "Gen RAM Free: 10.0 GB  I Proc size: 118.8 MB\n",
      "GPU RAM Free: 14222MB | Used: 857MB | Util   6% | Total 15079MB\n"
     ]
    }
   ],
   "source": [
    "# To view the free memory and used memory for GPU\n",
    "!ln -sf /opt/bin/nvidia-smi /usr/bin/nvidia-smi\n",
    "!pip install gputil\n",
    "!pip install psutil\n",
    "!pip install humanize\n",
    "\n",
    "import psutil\n",
    "import humanize\n",
    "import os\n",
    "import GPUtil as GPU\n",
    "GPUs = GPU.getGPUs()\n",
    "gpu = GPUs[0]\n",
    "\n",
    "def printm():\n",
    "  process = psutil.Process(os.getpid())\n",
    "  print(\"Gen RAM Free: \" + humanize.naturalsize( psutil.virtual_memory().available ), \" I Proc size: \" + humanize.naturalsize( process.memory_info().rss))\n",
    "  print('GPU RAM Free: {0:.0f}MB | Used: {1:.0f}MB | Util {2:3.0f}% | Total {3:.0f}MB'.format(gpu.memoryFree, gpu.memoryUsed, gpu.memoryUtil*100, gpu.memoryTotal))\n",
    "\n",
    "printm()"
   ]
  },
  {
   "cell_type": "markdown",
   "metadata": {
    "colab_type": "text",
    "id": "TZz1AaDszmUh"
   },
   "source": [
    "## 6. Now you can explore your Google Drive folders"
   ]
  },
  {
   "cell_type": "code",
   "execution_count": 0,
   "metadata": {
    "colab": {},
    "colab_type": "code",
    "id": "moQR1mtczkDo"
   },
   "outputs": [],
   "source": [
    "## Bash commands can be run by prefixing the command with ‘!’.\n",
    "!ls \"/content/drive/My Drive/\""
   ]
  },
  {
   "cell_type": "markdown",
   "metadata": {
    "colab_type": "text",
    "id": "V74mtjJGz0TB"
   },
   "source": [
    "## 7. Upload files from your local file system\n",
    "1. Create a dataset folder in your own Google drive, eg. a floder named \"flair\"\n",
    "2. Upload your training and test data sets in this folder, eg. \"train.txt\", \"test.txt\""
   ]
  },
  {
   "cell_type": "markdown",
   "metadata": {
    "colab_type": "text",
    "id": "isdHX1rp2Dqn"
   },
   "source": [
    "## 8. Change the current working directory to the given path."
   ]
  },
  {
   "cell_type": "code",
   "execution_count": 0,
   "metadata": {
    "colab": {},
    "colab_type": "code",
    "id": "JxTJP16A2NXZ"
   },
   "outputs": [],
   "source": [
    "import os\n",
    "os.chdir(\"/content/gdrive/My Drive/flair\") "
   ]
  },
  {
   "cell_type": "markdown",
   "metadata": {
    "colab_type": "text",
    "id": "VdLn57KDkGHO"
   },
   "source": [
    "## 9. Download Flair library\n",
    "\n",
    "Google colab does not have Flair installed by default, but it can be easily installed using the Python package manager **pip**. This will take a minute to install."
   ]
  },
  {
   "cell_type": "code",
   "execution_count": 0,
   "metadata": {
    "colab": {},
    "colab_type": "code",
    "id": "UoxAXOybiR47"
   },
   "outputs": [],
   "source": [
    "! pip install flair"
   ]
  },
  {
   "cell_type": "markdown",
   "metadata": {
    "colab_type": "text",
    "id": "6DKL93yJ3X0k"
   },
   "source": [
    "## 10. Now you can start your exploration with Flair on Google Colab GPU"
   ]
  }
 ],
 "metadata": {
  "accelerator": "GPU",
  "colab": {
   "name": "Notebook_Colab_GPU.ipynb",
   "provenance": [],
   "version": "0.3.2"
  },
  "kernelspec": {
   "display_name": "Python 3",
   "language": "python",
   "name": "python3"
  },
  "language_info": {
   "codemirror_mode": {
    "name": "ipython",
    "version": 3
   },
   "file_extension": ".py",
   "mimetype": "text/x-python",
   "name": "python",
   "nbconvert_exporter": "python",
   "pygments_lexer": "ipython3",
   "version": "3.7.3"
  }
 },
 "nbformat": 4,
 "nbformat_minor": 1
}
