{
 "cells": [
  {
   "cell_type": "markdown",
   "metadata": {
    "collapsed": true
   },
   "source": [
    "# Resume NER\n",
    "## Extract Information from Resumes using NER (Named Entity Recognition)"
   ]
  },
  {
   "cell_type": "markdown",
   "metadata": {},
   "source": [
    "### Part 2 - NER with Spacy\n",
    "In this second part of the challenge, we will be using the preprocessed data from part one to start training NER models. We will be using spacy (https://spacy.io/) here to \"get our feet wet\" with NER, as training spacy can be reasonably done on our laptops and does not yet necessarily require a GPU. Spacy is a powerful, effective, and resource-efficient NLP library - It might surprise us with its performance on the challenge!\n",
    "\n",
    "We will run spacy's pretrained models on our data to get a feel for NER, and then we will perform some additional preprocessing on our data before we start training our own NER model using the labelled entities we have identified in part one. \n",
    "We will also explore evaluation metrics for NER, and decide how we want to quantify the performance of our trained models. \n",
    "\n",
    "* *If you need help setting up python or running this notebook, please get help from the  assistants to the professor*\n",
    "* *It might be helpful to try your code out first in a python ide like pycharm before copying it an running it here in this notebook*\n",
    "* *For solving the programming tasks, use the python reference linked here (Help->Python Reference) as well as Web-searches.* "
   ]
  },
  {
   "cell_type": "markdown",
   "metadata": {},
   "source": [
    "##### Reload preprocessed data\n",
    "Here, we will load the data we saved in part one and save it to a variable. Provide code below to load the data and store it as a list in a variable. (Hint - use 'open' and the json module)"
   ]
  },
  {
   "cell_type": "code",
   "execution_count": 108,
   "metadata": {},
   "outputs": [
    {
     "name": "stdout",
     "output_type": "stream",
     "text": [
      "690\n"
     ]
    }
   ],
   "source": [
    "## import json module\n",
    "import json\n",
    "path = \"./data/converted_resumes.json\"\n",
    "## TODO open file load as json and store in \"resumes\" variable\n",
    "with open(path) as json_file:  \n",
    "    resumes = json.load(json_file)\n",
    "## TODO print length of loaded resumes list to be sure everything ok\n",
    "print(len(resumes))"
   ]
  },
  {
   "cell_type": "markdown",
   "metadata": {},
   "source": [
    "##### Take Spacy for a spin\n",
    "Before we train our own NER model to recognize the resume-specific entities we want to capture, let's see how spacy's pretrained NER models do on our data. These pretrained models can't recognize our entities yet, but let's see how they do. Run the next code block to load spacy's English language model \n"
   ]
  },
  {
   "cell_type": "code",
   "execution_count": 109,
   "metadata": {
    "scrolled": true
   },
   "outputs": [
    {
     "name": "stdout",
     "output_type": "stream",
     "text": [
      "<spacy.lang.en.English object at 0x0000020F6DA5DE10>\n"
     ]
    }
   ],
   "source": [
    "import spacy\n",
    "nlp = spacy.load('en')\n",
    "print(nlp)"
   ]
  },
  {
   "cell_type": "markdown",
   "metadata": {},
   "source": [
    "Now we get the EntityRecognizer in the loaded nlp pipeline and display the labels it supports"
   ]
  },
  {
   "cell_type": "code",
   "execution_count": 110,
   "metadata": {},
   "outputs": [
    {
     "name": "stdout",
     "output_type": "stream",
     "text": [
      "('DATE', 'PERSON', 'NORP', 'TIME', 'PERCENT', 'ORG', 'EVENT', 'LAW', 'WORK_OF_ART', 'LANGUAGE', 'QUANTITY', 'FAC', 'GPE', 'MONEY', 'PRODUCT', 'LOC', 'CARDINAL', 'ORDINAL')\n"
     ]
    }
   ],
   "source": [
    "ner = nlp.get_pipe('ner')\n",
    "labels = ner.labels\n",
    "print(labels)"
   ]
  },
  {
   "cell_type": "markdown",
   "metadata": {},
   "source": [
    "##### Question: What do the 'GPE', 'FAC' and 'NORP' labels stand for? (Tipp: use either the spacy.explain method, or google the spacy.io api docs) \n",
    "*Answer here*\n",
    "\n",
    "- GPE: Countries, Cities, States\n",
    "- FAC: Buildings, Airports, Highways, Bridges, etc.\n",
    "- NORP: Nationalities or religious or political groups"
   ]
  },
  {
   "cell_type": "code",
   "execution_count": 111,
   "metadata": {},
   "outputs": [
    {
     "name": "stdout",
     "output_type": "stream",
     "text": [
      "Countries, cities, states\n",
      "Buildings, airports, highways, bridges, etc.\n",
      "Nationalities or religious or political groups\n"
     ]
    }
   ],
   "source": [
    "### TODO  if you choose to use spacy's 'explain' method to get the answer to the question above, provide your code here\n",
    "## print description of entities using spacy explain\n",
    "print(spacy.explain(\"GPE\"))\n",
    "print(spacy.explain(\"FAC\"))\n",
    "print(spacy.explain(\"NORP\"))"
   ]
  },
  {
   "cell_type": "markdown",
   "metadata": {},
   "source": [
    "As we can see, the entities are different than the entities we will train our custom model on. \n",
    "##### Question: what entities do you think this model will find in an example resume?\n",
    "*Answer here*\n",
    "\n",
    "Things like College Name and Location"
   ]
  },
  {
   "cell_type": "markdown",
   "metadata": {},
   "source": [
    "Now we will work with one of our resumes, and get spacy to tell us what entities it recognizes. Complete the code block below to get a single resume text out of our resume list. "
   ]
  },
  {
   "cell_type": "code",
   "execution_count": 112,
   "metadata": {},
   "outputs": [
    {
     "name": "stdout",
     "output_type": "stream",
     "text": [
      "Sandeep Mahadik\n",
      "Warehouse Manager/Logistics Manager - Barrick Trade group\n",
      "Thane, Maharashtra - Email me on Indeed: indeed.com/r/Sandeep-\n",
      "Mahadik/4c9901ae64c8e1f2\n",
      "To become successful in the field of Logistics, SCM, warehousing industry\n",
      "WORK EXPERIENCE\n",
      "Warehouse Manager/Logistics Manager\n",
      "Barrick Trade group -  Luanda, AO -\n",
      "June 2012 to Present\n",
      "Roles and Responsblities- Responsible for Supervises and coordinates activities of operations of a\n",
      "warehouse with wide range of operational responsibilities. Work involves day-to-day warehouse\n",
      "operations including Shipping and Receiving (local & import), effective manpower allocation,\n",
      "stock taking and inventory maintenance.\n",
      "¬ Provides customer support in order taking and liaising\n",
      "¬ Receives daily incoming shipments - local and international imports (Average 30 -50\n",
      "containers)\n",
      "¬ Verifies and approves the various stock transactions and documents\n",
      "¬ Compiles and reports the near expiry goods stock\n",
      "¬ Verifies the damaged goods and puts up the claims to Insurance Company/Suppliers\n",
      "and follows up the claim settlement.\n",
      "¬ Organizes perpetual inventory check\n",
      "¬ Supervises the FIFO compliance on inbound and outbound shipments\n",
      "¬ Plans, arranges and executes inter branch stock transfers based on the schedules\n",
      "¬ Coordinates with Procurement department on incoming stocks and coordinates the space\n",
      "management proactively\n",
      "¬ Allocates warehouse space for stock rotation and space optimization.\n",
      "¬ Checks SKU in according with QIP requirements\n",
      "¬ Assesses operational efficiency of the warehouse on regular basis and report the\n",
      "findings to the management\n",
      "https://www.indeed.com/r/Sandeep-Mahadik/4c9901ae64c8e1f2?isid=rex-download&ikw=download-top&co=IN\n",
      "https://www.indeed.com/r/Sandeep-Mahadik/4c9901ae64c8e1f2?isid=rex-download&ikw=download-top&co=IN\n",
      "\n",
      "¬ Conducts periodic studies and recommends measures to improve productivity of the\n",
      "warehouse\n",
      "¬ Prepares performance evaluation and appraisal for warehouse staff and recommends\n",
      "employees for training, advancement and benefit programs\n",
      "¬ Supervises and maintains warehouse safety program.\n",
      "¬ Works closely with the Manager for budgetary controls over the warehouse operation\n",
      "¬ Supervises the daily KPI's and provides feedback to all members of the operation\n",
      "¬ Schedules and manages the warehouse operations through efficient manpower\n",
      "planning and deployment of the warehouse team\n",
      "¬ Supervises the fleet management, route optimization, QIP, Safety and completion of\n",
      "tasks on schedule and report to National Warehouse Manager.\n",
      "¬ Manages and allocates warehouse space for stock rotation and space optimization\n",
      "¬ Promotes team spirit and works collaboratively to achieve team goals\n",
      "¬ Ensures that the warehouse pallet capacity is fully occupied with external and internal\n",
      "customers / maintain minimum space allocation on company/customer wise\n",
      "Sales & Operations Executive\n",
      "V Logis India Pvt Ltd -  Mumbai, Maharashtra -\n",
      "August 2010 to May 2012\n",
      "V Logis India Pvt Ltd. - Group V is a rapidly-growing, professionally-managed transport and\n",
      "logistics services group, serving all market segments across India. The core division V-Trans offers\n",
      "surface transportation services, V-Xpress offers express cargo services and V-Logis offers ware\n",
      "housing and supply chain solution. Built on enterprise, hard work, values and integrity, the group\n",
      "has grown year on year from a single product to multiple value added services with an undiluted\n",
      "focus on core competencies. V Logis is providing 3PL services for 15 clients (Chemical/FMCG/\n",
      "Telecom) in their 60000 sq ft Bhiwandi w/h.\n",
      "Designation:- Executive - Sales & Operations.\n",
      "Job Profile-\n",
      "➢ Reporting to the National Manager & Director on various\n",
      "Sales & Operational related matters.\n",
      "➢ Work in conjunction with various parties such for business\n",
      "development, field support & customer support to handle\n",
      "complaints & ensure support plans are in place to maintain\n",
      "long term customer relationship.\n",
      "➢ Raising Monthly service Bills to clients & follow up for outstanding.\n",
      "\n",
      "➢ Maintaining good relation with vendor/landlord/excise authorities and customers.\n",
      "➢ Implementation & ensuring compliance of standard warehousing practices and SOP.\n",
      "➢ Ensuring Good House Keeping Practices\n",
      "➢ Give training to labor for safety as well as warehousing norms\n",
      "➢ Monitoring and improving the overall warehouse activities.\n",
      "Other Responsibilities:-\n",
      "➢ Planning and execution of Internal operational related projects.\n",
      "Executive - Sales\n",
      "Deccan 360 Pvt Ltd -  Mumbai, Maharashtra -\n",
      "January 2010 to August 2010\n",
      "Job Profile-\n",
      "➢ Follow up to the customer for Business Development as well as Payment.\n",
      "➢ Generating Revenue from Assigning Territory.\n",
      "➢ Making cold calls\n",
      "➢ Making of Business Plans for Monthly basis & review it's at the end of Month.\n",
      "➢ Generating MIS Report on weekly & Monthly Basis.\n",
      "Management Trainee\n",
      "Credence Logistics Ltd -  Mumbai, Maharashtra -\n",
      "March 2008 to December 2009\n",
      "Designation:- Management Trainee.\n",
      "Job Profile-\n",
      "➢ Working as sales coordinator for all India level.\n",
      "➢ Follow up to the customer for Business Development as well as Payment.\n",
      "➢ Generating Revenue from Assigning Territory.\n",
      "➢ Assisting to General Manager Sales & Marketing in his daily job.\n",
      "➢ Implementation of Sales CRM to all India level.\n",
      "➢ Making of Business Plans for Monthly basis & review it's at the end of Month.\n",
      "➢ Business Planning, corporate communications.\n",
      "➢ Generating MIS Report on weekly & Monthly Basis.\n",
      "➢ Understanding and the awareness of competitor's activities and surrounding areas.\n",
      "➢ Maintain the customer data in accordance to prescribed format.\n",
      "➢ Participating in all India Level Transportation Tenders.\n",
      "Executive - Sales & Operations\n",
      "Transolution India Pvt.Ltd -  Mumbai, Maharashtra -\n",
      "August 2006 to February 2008\n",
      "Job Profile-\n",
      "\n",
      "➢ Arrange the vehicle as per the requirement of the of clients.\n",
      "➢ Vendor Management\n",
      "➢ Develop New Business through new customers\n",
      "➢ Follow up to the existing customers for Business\n",
      "➢ Solve their operation related queries & give them status of Consignments.\n",
      "➢ Coordinate with the all India operation Branches for the various Issues & Business\n",
      "➢ Generating various report & MIS for Branches.\n",
      "G.P.GOSWAMY (CHA) -\n",
      "June 2005 to July 2005\n",
      "Short Description Documentation on Import-Export,\n",
      "EDUCATION\n",
      "MBA in IB\n",
      "INSTITUTE OF INTERNATIONAL BUSINEES AND RESEARCH -  Thane, Maharashtra\n",
      "May 2006\n",
      "B.Com\n",
      "Shivaji University -  Kolhapur, Maharashtra\n",
      "May 2003\n",
      "SKILLS\n",
      "Excel (Less than 1 year), MS word (Less than 1 year), WORD (Less than 1 year)\n",
      "ADDITIONAL INFORMATION\n",
      "Technical Skills:\n",
      "System, Applications MS word, Power point, Excel, Ms-Office, Internet technology\n"
     ]
    }
   ],
   "source": [
    "### TODO get a single resume text and print it out\n",
    "restxt = resumes[500][0]\n",
    "## print it out, removing extraneous spaces\n",
    "print(\"\\n\".join(restxt.split('\\n\\n')))"
   ]
  },
  {
   "cell_type": "markdown",
   "metadata": {},
   "source": [
    "Extracting entities with spacy is easy with a pretrained model. We simply call the model (here 'nlp') with our text to get a spacy Document. See https://spacy.io/api/doc for more detail. \n",
    "\n",
    "Execute the code below to process the resume txt."
   ]
  },
  {
   "cell_type": "code",
   "execution_count": 113,
   "metadata": {},
   "outputs": [],
   "source": [
    "doc = nlp(restxt)"
   ]
  },
  {
   "cell_type": "markdown",
   "metadata": {},
   "source": [
    "The doc object has a list of entities predicted by spacy 'ents'. We would like to loop through all of these entities and print their label and associated text to see what spacy predicted for this resume.\n",
    "\n",
    "Complete the code below to do this. You will probably need to google the spacy api docs to find the solution (Tipp: look for 'Doc.ents'). Also, trying code in your ide (for example pycharm) before copying it here might help with exploring and debugging to find the solution. "
   ]
  },
  {
   "cell_type": "code",
   "execution_count": 114,
   "metadata": {},
   "outputs": [
    {
     "name": "stdout",
     "output_type": "stream",
     "text": [
      "PERSON\n",
      "Sandeep Mahadik\n",
      "PERSON\n",
      "Warehouse Manager\n",
      "ORG\n",
      "Barrick Trade\n",
      "ORG\n",
      "Maharashtra - Email\n",
      "ORG\n",
      "Logistics\n",
      "ORG\n",
      "SCM\n",
      "ORG\n",
      "Barrick Trade\n",
      "GPE\n",
      "AO\n",
      "DATE\n",
      "June 2012\n",
      "PERSON\n",
      "Supervises\n",
      "ORG\n",
      "Shipping and Receiving\n",
      "NORP\n",
      "&\n",
      "ORG\n",
      "Provides\n",
      "DATE\n",
      "daily\n",
      "CARDINAL\n",
      "30\n",
      "ORG\n",
      "Insurance Company/Suppliers\n",
      "ORG\n",
      "FIFO\n",
      "PERSON\n",
      "¬ Coordinates\n",
      "PERSON\n",
      "¬ Checks SKU\n",
      "ORG\n",
      "QIP\n",
      "PERSON\n",
      "¬ Supervises\n",
      "PERSON\n",
      "¬ Works\n",
      "PERSON\n",
      "Supervises\n",
      "PERSON\n",
      "KPI\n",
      "PERSON\n",
      "¬ Schedules\n",
      "ORG\n",
      "QIP\n",
      "ORG\n",
      "Safety\n",
      "ORG\n",
      "National Warehouse\n",
      "PERSON\n",
      "Manages\n",
      "ORG\n",
      "Sales & Operations\n",
      "PERSON\n",
      "Pvt Ltd\n",
      "GPE\n",
      "Mumbai\n",
      "ORG\n",
      "Maharashtra -\n",
      "\n",
      "\n",
      "DATE\n",
      "August 2010\n",
      "DATE\n",
      "May 2012\n",
      "ORG\n",
      "India Pvt Ltd.\n",
      "GPE\n",
      "India\n",
      "PRODUCT\n",
      "V-Xpress\n",
      "PRODUCT\n",
      "V-Logis\n",
      "DATE\n",
      "year\n",
      "DATE\n",
      "year\n",
      "PERSON\n",
      "Logis\n",
      "CARDINAL\n",
      "15\n",
      "ORG\n",
      "Chemical/FMCG/\n",
      "Telecom\n",
      "PRODUCT\n",
      "60000\n",
      "ORG\n",
      "Executive - Sales & Operations\n",
      "PERSON\n",
      "Job Profile-\n",
      "\n",
      "\n",
      "ORG\n",
      "Sales & Operational\n",
      "ORG\n",
      "Bills\n",
      "CARDINAL\n",
      "➢\n",
      "ORG\n",
      "Implementation &\n",
      "ORG\n",
      "SOP\n",
      "PERSON\n",
      "➢\n",
      "NORP\n",
      "Deccan\n",
      "CARDINAL\n",
      "360\n",
      "PERSON\n",
      "Pvt Ltd -  \n",
      "GPE\n",
      "Mumbai\n",
      "ORG\n",
      "Maharashtra\n",
      "DATE\n",
      "January 2010 to August 2010\n",
      "ORG\n",
      "Business Development\n",
      "ORG\n",
      "Payment\n",
      "GPE\n",
      "Assigning Territory\n",
      "CARDINAL\n",
      "➢\n",
      "PERSON\n",
      "➢\n",
      "DATE\n",
      "Monthly\n",
      "ORG\n",
      "&\n",
      "DATE\n",
      "the end of Month\n",
      "DATE\n",
      "weekly\n",
      "ORG\n",
      "& Monthly Basis\n",
      "PERSON\n",
      "Management Trainee\n",
      "GPE\n",
      "Mumbai\n",
      "ORG\n",
      "Maharashtra -\n",
      "\n",
      "\n",
      "DATE\n",
      "March 2008 to December 2009\n",
      "CARDINAL\n",
      "Designation:-\n",
      "PERSON\n",
      "Management Trainee\n",
      "PERSON\n",
      "Job Profile-\n",
      "\n",
      "\n",
      "CARDINAL\n",
      "➢\n",
      "GPE\n",
      "India\n",
      "ORG\n",
      "Business Development\n",
      "ORG\n",
      "Payment\n",
      "GPE\n",
      "Assigning Territory\n",
      "CARDINAL\n",
      "➢\n",
      "DATE\n",
      "daily\n",
      "GPE\n",
      "India\n",
      "DATE\n",
      "Monthly\n",
      "ORG\n",
      "&\n",
      "DATE\n",
      "the end of Month\n",
      "ORG\n",
      "➢ Business Planning\n",
      "ORG\n",
      "Generating MIS Report\n",
      "DATE\n",
      "weekly\n",
      "ORG\n",
      "& Monthly Basis\n",
      "ORG\n",
      "India Level Transportation Tenders\n",
      "ORG\n",
      "Executive - Sales & Operations\n",
      "ORG\n",
      "Maharashtra -\n",
      "\n",
      "\n",
      "DATE\n",
      "August 2006 to February 2008\n",
      "ORG\n",
      "➢ Vendor Management\n",
      "ORG\n",
      "Consignments\n",
      "GPE\n",
      "India\n",
      "GPE\n",
      "Branches\n",
      "ORG\n",
      "Issues & Business\n",
      "ORG\n",
      "& MIS for Branches\n",
      "PERSON\n",
      "G.P.GOSWAMY\n",
      "ORG\n",
      "CHA\n",
      "DATE\n",
      "June 2005 to July 2005\n",
      "ORG\n",
      "Maharashtra\n",
      "DATE\n",
      "May 2006\n",
      "ORG\n",
      "B.Com\n",
      "\n",
      "\n",
      "ORG\n",
      "Maharashtra\n",
      "DATE\n",
      "May 2003\n",
      "PERSON\n",
      "Excel\n",
      "DATE\n",
      "Less than 1 year\n",
      "ORG\n",
      "WORD\n",
      "DATE\n",
      "Less than 1 year\n",
      "PERSON\n",
      "Applications\n",
      "PRODUCT\n",
      "Excel\n",
      "ORG\n",
      "Ms-Office\n"
     ]
    }
   ],
   "source": [
    "##TODO loop through the doc's entities, and print the label and text for each entity found. \n",
    "for e in doc.ents:\n",
    "    print(e.label_)\n",
    "    print(e.text)"
   ]
  },
  {
   "cell_type": "markdown",
   "metadata": {},
   "source": [
    "##### Questions: What is your first impression of spacy's NER based on the results above? Does it seem accurate/powerfull?\n",
    "##### Does it make many mistakes? Do some entity types seem more accurate than others? \n",
    "*Answers here*\n",
    "\n",
    "It seems not very accurate, there are a lot of misstakes made.\n",
    "Some of the entity types seem more accurate than others, for example: Date, GPE, Cardinal"
   ]
  },
  {
   "cell_type": "markdown",
   "metadata": {},
   "source": [
    "Now as a comparison, we will list the entities contained in the resume's original annotated training data (remember, the existing annotations were created by a human-annotator, and not predicted by a machine like the entities predicted above) \n",
    "\n",
    "Complete the code below to do the following: \n",
    "* Access the 'entities' list of the example resume you chose, loop through the entities and print them out. \n",
    "* *Tip: one entity in the list is a tuple with the following structure: (12,1222,\"label\") where the first element is the start index of the entity in the resume text, the second element is the end index, and the third element is the label.\n",
    "* Use this Tip to print out a formatted list of entities \n",
    "\n"
   ]
  },
  {
   "cell_type": "code",
   "execution_count": 115,
   "metadata": {},
   "outputs": [
    {
     "name": "stdout",
     "output_type": "stream",
     "text": [
      "Skills System, Applications MS word, Power point, Excel, Ms-Office, Internet technology\n",
      "Skills \n",
      "Excel (Less than 1 year), MS word (Less than 1 year), WORD (Less than 1 year)\n",
      "Graduation Year May 2003\n",
      "College Name Shivaji University\n",
      "Degree B.Com\n",
      "Graduation Year May 2006\n",
      "Location Thane\n",
      "College Name INSTITUTE OF INTERNATIONAL BUSINEES AND RESEARCH\n",
      "Degree MBA in IB\n",
      "Years of Experience June 2005 to July 2005\n",
      "Companies worked at G.P.GOSWAMY (CHA)\n",
      "Years of Experience August 2006 to February 2008\n",
      "Companies worked at Transolution India Pvt.Ltd\n",
      "Designation Executive - Sales & Operations\n",
      "Designation Executive - Sales\n",
      "Designation Management Trainee\n",
      "Years of Experience March 2008 to December 2009\n",
      "Companies worked at Credence Logistics Ltd\n",
      "Designation Management Trainee\n",
      "Years of Experience January 2010 to August 2010\n",
      "Companies worked at Deccan 360 Pvt Ltd \n",
      "Designation Executive - Sales\n",
      "Designation Executive - Sales & Operations\n",
      "Designation Executive - Sales\n",
      "Companies worked at V Logis India Pvt Ltd\n",
      "Years of Experience August 2010 to May 2012\n",
      "Companies worked at V Logis India Pvt Ltd\n",
      "Designation Sales & Operations Executive\n",
      "Companies worked at Barrick Trade group\n",
      "Designation Warehouse Manager/Logistics Manager\n",
      "Email Address indeed.com/r/Sandeep-\n",
      "Mahadik/4c9901ae64c8e1f2\n",
      "Location Thane\n",
      "Companies worked at Barrick Trade group\n",
      "Designation Warehouse Manager/Logistics Manager\n",
      "Name Sandeep Mahadik\n"
     ]
    }
   ],
   "source": [
    "##TODO print original entities for one resume\n",
    "res = resumes[500]\n",
    "restext = res[0] \n",
    "labeled_ents = res[1][\"entities\"]\n",
    "#print(labeled_ents)\n",
    "## TDOD print out formatted list of entity labels and text\n",
    "for ent in labeled_ents:\n",
    "    print(\"{} {}\".format(ent[2], restext[ent[0]:ent[1]]))"
   ]
  },
  {
   "cell_type": "markdown",
   "metadata": {},
   "source": [
    "As we already know, the annotated entities in the training data are different than the entities spacy can recognize with it's pretrainied models, so we need to train a custom NER model. We will get started with that now. "
   ]
  },
  {
   "cell_type": "markdown",
   "metadata": {},
   "source": [
    "##### Prepare Training Data for NER model training\n",
    "We need to do some more preprocessing of our training data before we can train our model."
   ]
  },
  {
   "cell_type": "markdown",
   "metadata": {},
   "source": [
    "Remember the entity labels you chose in part 1 of the challenge? We will be training a model to predict those entities.\n",
    "As a first step, we will gather all resumes that contain at least one training annotation for those entities.\n",
    "\n",
    "Complete and execute the code below to gather your training data. "
   ]
  },
  {
   "cell_type": "code",
   "execution_count": 116,
   "metadata": {},
   "outputs": [
    {
     "name": "stdout",
     "output_type": "stream",
     "text": [
      "Gathered 445 training examples\n"
     ]
    }
   ],
   "source": [
    "##TODO Store the entity labels you want to train for as array in chosen_entity_labels\n",
    "chosen_entity_labels = [\"Skills\", \"Designation\", \"Degree\"]\n",
    "##[\"Skills\",\"Designation\", \"Years of Experience\"]\n",
    "## this method gathers all resumes which have all of the chosen entites above.\n",
    "def gather_candidates(dataset,entity_labels):\n",
    "    candidates = list()\n",
    "    for resume in dataset:\n",
    "        res_ent_labels = list(zip(*resume[1][\"entities\"]))[2]\n",
    "        if set(entity_labels).issubset(res_ent_labels):\n",
    "            candidates.append(resume)\n",
    "    return candidates\n",
    "## TODO use the gather candidates methods and store result in training_data variable\n",
    "training_data = gather_candidates(resumes, chosen_entity_labels)\n",
    "print(\"Gathered {} training examples\".format(len(training_data)))"
   ]
  },
  {
   "cell_type": "markdown",
   "metadata": {},
   "source": [
    "Now we have those training examples which contain the entities we are interested in. Do you have at least a few hundred examples? If not, you might need to re-think the entities you chose or try just one or two of them and re-run the notebooks. It is important that we have several hundred examples for training (e.g. more than 200. 3-500 is better). "
   ]
  },
  {
   "cell_type": "markdown",
   "metadata": {},
   "source": [
    "##### Remove other entity annotations from training data\n",
    "Now that we have our training data, we want to remove all but relevant (chosen) entity annotations from this data, so that the model we train will only train for our entities. Complete and execute the code below to do this. "
   ]
  },
  {
   "cell_type": "code",
   "execution_count": 122,
   "metadata": {},
   "outputs": [
    {
     "name": "stdout",
     "output_type": "stream",
     "text": [
      "[[[2855, 2862, 'Skills'], [2826, 2879, 'Skills'], [2781, 2784, 'Skills'], [2768, 2810, 'Skills'], [2620, 2623, 'Skills'], [2593, 2599, 'Skills'], [2565, 2572, 'Skills'], [2542, 2546, 'Skills'], [2527, 2531, 'Skills'], [2384, 2428, 'Degree'], [2300, 2328, 'Degree'], [1289, 1296, 'Skills'], [333, 353, 'Designation'], [12, 32, 'Designation']], [[5088, 5109, 'Skills'], [5071, 5085, 'Skills'], [3781, 3795, 'Skills'], [3490, 3523, 'Skills'], [3388, 3420, 'Degree'], [3290, 3311, 'Degree'], [1722, 1740, 'Designation'], [1463, 1489, 'Designation'], [786, 818, 'Skills'], [768, 780, 'Skills'], [752, 763, 'Skills'], [675, 696, 'Skills'], [656, 670, 'Skills'], [563, 589, 'Designation'], [475, 478, 'Degree'], [9, 35, 'Designation']], [[1970, 2083, 'Skills'], [1675, 1926, 'Skills'], [1439, 1488, 'Degree'], [730, 740, 'Designation'], [466, 476, 'Designation'], [143, 172, 'Designation'], [14, 24, 'Designation']], [[1710, 1721, 'Skills'], [1692, 1707, 'Skills'], [1404, 1433, 'Degree'], [1122, 1132, 'Degree'], [1051, 1072, 'Degree'], [955, 991, 'Degree'], [342, 363, 'Designation'], [16, 37, 'Designation']], [[4197, 4960, 'Skills'], [3913, 4045, 'Skills'], [3800, 3830, 'Degree'], [3346, 3355, 'Designation'], [2416, 2425, 'Designation'], [1467, 1476, 'Designation'], [1259, 1268, 'Designation'], [12, 21, 'Designation']], [[1439, 1592, 'Skills'], [1248, 1256, 'Degree'], [1118, 1129, 'Degree'], [349, 360, 'Designation'], [9, 20, 'Designation']], [[1219, 1348, 'Skills'], [1152, 1169, 'Degree'], [1053, 1059, 'Degree'], [394, 409, 'Designation']], [[868, 876, 'Skills'], [762, 811, 'Degree'], [708, 713, 'Degree'], [632, 649, 'Degree'], [403, 416, 'Designation'], [349, 366, 'Designation']], [[1878, 1883, 'Skills'], [1871, 1876, 'Skills'], [1831, 1848, 'Skills'], [1803, 1821, 'Skills'], [1735, 1740, 'Skills'], [1709, 1714, 'Skills'], [1680, 1685, 'Skills'], [1597, 1618, 'Degree'], [1577, 1595, 'Degree'], [1486, 1500, 'Degree'], [1069, 1087, 'Designation'], [313, 330, 'Designation'], [11, 28, 'Designation']], [[11663, 12212, 'Skills'], [11476, 11559, 'Skills'], [11357, 11387, 'Degree'], [4347, 4365, 'Designation'], [2053, 2071, 'Designation'], [16, 34, 'Designation']], [[4611, 4621, 'Skills'], [4526, 4529, 'Degree'], [4368, 4385, 'Designation'], [3749, 3766, 'Designation'], [2726, 2783, 'Designation'], [2138, 2195, 'Designation'], [13, 70, 'Designation']], [[2444, 2469, 'Skills'], [2415, 2440, 'Skills'], [2403, 2412, 'Skills'], [2355, 2399, 'Skills'], [2293, 2305, 'Skills'], [2172, 2210, 'Skills'], [1338, 1341, 'Skills'], [1119, 1122, 'Skills'], [905, 915, 'Skills'], [851, 860, 'Skills'], [828, 831, 'Skills'], [796, 807, 'Skills'], [789, 795, 'Skills'], [762, 768, 'Skills'], [735, 741, 'Skills'], [552, 555, 'Degree'], [486, 489, 'Degree'], [404, 446, 'Designation'], [14, 56, 'Designation']], [[1356, 1793, 'Skills'], [1136, 1248, 'Skills'], [821, 856, 'Degree'], [722, 742, 'Designation'], [640, 656, 'Designation'], [555, 573, 'Designation'], [444, 469, 'Designation'], [13, 38, 'Designation']], [[667, 703, 'Skills'], [612, 637, 'Degree'], [587, 590, 'Degree'], [526, 536, 'Designation'], [491, 503, 'Designation'], [246, 258, 'Designation'], [226, 236, 'Designation'], [177, 207, 'Designation'], [19, 31, 'Designation']], [[2246, 2573, 'Skills'], [875, 964, 'Skills'], [773, 830, 'Degree'], [714, 741, 'Degree'], [233, 252, 'Designation'], [16, 35, 'Designation']], [[4652, 4850, 'Skills'], [4499, 4541, 'Degree'], [2632, 2652, 'Designation'], [1238, 1258, 'Designation'], [465, 485, 'Designation'], [16, 36, 'Designation']], [[1894, 2173, 'Skills'], [1726, 1851, 'Skills'], [1610, 1642, 'Degree'], [1276, 1325, 'Degree'], [181, 202, 'Designation'], [17, 31, 'Designation']], [[5419, 5425, 'Degree'], [1725, 1758, 'Designation'], [1576, 1706, 'Skills'], [14, 47, 'Designation']], [[3052, 3067, 'Skills'], [2951, 2992, 'Degree'], [847, 868, 'Designation'], [577, 598, 'Designation'], [19, 40, 'Designation']], [[2169, 2179, 'Skills'], [2154, 2166, 'Skills'], [2142, 2151, 'Skills'], [2105, 2140, 'Skills'], [1305, 1486, 'Skills'], [910, 939, 'Degree'], [387, 403, 'Designation'], [15, 31, 'Designation']], [[4048, 4169, 'Skills'], [3970, 3975, 'Degree'], [3804, 3820, 'Designation'], [3721, 3734, 'Designation'], [2023, 2032, 'Designation'], [187, 196, 'Designation'], [11, 20, 'Designation']], [[3086, 3255, 'Skills'], [3046, 3058, 'Skills'], [2975, 2979, 'Degree'], [2932, 2936, 'Degree'], [2846, 2868, 'Degree'], [2614, 2693, 'Skills'], [2385, 2401, 'Designation'], [837, 849, 'Skills'], [311, 327, 'Designation'], [221, 233, 'Skills'], [138, 170, 'Degree'], [14, 30, 'Designation']], [[1844, 1873, 'Skills'], [1844, 1860, 'Skills'], [1811, 1815, 'Skills'], [1794, 1830, 'Skills'], [1765, 1771, 'Skills'], [1748, 1790, 'Skills'], [1742, 1745, 'Skills'], [1734, 1745, 'Skills'], [1666, 1670, 'Skills'], [1636, 1645, 'Skills'], [1599, 1615, 'Skills'], [1575, 1578, 'Skills'], [1548, 1554, 'Skills'], [1328, 1366, 'Degree'], [1106, 1183, 'Degree'], [894, 897, 'Skills'], [886, 897, 'Skills'], [856, 862, 'Skills'], [211, 233, 'Designation']], [[1466, 1549, 'Skills'], [1025, 1038, 'Degree'], [378, 387, 'Designation'], [19, 28, 'Designation']], [[524, 661, 'Skills'], [400, 422, 'Degree'], [306, 332, 'Designation']], [[2957, 3074, 'Skills'], [2823, 2854, 'Degree'], [2780, 2822, 'Degree'], [2683, 2732, 'Degree'], [1044, 1064, 'Designation'], [626, 1024, 'Skills']], [[696, 1129, 'Skills'], [575, 624, 'Degree'], [406, 450, 'Designation'], [21, 65, 'Designation']], [[2566, 2783, 'Skills'], [2356, 2362, 'Degree'], [2308, 2331, 'Designation'], [1270, 1293, 'Designation'], [1122, 1145, 'Designation']], [[4563, 4747, 'Skills'], [4511, 4536, 'Degree'], [4443, 4496, 'Degree'], [2711, 2736, 'Designation'], [2663, 2686, 'Designation'], [2012, 2035, 'Designation'], [1573, 1596, 'Designation']], [[3822, 3978, 'Skills'], [3466, 3819, 'Skills'], [943, 973, 'Degree'], [810, 850, 'Designation'], [709, 753, 'Designation'], [454, 464, 'Designation'], [245, 255, 'Designation']], [[2833, 4400, 'Skills'], [2766, 2779, 'Degree'], [1645, 1674, 'Designation'], [15, 44, 'Designation']], [[6305, 7258, 'Skills'], [6117, 6151, 'Degree'], [2962, 2985, 'Designation'], [1292, 1315, 'Designation'], [14, 37, 'Designation']], [[931, 1013, 'Skills'], [737, 772, 'Degree'], [319, 340, 'Designation'], [14, 29, 'Designation']], [[1821, 2095, 'Skills'], [1684, 1690, 'Degree'], [169, 192, 'Designation'], [13, 36, 'Designation']], [[2110, 2404, 'Skills'], [1895, 1947, 'Skills'], [1794, 1826, 'Degree'], [479, 493, 'Designation'], [337, 351, 'Designation'], [219, 234, 'Designation'], [11, 25, 'Designation']], [[605, 753, 'Skills'], [344, 349, 'Degree'], [220, 247, 'Degree'], [139, 150, 'Designation']], [[3272, 3302, 'Degree'], [2941, 3244, 'Skills'], [2780, 2892, 'Skills'], [789, 799, 'Designation'], [229, 239, 'Designation'], [12, 22, 'Designation']], [[3132, 3611, 'Skills'], [3005, 3083, 'Skills'], [2912, 2935, 'Degree'], [2873, 2884, 'Degree'], [1610, 1623, 'Designation'], [1550, 1563, 'Designation'], [317, 330, 'Designation'], [13, 26, 'Designation']], [[3036, 3078, 'Skills'], [2922, 3018, 'Skills'], [2738, 2824, 'Skills'], [2658, 2671, 'Degree'], [2513, 2528, 'Designation'], [1861, 1878, 'Designation'], [417, 437, 'Designation'], [83, 96, 'Degree'], [21, 49, 'Designation']], [[3511, 3749, 'Skills'], [3313, 3364, 'Skills'], [3273, 3283, 'Degree'], [3172, 3206, 'Degree'], [2399, 2409, 'Degree'], [1008, 1031, 'Designation'], [224, 234, 'Degree'], [124, 134, 'Degree']], [[2707, 2711, 'Skills'], [2683, 2693, 'Skills'], [2677, 2681, 'Skills'], [2670, 2673, 'Skills'], [2662, 2666, 'Skills'], [2654, 2658, 'Skills'], [2626, 2629, 'Skills'], [2607, 2624, 'Skills'], [2599, 2605, 'Skills'], [2594, 2597, 'Skills'], [2585, 2592, 'Skills'], [2561, 2565, 'Skills'], [2541, 2556, 'Skills'], [2515, 2521, 'Skills'], [2499, 2503, 'Skills'], [2487, 2497, 'Skills'], [2456, 2465, 'Skills'], [2333, 2340, 'Degree'], [1982, 1986, 'Skills'], [1977, 1980, 'Skills'], [1971, 1975, 'Skills'], [1959, 1969, 'Skills'], [1888, 1904, 'Designation'], [1824, 1840, 'Designation'], [1436, 1440, 'Skills'], [911, 915, 'Skills'], [906, 909, 'Skills'], [900, 904, 'Skills'], [888, 898, 'Skills'], [819, 835, 'Designation'], [812, 835, 'Designation'], [784, 810, 'Designation'], [712, 716, 'Skills'], [464, 468, 'Skills'], [255, 272, 'Skills'], [250, 253, 'Skills'], [228, 238, 'Skills'], [222, 226, 'Skills'], [216, 220, 'Skills'], [210, 214, 'Skills'], [210, 213, 'Skills'], [203, 208, 'Skills'], [203, 207, 'Skills'], [197, 201, 'Skills'], [185, 195, 'Skills'], [115, 128, 'Designation'], [11, 24, 'Designation']], [[1368, 1560, 'Skills'], [1096, 1133, 'Skills'], [1028, 1037, 'Degree'], [908, 956, 'Degree'], [500, 522, 'Designation'], [17, 39, 'Designation']], [[13907, 13911, 'Skills'], [13883, 13887, 'Skills'], [13883, 13886, 'Skills'], [13724, 13732, 'Skills'], [13716, 13722, 'Skills'], [13707, 13714, 'Skills'], [13699, 13705, 'Skills'], [13691, 13697, 'Skills'], [13687, 13690, 'Skills'], [13682, 13685, 'Skills'], [13665, 13670, 'Skills'], [13650, 13654, 'Skills'], [13636, 13639, 'Skills'], [13478, 13500, 'Designation'], [12020, 12026, 'Skills'], [11962, 11968, 'Skills'], [11701, 11705, 'Skills'], [11578, 11582, 'Skills'], [11578, 11581, 'Skills'], [10980, 11002, 'Designation'], [10829, 10834, 'Skills'], [9450, 9455, 'Skills'], [8846, 8851, 'Skills'], [8704, 8709, 'Skills'], [7512, 7517, 'Skills'], [6507, 6513, 'Skills'], [6503, 6506, 'Skills'], [6479, 6484, 'Skills'], [4994, 4999, 'Skills'], [4213, 4216, 'Skills'], [4122, 4126, 'Skills'], [3540, 3545, 'Skills'], [3520, 3524, 'Skills'], [3466, 3488, 'Designation'], [3300, 3306, 'Degree'], [3269, 3273, 'Skills'], [3248, 3268, 'Skills'], [3243, 3247, 'Skills'], [3243, 3246, 'Skills'], [3236, 3242, 'Skills'], [3219, 3234, 'Skills'], [3083, 3110, 'Skills'], [3052, 3059, 'Skills'], [3017, 3036, 'Skills'], [2980, 3016, 'Skills'], [2951, 2979, 'Skills'], [2936, 2950, 'Skills'], [2915, 2935, 'Skills'], [2891, 2914, 'Skills'], [2596, 2618, 'Designation'], [1109, 1115, 'Skills'], [1051, 1057, 'Skills'], [790, 794, 'Skills'], [667, 671, 'Skills'], [667, 670, 'Skills'], [34, 48, 'Designation'], [17, 32, 'Designation']], [[3345, 3896, 'Skills'], [3187, 3225, 'Degree'], [3137, 3141, 'Degree'], [1099, 1119, 'Designation'], [888, 908, 'Designation'], [285, 305, 'Designation'], [11, 31, 'Designation']], [[989, 1007, 'Skills'], [952, 968, 'Skills'], [919, 943, 'Skills'], [889, 916, 'Skills'], [762, 775, 'Skills'], [732, 741, 'Skills'], [705, 712, 'Skills'], [677, 684, 'Skills'], [647, 656, 'Skills'], [623, 627, 'Skills'], [536, 547, 'Degree'], [198, 226, 'Designation'], [13, 41, 'Designation']], [[4093, 4190, 'Skills'], [3940, 4089, 'Skills'], [3824, 3895, 'Skills'], [3749, 3768, 'Degree'], [3191, 3209, 'Designation'], [2277, 2294, 'Designation'], [1377, 1394, 'Designation'], [12, 29, 'Designation']], [[4888, 4937, 'Degree'], [4812, 4841, 'Degree'], [4484, 4505, 'Skills'], [4285, 4355, 'Skills'], [4189, 4259, 'Skills'], [2041, 2054, 'Designation'], [1960, 1993, 'Designation'], [1789, 1816, 'Designation'], [1718, 1745, 'Designation'], [1563, 1592, 'Designation'], [15, 45, 'Designation'], [15, 44, 'Designation']], [[2668, 2945, 'Skills'], [2582, 2616, 'Degree'], [2489, 2516, 'Degree'], [1063, 1087, 'Designation'], [10, 34, 'Designation']], [[4542, 4549, 'Skills'], [4178, 4187, 'Skills'], [3996, 3999, 'Skills'], [3985, 3993, 'Skills'], [3929, 3933, 'Skills'], [3840, 3849, 'Skills'], [3814, 3828, 'Skills'], [3787, 3793, 'Skills'], [3759, 3766, 'Skills'], [3735, 3738, 'Skills'], [3707, 3714, 'Skills'], [3682, 3686, 'Skills'], [3653, 3661, 'Skills'], [3624, 3633, 'Skills'], [3603, 3612, 'Skills'], [3485, 3508, 'Degree'], [1269, 1286, 'Designation']], [[4213, 4349, 'Skills'], [4015, 4196, 'Skills'], [3908, 3956, 'Degree'], [3824, 3875, 'Degree'], [11, 43, 'Designation']], [[3407, 3411, 'Skills'], [3080, 3097, 'Skills'], [3051, 3069, 'Skills'], [3022, 3026, 'Skills'], [2993, 3011, 'Skills'], [2962, 2966, 'Degree'], [2363, 2367, 'Skills'], [1702, 1706, 'Skills'], [328, 332, 'Degree'], [13, 43, 'Designation']], [[602, 741, 'Skills'], [537, 555, 'Degree'], [338, 364, 'Designation']], [[3255, 3264, 'Skills'], [3246, 3254, 'Skills'], [3120, 3140, 'Degree'], [2948, 2969, 'Designation'], [2619, 2640, 'Designation'], [2396, 2417, 'Designation'], [1823, 1844, 'Designation'], [1601, 1622, 'Designation'], [1412, 1433, 'Designation'], [1098, 1119, 'Designation'], [1042, 1051, 'Skills'], [952, 973, 'Designation'], [690, 711, 'Designation'], [524, 545, 'Designation'], [370, 392, 'Designation'], [370, 391, 'Designation'], [238, 259, 'Designation'], [13, 35, 'Designation'], [13, 34, 'Designation']], [[11921, 12599, 'Skills'], [11791, 11876, 'Skills'], [11699, 11735, 'Degree'], [11216, 11234, 'Designation'], [10556, 10574, 'Designation'], [9672, 9690, 'Designation'], [3704, 3734, 'Designation'], [10, 40, 'Designation']], [[210, 251, 'Skills'], [165, 188, 'Degree'], [104, 116, 'Designation']], [[957, 1203, 'Skills'], [662, 775, 'Skills'], [449, 481, 'Degree'], [246, 269, 'Designation'], [14, 37, 'Designation']], [[4690, 5815, 'Skills'], [4551, 4556, 'Degree'], [4468, 4500, 'Degree'], [879, 905, 'Designation'], [15, 41, 'Designation']], [[6646, 7279, 'Skills'], [6451, 6555, 'Skills'], [6345, 6392, 'Degree'], [4470, 4484, 'Designation'], [3905, 3919, 'Designation'], [2474, 2488, 'Designation'], [823, 837, 'Designation'], [816, 837, 'Designation'], [21, 35, 'Designation'], [14, 35, 'Designation']], [[3347, 3474, 'Skills'], [3250, 3261, 'Degree'], [1314, 1330, 'Designation'], [568, 607, 'Designation'], [13, 52, 'Designation']], [[12088, 12384, 'Skills'], [11993, 11999, 'Degree'], [11001, 11012, 'Designation'], [8160, 8171, 'Designation'], [7187, 7198, 'Designation'], [6185, 6196, 'Designation'], [5337, 5348, 'Designation'], [4185, 4196, 'Designation'], [2250, 2261, 'Designation'], [1146, 1157, 'Designation'], [24, 35, 'Designation']], [[4167, 4170, 'Skills'], [4141, 4145, 'Skills'], [4117, 4120, 'Skills'], [4099, 4114, 'Skills'], [4088, 4096, 'Skills'], [4079, 4086, 'Skills'], [4073, 4077, 'Skills'], [4067, 4069, 'Skills'], [4063, 4066, 'Skills'], [4059, 4061, 'Skills'], [3950, 3953, 'Skills'], [3944, 3948, 'Skills'], [3812, 3814, 'Skills'], [3577, 3581, 'Skills'], [3096, 3100, 'Skills'], [3066, 3074, 'Skills'], [2586, 2593, 'Skills'], [2555, 2562, 'Skills'], [2476, 2483, 'Skills'], [2434, 2455, 'Designation'], [2385, 2406, 'Designation'], [2256, 2275, 'Skills'], [2251, 2254, 'Skills'], [2222, 2230, 'Skills'], [2218, 2220, 'Skills'], [2194, 2198, 'Skills'], [2170, 2173, 'Skills'], [2146, 2149, 'Skills'], [2121, 2125, 'Skills'], [2097, 2100, 'Skills'], [2069, 2076, 'Skills'], [1964, 1970, 'Degree'], [1706, 1709, 'Skills'], [1700, 1704, 'Skills'], [1343, 1347, 'Skills'], [968, 972, 'Skills'], [938, 946, 'Skills'], [412, 441, 'Designation'], [97, 112, 'Skills'], [87, 95, 'Skills'], [83, 85, 'Skills'], [78, 82, 'Skills'], [17, 46, 'Designation']], [[4613, 4633, 'Designation'], [4328, 4348, 'Designation'], [3386, 3406, 'Designation'], [3087, 3107, 'Designation'], [2562, 2568, 'Skills'], [2557, 2606, 'Skills'], [2476, 2480, 'Degree'], [2334, 2354, 'Designation'], [2093, 2113, 'Designation'], [430, 450, 'Designation']], [[2197, 2231, 'Skills'], [2110, 2123, 'Degree'], [1920, 1935, 'Designation'], [916, 931, 'Designation'], [261, 276, 'Designation'], [194, 209, 'Designation'], [15, 30, 'Designation']], [[2349, 2642, 'Skills'], [1990, 2044, 'Degree'], [1895, 1913, 'Designation'], [309, 327, 'Designation']], [[415, 1910, 'Skills'], [347, 385, 'Degree'], [311, 315, 'Degree'], [275, 278, 'Degree'], [118, 138, 'Designation']], [[3912, 4040, 'Skills'], [3886, 3898, 'Degree'], [3756, 3813, 'Degree'], [3644, 3682, 'Degree'], [275, 302, 'Designation'], [13, 23, 'Designation']], [[2717, 2959, 'Skills'], [2668, 2683, 'Degree'], [2577, 2597, 'Degree'], [373, 399, 'Designation'], [28, 48, 'Degree']], [[2076, 2079, 'Skills'], [2058, 2091, 'Skills'], [2058, 2074, 'Skills'], [1972, 1981, 'Skills'], [1935, 1951, 'Skills'], [1911, 1914, 'Skills'], [1865, 1868, 'Skills'], [1862, 1890, 'Skills'], [1818, 1841, 'Skills'], [1374, 1418, 'Degree'], [510, 525, 'Designation'], [430, 445, 'Designation'], [15, 30, 'Designation']], [[1311, 1763, 'Skills'], [956, 1084, 'Skills'], [916, 921, 'Degree'], [862, 867, 'Degree'], [763, 807, 'Degree'], [595, 613, 'Designation'], [353, 371, 'Designation'], [12, 30, 'Designation']], [[11201, 11409, 'Skills'], [11147, 11171, 'Degree'], [11100, 11123, 'Degree'], [6954, 6970, 'Designation'], [5307, 5317, 'Designation'], [12, 28, 'Designation']], [[1551, 1852, 'Skills'], [1403, 1406, 'Degree'], [1371, 1374, 'Degree'], [345, 365, 'Designation'], [217, 237, 'Designation']], [[2656, 2689, 'Skills'], [2436, 2505, 'Degree'], [736, 886, 'Skills'], [15, 50, 'Designation']], [[5050, 5057, 'Skills'], [4993, 5027, 'Skills'], [4963, 4968, 'Skills'], [4950, 4953, 'Skills'], [4879, 4882, 'Skills'], [4818, 4824, 'Degree'], [3122, 3125, 'Skills'], [3008, 3011, 'Skills'], [2985, 3006, 'Designation'], [2979, 2982, 'Skills'], [1050, 1053, 'Skills'], [653, 656, 'Skills'], [183, 186, 'Skills'], [43, 46, 'Skills'], [19, 40, 'Designation'], [13, 16, 'Skills']], [[1416, 3890, 'Skills'], [721, 1220, 'Skills'], [628, 685, 'Degree'], [556, 597, 'Degree'], [359, 363, 'Designation']], [[271, 290, 'Skills'], [226, 229, 'Degree'], [163, 182, 'Designation']], [[773, 848, 'Skills'], [642, 685, 'Degree'], [549, 592, 'Degree'], [391, 408, 'Designation'], [124, 141, 'Designation'], [16, 36, 'Designation']], [[1040, 1140, 'Skills'], [952, 956, 'Degree'], [873, 876, 'Degree'], [794, 797, 'Degree'], [707, 736, 'Degree'], [27, 47, 'Designation']], [[5347, 5750, 'Skills'], [5171, 5238, 'Degree'], [1030, 1050, 'Designation']], [[7880, 8486, 'Skills'], [7745, 7837, 'Skills'], [7652, 7662, 'Degree'], [1288, 1301, 'Designation'], [1136, 1149, 'Designation'], [26, 39, 'Designation']], [[19523, 19683, 'Skills'], [19377, 19479, 'Skills'], [19125, 19215, 'Degree'], [12375, 12392, 'Designation'], [3888, 3905, 'Designation'], [1991, 2008, 'Designation'], [143, 160, 'Designation'], [15, 32, 'Designation']], [[3748, 3809, 'Skills'], [3679, 3745, 'Skills'], [3621, 3675, 'Skills'], [3569, 3617, 'Skills'], [3204, 3314, 'Skills'], [3063, 3078, 'Degree'], [1832, 1841, 'Designation'], [1589, 1598, 'Designation'], [12, 21, 'Designation']], [[800, 858, 'Skills'], [552, 610, 'Degree'], [395, 418, 'Designation'], [10, 33, 'Designation'], [9, 32, 'Designation']], [[774, 897, 'Skills'], [694, 728, 'Skills'], [566, 596, 'Degree'], [14, 46, 'Designation']], [[2952, 3086, 'Skills'], [2833, 2878, 'Degree'], [822, 835, 'Designation'], [51, 64, 'Designation']], [[210, 251, 'Skills'], [165, 187, 'Degree'], [103, 116, 'Designation']], [[2349, 2472, 'Skills'], [2331, 2340, 'Degree'], [733, 757, 'Designation'], [8, 51, 'Designation']], [[19383, 19402, 'Designation'], [18315, 18334, 'Designation'], [17772, 17791, 'Designation'], [17215, 17234, 'Designation'], [5167, 5186, 'Designation'], [4736, 4880, 'Skills'], [4681, 4717, 'Degree'], [3166, 3185, 'Designation'], [3104, 3123, 'Designation'], [15, 58, 'Designation'], [15, 34, 'Designation']], [[947, 1180, 'Skills'], [826, 831, 'Degree'], [397, 420, 'Designation']], [[3321, 3376, 'Skills'], [3234, 3295, 'Degree'], [3172, 3200, 'Degree'], [487, 503, 'Designation']], [[8576, 8593, 'Skills'], [8223, 8280, 'Degree'], [8154, 8170, 'Degree'], [2167, 2178, 'Designation'], [1130, 1141, 'Designation'], [179, 190, 'Designation'], [16, 27, 'Designation']], [[3056, 3090, 'Skills'], [2929, 2961, 'Degree'], [615, 635, 'Designation'], [11, 33, 'Designation']], [[2051, 2567, 'Skills'], [1856, 1913, 'Degree'], [1734, 1768, 'Designation'], [1653, 1664, 'Designation'], [13, 47, 'Designation']], [[319, 338, 'Skills'], [264, 279, 'Degree'], [185, 200, 'Designation'], [117, 132, 'Designation']], [[497, 541, 'Skills'], [389, 407, 'Degree'], [117, 136, 'Designation']], [[1179, 1401, 'Skills'], [1103, 1132, 'Degree'], [279, 337, 'Designation'], [12, 28, 'Designation']], [[7924, 8040, 'Skills'], [7849, 7869, 'Degree'], [7767, 7803, 'Degree'], [341, 385, 'Designation'], [189, 233, 'Designation'], [17, 61, 'Designation']], [[345, 382, 'Skills'], [267, 293, 'Degree'], [155, 182, 'Designation']], [[310, 332, 'Skills'], [249, 263, 'Degree'], [158, 169, 'Designation']], [[3913, 4370, 'Skills'], [3756, 3814, 'Degree'], [3644, 3683, 'Degree'], [13, 23, 'Designation']], [[1502, 1600, 'Skills'], [1263, 1379, 'Skills'], [1050, 1071, 'Degree'], [331, 340, 'Designation'], [256, 265, 'Designation']], [[242, 256, 'Skills'], [209, 222, 'Degree'], [121, 132, 'Designation']], [[228, 272, 'Skills'], [210, 212, 'Degree'], [179, 197, 'Designation'], [122, 140, 'Designation']], [[2889, 3089, 'Skills'], [2734, 2846, 'Skills'], [2547, 2550, 'Degree'], [400, 426, 'Designation']], [[367, 519, 'Skills'], [213, 235, 'Degree'], [115, 136, 'Designation']], [[970, 1002, 'Skills'], [681, 834, 'Skills'], [626, 631, 'Degree'], [372, 380, 'Designation']], [[2562, 2597, 'Skills'], [1930, 2063, 'Skills'], [1513, 1528, 'Degree'], [1476, 1501, 'Designation'], [1438, 1463, 'Designation']], [[2537, 2756, 'Skills'], [2416, 2493, 'Skills'], [2396, 2399, 'Degree'], [2302, 2320, 'Designation'], [297, 306, 'Designation'], [14, 29, 'Designation']], [[3758, 4638, 'Skills'], [3711, 3723, 'Degree'], [7, 26, 'Designation']], [[1085, 1500, 'Skills'], [848, 961, 'Skills'], [801, 806, 'Degree'], [744, 747, 'Degree'], [652, 673, 'Designation'], [495, 516, 'Designation'], [14, 35, 'Designation']], [[1901, 1906, 'Skills'], [1756, 1761, 'Degree'], [461, 467, 'Designation']], [[4735, 4910, 'Skills'], [4681, 4696, 'Degree'], [4612, 4647, 'Degree'], [4521, 4579, 'Degree'], [4206, 4224, 'Designation'], [4098, 4116, 'Designation'], [16, 34, 'Designation']], [[4459, 4959, 'Skills'], [4445, 4450, 'Designation'], [4368, 4396, 'Degree'], [173, 208, 'Designation'], [16, 51, 'Designation']], [[6732, 6848, 'Skills'], [6546, 6597, 'Degree'], [13, 34, 'Designation']], [[4232, 4330, 'Skills'], [4058, 4101, 'Degree'], [716, 740, 'Designation'], [15, 39, 'Designation']], [[6994, 7350, 'Skills'], [6897, 6935, 'Degree'], [700, 715, 'Designation'], [230, 245, 'Designation'], [17, 32, 'Designation']], [[11131, 11235, 'Skills'], [11015, 11049, 'Degree'], [10893, 10953, 'Degree'], [2907, 2938, 'Designation'], [2907, 2937, 'Designation'], [13, 43, 'Designation']], [[1171, 1574, 'Skills'], [962, 1096, 'Skills'], [887, 923, 'Degree'], [633, 638, 'Degree'], [273, 312, 'Designation'], [212, 231, 'Designation']], [[1916, 2392, 'Skills'], [1517, 1561, 'Degree'], [921, 930, 'Designation'], [16, 25, 'Designation']], [[3828, 3931, 'Skills'], [3615, 3673, 'Degree'], [3501, 3558, 'Degree'], [3373, 3419, 'Degree'], [1143, 1163, 'Designation'], [16, 36, 'Designation']], [[2165, 2215, 'Skills'], [2145, 2155, 'Degree'], [176, 207, 'Designation']], [[2912, 3288, 'Skills'], [2643, 2677, 'Degree'], [569, 602, 'Designation'], [419, 452, 'Designation'], [15, 48, 'Designation']], [[2877, 3031, 'Skills'], [2714, 2727, 'Degree'], [437, 462, 'Designation'], [15, 40, 'Designation']], [[1818, 1893, 'Skills'], [1666, 1682, 'Degree'], [1608, 1611, 'Degree'], [1562, 1574, 'Designation'], [1538, 1541, 'Degree'], [803, 815, 'Designation'], [354, 374, 'Designation'], [16, 28, 'Designation']], [[1632, 1836, 'Skills'], [1211, 1399, 'Skills'], [1166, 1179, 'Degree'], [1080, 1121, 'Designation'], [970, 1011, 'Designation'], [17, 58, 'Designation']], [[2301, 2380, 'Skills'], [2080, 2086, 'Degree'], [2025, 2040, 'Designation'], [792, 807, 'Designation'], [616, 680, 'Skills'], [127, 142, 'Designation'], [11, 26, 'Designation']], [[3955, 3971, 'Designation'], [3380, 3829, 'Skills'], [3123, 3149, 'Degree'], [3047, 3078, 'Degree'], [1687, 1703, 'Designation'], [1127, 1143, 'Designation'], [1078, 1094, 'Designation'], [20, 36, 'Designation']], [[690, 700, 'Degree'], [457, 620, 'Skills'], [294, 313, 'Designation'], [22, 41, 'Designation']], [[2348, 3131, 'Skills'], [2058, 2091, 'Degree'], [1980, 2007, 'Degree'], [32, 46, 'Designation']], [[2207, 2359, 'Skills'], [1945, 1993, 'Degree'], [447, 462, 'Designation'], [209, 224, 'Designation'], [15, 30, 'Designation']], [[3827, 4016, 'Skills'], [3809, 3817, 'Degree'], [2155, 2167, 'Designation'], [392, 404, 'Designation'], [293, 305, 'Designation'], [157, 169, 'Designation'], [15, 27, 'Designation']], [[193, 511, 'Skills'], [174, 183, 'Degree'], [108, 123, 'Designation']], [[2473, 2498, 'Designation'], [457, 1171, 'Skills'], [393, 417, 'Degree'], [334, 358, 'Degree'], [249, 274, 'Designation']], [[8800, 8928, 'Skills'], [8754, 8758, 'Degree'], [285, 288, 'Designation'], [199, 202, 'Designation']], [[589, 737, 'Skills'], [421, 523, 'Skills'], [391, 396, 'Degree'], [304, 321, 'Degree'], [26, 37, 'Designation']], [[1403, 1487, 'Skills'], [1314, 1349, 'Degree'], [1281, 1302, 'Designation']], [[960, 1012, 'Skills'], [731, 753, 'Degree'], [549, 582, 'Designation'], [539, 581, 'Designation'], [323, 365, 'Designation'], [26, 59, 'Designation'], [16, 58, 'Designation']], [[3917, 3975, 'Skills'], [3764, 3789, 'Degree'], [3666, 3715, 'Degree'], [2124, 2144, 'Designation'], [2090, 2110, 'Designation'], [2018, 2038, 'Designation'], [1697, 1717, 'Designation'], [328, 348, 'Designation'], [30, 50, 'Designation']], [[380, 398, 'Skills'], [240, 250, 'Degree'], [150, 175, 'Designation'], [140, 149, 'Designation'], [20, 45, 'Designation'], [10, 19, 'Designation']], [[1380, 1525, 'Skills'], [1158, 1213, 'Degree'], [14, 46, 'Designation']], [[951, 990, 'Skills'], [919, 925, 'Degree'], [608, 652, 'Designation'], [14, 58, 'Designation']], [[4672, 4951, 'Skills'], [4615, 4649, 'Degree'], [4566, 4599, 'Degree'], [4494, 4510, 'Degree'], [4430, 4459, 'Degree'], [1207, 1224, 'Designation'], [211, 228, 'Designation'], [13, 49, 'Designation']], [[9242, 9311, 'Skills'], [9070, 9108, 'Degree'], [8947, 9002, 'Degree'], [3939, 3942, 'Designation'], [3770, 3773, 'Designation'], [2191, 2194, 'Designation'], [593, 596, 'Designation'], [52, 55, 'Designation'], [22, 56, 'Designation']], [[587, 669, 'Skills'], [503, 511, 'Degree'], [177, 193, 'Designation'], [14, 30, 'Designation']], [[3789, 3815, 'Skills'], [3641, 3678, 'Degree'], [3174, 3187, 'Designation'], [2884, 2911, 'Designation'], [2464, 2477, 'Designation'], [2325, 2338, 'Designation'], [1647, 1660, 'Designation'], [1588, 1602, 'Designation'], [896, 909, 'Designation'], [13, 26, 'Designation']], [[3804, 3815, 'Skills'], [3789, 3802, 'Designation'], [3641, 3678, 'Degree'], [3174, 3187, 'Designation'], [2884, 2911, 'Designation'], [2464, 2477, 'Designation'], [2325, 2338, 'Designation'], [1647, 1660, 'Designation'], [1588, 1601, 'Designation'], [896, 909, 'Designation'], [225, 245, 'Designation'], [13, 26, 'Designation']], [[799, 861, 'Skills'], [775, 782, 'Skills'], [747, 774, 'Skills'], [676, 682, 'Skills'], [624, 641, 'Degree'], [338, 351, 'Designation'], [10, 23, 'Designation']], [[932, 937, 'Skills'], [925, 928, 'Skills'], [915, 921, 'Skills'], [884, 911, 'Skills'], [811, 814, 'Skills'], [784, 790, 'Skills'], [758, 763, 'Skills'], [670, 684, 'Degree'], [548, 571, 'Designation'], [379, 392, 'Designation']], [[819, 853, 'Skills'], [792, 816, 'Skills'], [764, 789, 'Skills'], [604, 665, 'Skills'], [519, 537, 'Skills'], [473, 490, 'Skills'], [418, 427, 'Skills'], [384, 389, 'Degree'], [294, 307, 'Designation'], [252, 265, 'Designation'], [174, 187, 'Designation'], [10, 23, 'Designation']], [[2821, 3139, 'Skills'], [2605, 2799, 'Skills'], [2537, 2581, 'Skills'], [2472, 2477, 'Degree'], [2394, 2399, 'Degree'], [2266, 2272, 'Degree'], [2184, 2198, 'Designation'], [1931, 1936, 'Degree'], [862, 885, 'Designation'], [506, 540, 'Designation'], [277, 291, 'Designation'], [12, 25, 'Designation']], [[2214, 2270, 'Skills'], [2188, 2193, 'Degree'], [2097, 2102, 'Designation'], [1662, 1683, 'Designation'], [1255, 1268, 'Designation'], [1255, 1260, 'Designation'], [1087, 1092, 'Designation'], [470, 483, 'Designation'], [470, 475, 'Designation'], [15, 28, 'Designation'], [15, 20, 'Designation']], [[764, 854, 'Skills'], [587, 665, 'Skills'], [519, 537, 'Designation'], [418, 446, 'Skills'], [384, 389, 'Degree'], [294, 308, 'Designation'], [252, 265, 'Designation'], [174, 187, 'Designation'], [10, 23, 'Designation']], [[3339, 3356, 'Designation'], [2613, 2620, 'Skills'], [2582, 2593, 'Skills'], [2574, 2593, 'Skills'], [2534, 2553, 'Skills'], [2504, 2515, 'Skills'], [2474, 2502, 'Skills'], [2367, 2384, 'Degree'], [2187, 2235, 'Degree'], [507, 520, 'Designation'], [10, 23, 'Designation']], [[441, 451, 'Skills'], [419, 423, 'Degree'], [409, 413, 'Degree'], [383, 396, 'Designation'], [178, 198, 'Designation'], [12, 29, 'Designation']], [[3339, 3356, 'Designation'], [2613, 2621, 'Skills'], [2582, 2592, 'Skills'], [2573, 2592, 'Skills'], [2535, 2553, 'Skills'], [2504, 2514, 'Skills'], [2474, 2483, 'Skills'], [2367, 2384, 'Degree'], [2187, 2235, 'Degree'], [507, 520, 'Designation'], [10, 23, 'Designation']], [[646, 661, 'Skills'], [629, 641, 'Skills'], [505, 522, 'Degree'], [476, 491, 'Skills'], [461, 491, 'Skills'], [439, 459, 'Skills'], [425, 437, 'Skills'], [156, 169, 'Designation'], [156, 161, 'Designation'], [14, 19, 'Designation']], [[4492, 4515, 'Skills'], [4449, 4479, 'Skills'], [4347, 4391, 'Degree'], [4250, 4289, 'Degree'], [4134, 4153, 'Degree'], [4103, 4132, 'Degree'], [4059, 4075, 'Degree'], [3502, 3515, 'Designation'], [2743, 2756, 'Designation'], [1642, 1670, 'Designation'], [1101, 1114, 'Designation'], [1093, 1114, 'Designation'], [353, 376, 'Skills'], [22, 35, 'Designation'], [14, 35, 'Designation']], [[2915, 2934, 'Designation'], [2455, 2506, 'Skills'], [2387, 2419, 'Degree'], [2269, 2305, 'Degree'], [2169, 2193, 'Designation'], [1117, 1140, 'Designation'], [215, 239, 'Designation'], [13, 37, 'Designation']], [[3943, 4042, 'Skills'], [3855, 3942, 'Skills'], [3821, 3826, 'Degree'], [3252, 3269, 'Designation'], [239, 267, 'Designation'], [16, 44, 'Designation'], [16, 44, 'Designation']], [[5500, 5523, 'Skills'], [5461, 5479, 'Skills'], [5420, 5440, 'Skills'], [5399, 5408, 'Skills'], [5331, 5364, 'Degree'], [5266, 5285, 'Degree'], [5185, 5216, 'Degree'], [4781, 4795, 'Designation'], [4455, 4469, 'Designation'], [4451, 4469, 'Designation'], [4112, 4129, 'Designation'], [3513, 3546, 'Designation'], [2001, 2020, 'Designation'], [994, 1007, 'Designation'], [25, 38, 'Designation']], [[855, 872, 'Skills'], [838, 853, 'Skills'], [796, 809, 'Degree'], [595, 610, 'Designation'], [264, 277, 'Designation'], [236, 261, 'Designation'], [66, 79, 'Designation'], [38, 63, 'Designation']], [[1143, 1160, 'Skills'], [1126, 1141, 'Skills'], [1108, 1124, 'Skills'], [1094, 1106, 'Skills'], [1077, 1092, 'Skills'], [1058, 1075, 'Skills'], [1040, 1056, 'Skills'], [922, 925, 'Degree'], [839, 872, 'Degree'], [200, 213, 'Designation'], [23, 36, 'Designation']], [[3630, 3642, 'Skills'], [3550, 3568, 'Degree'], [3173, 3188, 'Designation'], [2928, 2943, 'Designation'], [2620, 2635, 'Designation'], [2074, 2089, 'Designation'], [899, 918, 'Designation'], [151, 168, 'Designation'], [18, 35, 'Designation']], [[1895, 1928, 'Skills'], [1848, 1893, 'Skills'], [1606, 1623, 'Degree'], [1510, 1515, 'Degree'], [1391, 1406, 'Designation'], [167, 195, 'Designation'], [14, 42, 'Designation']], [[849, 865, 'Skills'], [818, 837, 'Skills'], [793, 806, 'Skills'], [771, 781, 'Skills'], [566, 570, 'Degree'], [541, 545, 'Degree'], [473, 488, 'Designation'], [415, 427, 'Designation'], [345, 355, 'Skills'], [337, 365, 'Designation'], [256, 268, 'Designation'], [198, 213, 'Designation'], [147, 161, 'Designation']], [[1474, 1499, 'Skills'], [1430, 1441, 'Skills'], [1398, 1403, 'Skills'], [1381, 1396, 'Skills'], [1144, 1154, 'Degree'], [766, 781, 'Skills'], [446, 467, 'Designation'], [10, 31, 'Designation']], [[1111, 1122, 'Skills'], [1099, 1109, 'Skills'], [1088, 1097, 'Skills'], [1070, 1086, 'Skills'], [993, 1007, 'Degree'], [390, 413, 'Designation'], [301, 327, 'Skills'], [223, 251, 'Skills'], [104, 120, 'Degree']], [[1527, 1537, 'Skills'], [1499, 1506, 'Skills'], [1471, 1478, 'Skills'], [1433, 1450, 'Skills'], [1407, 1412, 'Skills'], [1358, 1362, 'Degree'], [1012, 1036, 'Designation'], [906, 929, 'Designation'], [826, 846, 'Designation'], [666, 679, 'Designation'], [473, 486, 'Designation'], [16, 29, 'Designation']], [[5206, 5224, 'Skills'], [4919, 4924, 'Skills'], [4912, 4924, 'Skills'], [4889, 4898, 'Skills'], [4862, 4867, 'Skills'], [4843, 4848, 'Skills'], [4762, 4778, 'Degree'], [4203, 4218, 'Designation'], [3891, 3903, 'Designation'], [3635, 3653, 'Designation'], [3210, 3228, 'Designation'], [2843, 2859, 'Designation'], [1994, 2008, 'Designation'], [1759, 1773, 'Designation'], [512, 526, 'Designation']], [[1779, 1782, 'Skills'], [1771, 1776, 'Skills'], [1745, 1769, 'Skills'], [1732, 1735, 'Degree'], [1645, 1672, 'Skills'], [1370, 1381, 'Designation'], [954, 979, 'Designation'], [442, 456, 'Designation'], [370, 383, 'Designation']], [[1412, 1471, 'Skills'], [1258, 1268, 'Skills'], [1220, 1237, 'Skills'], [1043, 1069, 'Degree'], [280, 300, 'Designation']], [[2394, 2399, 'Degree'], [2362, 2367, 'Degree'], [2303, 2309, 'Degree'], [1517, 1534, 'Designation'], [810, 1042, 'Skills'], [605, 625, 'Skills'], [470, 504, 'Designation'], [15, 49, 'Designation']], [[2148, 2357, 'Skills'], [2069, 2084, 'Skills'], [2038, 2048, 'Skills'], [1932, 1986, 'Degree'], [601, 618, 'Designation'], [15, 32, 'Designation']], [[6025, 6055, 'Skills'], [5923, 5944, 'Degree'], [5805, 5824, 'Degree'], [5362, 5380, 'Designation'], [4904, 4915, 'Designation'], [4304, 4315, 'Designation'], [3685, 3696, 'Designation'], [3389, 3396, 'Designation'], [2827, 2834, 'Designation'], [2581, 2588, 'Designation'], [1760, 1771, 'Designation'], [1243, 1250, 'Designation'], [1238, 1250, 'Designation'], [890, 897, 'Designation'], [413, 420, 'Designation'], [16, 23, 'Designation']], [[5735, 5785, 'Skills'], [5632, 5659, 'Degree'], [5545, 5561, 'Designation'], [5480, 5495, 'Designation'], [4647, 4667, 'Designation'], [3514, 3527, 'Designation'], [2017, 2030, 'Designation'], [258, 271, 'Designation'], [13, 26, 'Designation']], [[6713, 6718, 'Skills'], [6691, 6711, 'Skills'], [6682, 6689, 'Designation'], [6676, 6689, 'Skills'], [6676, 6681, 'Skills'], [6658, 6674, 'Skills'], [6658, 6663, 'Skills'], [6638, 6656, 'Skills'], [6589, 6593, 'Degree'], [5955, 5962, 'Designation'], [5949, 5962, 'Skills'], [5949, 5954, 'Skills'], [5940, 5962, 'Designation'], [5474, 5479, 'Skills'], [4930, 4937, 'Designation'], [3837, 3842, 'Skills'], [2759, 2764, 'Skills'], [2524, 2531, 'Designation'], [2514, 2531, 'Designation'], [1627, 1634, 'Designation'], [1594, 1599, 'Skills'], [1415, 1422, 'Designation'], [1408, 1422, 'Designation'], [1267, 1287, 'Skills'], [759, 777, 'Skills'], [435, 440, 'Skills'], [415, 433, 'Skills'], [21, 28, 'Designation'], [14, 28, 'Designation']], [[4412, 4425, 'Skills'], [4405, 4410, 'Skills'], [4379, 4382, 'Skills'], [4348, 4358, 'Skills'], [4296, 4304, 'Skills'], [4268, 4275, 'Skills'], [4234, 4247, 'Skills'], [4208, 4213, 'Skills'], [4184, 4187, 'Skills'], [4025, 4060, 'Degree'], [3315, 3335, 'Designation'], [2350, 2382, 'Designation'], [1261, 1294, 'Designation'], [1261, 1275, 'Designation'], [370, 384, 'Designation'], [162, 176, 'Designation'], [11, 25, 'Designation']], [[5362, 5375, 'Skills'], [4862, 4871, 'Skills'], [4691, 4696, 'Skills'], [4652, 4661, 'Skills'], [4579, 4597, 'Skills'], [4564, 4577, 'Skills'], [4557, 4562, 'Skills'], [4546, 4555, 'Skills'], [4519, 4544, 'Skills'], [4502, 4507, 'Skills'], [4470, 4490, 'Skills'], [4372, 4377, 'Skills'], [4355, 4399, 'Degree'], [4239, 4290, 'Degree'], [3805, 3812, 'Designation'], [3615, 3622, 'Designation'], [3609, 3623, 'Designation'], [2618, 2625, 'Designation'], [2576, 2583, 'Designation'], [1300, 1313, 'Skills'], [886, 895, 'Skills'], [866, 873, 'Designation'], [797, 802, 'Skills'], [197, 202, 'Skills'], [187, 194, 'Designation'], [31, 38, 'Designation'], [12, 38, 'Designation']], [[11924, 11930, 'Skills'], [11907, 11921, 'Skills'], [11887, 11904, 'Skills'], [11887, 11892, 'Skills'], [11825, 11834, 'Skills'], [11749, 11754, 'Skills'], [11718, 11728, 'Skills'], [11690, 11697, 'Skills'], [11663, 11669, 'Skills'], [11574, 11593, 'Degree'], [11511, 11516, 'Degree'], [10596, 10614, 'Degree'], [9876, 9883, 'Designation'], [7444, 7451, 'Designation'], [5708, 5715, 'Designation'], [5702, 5715, 'Designation'], [5618, 5625, 'Designation'], [5612, 5633, 'Designation'], [4996, 5003, 'Designation'], [4597, 4608, 'Designation'], [4511, 4518, 'Designation'], [4505, 4518, 'Designation'], [3498, 3505, 'Designation'], [3076, 3078, 'Designation'], [323, 330, 'Designation'], [317, 330, 'Designation'], [17, 19, 'Designation']], [[1526, 1773, 'Skills'], [1465, 1474, 'Skills'], [1428, 1444, 'Skills'], [1375, 1407, 'Skills'], [1351, 1354, 'Skills'], [1331, 1339, 'Skills'], [1029, 1046, 'Degree'], [803, 820, 'Designation'], [587, 600, 'Designation'], [374, 387, 'Designation'], [13, 26, 'Designation']], [[996, 1039, 'Skills'], [974, 980, 'Degree'], [691, 704, 'Designation'], [323, 336, 'Designation']], [[1527, 1537, 'Skills'], [1499, 1506, 'Skills'], [1471, 1478, 'Skills'], [1433, 1450, 'Skills'], [1407, 1412, 'Skills'], [1358, 1362, 'Degree'], [1012, 1036, 'Designation'], [906, 929, 'Designation'], [826, 846, 'Designation'], [666, 679, 'Designation'], [473, 486, 'Designation'], [16, 29, 'Designation']], [[1024, 1039, 'Skills'], [1016, 1023, 'Skills'], [1012, 1015, 'Skills'], [1006, 1011, 'Skills'], [996, 1005, 'Skills'], [974, 980, 'Degree'], [691, 704, 'Designation'], [323, 336, 'Designation']], [[5395, 5400, 'Skills'], [5379, 5384, 'Skills'], [5345, 5350, 'Degree'], [5095, 5107, 'Designation'], [4854, 4873, 'Designation'], [4154, 4167, 'Designation'], [4149, 4167, 'Designation'], [3096, 3108, 'Designation'], [1746, 1759, 'Designation'], [1737, 1759, 'Designation'], [661, 674, 'Designation'], [16, 29, 'Designation']], [[6771, 6786, 'Skills'], [6601, 6616, 'Skills'], [6584, 6599, 'Skills'], [6572, 6582, 'Skills'], [6551, 6570, 'Skills'], [6459, 6491, 'Degree'], [6321, 6342, 'Degree'], [6235, 6257, 'Designation'], [6168, 6180, 'Designation'], [2139, 2161, 'Designation'], [1172, 1200, 'Designation'], [438, 457, 'Skills'], [424, 435, 'Designation'], [210, 220, 'Skills'], [190, 205, 'Skills']], [[4264, 4294, 'Skills'], [4129, 4174, 'Degree'], [4021, 4069, 'Degree'], [3939, 3961, 'Designation'], [3661, 3672, 'Designation'], [3444, 3461, 'Designation'], [3085, 3105, 'Designation'], [2770, 2786, 'Designation'], [2428, 2440, 'Designation'], [1848, 1860, 'Designation'], [1061, 1071, 'Designation'], [224, 238, 'Designation'], [15, 29, 'Designation']], [[1526, 1773, 'Skills'], [1465, 1474, 'Skills'], [1428, 1444, 'Skills'], [1375, 1407, 'Skills'], [1351, 1354, 'Skills'], [1331, 1339, 'Skills'], [1100, 1105, 'Degree'], [1029, 1046, 'Degree'], [803, 820, 'Designation'], [587, 600, 'Designation'], [374, 387, 'Designation'], [13, 26, 'Designation']], [[596, 611, 'Skills'], [576, 586, 'Degree'], [158, 190, 'Designation']], [[1001, 1004, 'Skills'], [987, 992, 'Skills'], [770, 774, 'Skills'], [625, 640, 'Skills'], [599, 604, 'Skills'], [574, 578, 'Skills'], [550, 553, 'Skills'], [437, 467, 'Degree'], [333, 358, 'Designation'], [333, 357, 'Designation'], [260, 285, 'Designation'], [260, 284, 'Designation'], [21, 46, 'Designation']], [[933, 937, 'Skills'], [902, 912, 'Skills'], [877, 881, 'Skills'], [874, 881, 'Skills'], [848, 853, 'Skills'], [575, 604, 'Degree'], [492, 517, 'Degree'], [438, 451, 'Designation']], [[505, 522, 'Degree'], [425, 491, 'Skills'], [156, 169, 'Designation'], [156, 161, 'Designation'], [14, 19, 'Designation']], [[2114, 2122, 'Skills'], [2099, 2111, 'Skills'], [2080, 2096, 'Skills'], [2055, 2077, 'Skills'], [1802, 1805, 'Degree'], [1784, 1787, 'Degree'], [1254, 1269, 'Designation'], [820, 827, 'Designation'], [800, 824, 'Designation'], [385, 392, 'Designation'], [11, 18, 'Designation']], [[2655, 2683, 'Skills'], [2432, 2436, 'Degree'], [2375, 2378, 'Degree'], [1789, 1805, 'Designation'], [795, 813, 'Designation'], [488, 514, 'Designation'], [450, 475, 'Designation'], [14, 40, 'Designation']], [[4973, 4990, 'Skills'], [4938, 4961, 'Skills'], [4930, 4950, 'Skills'], [4798, 4821, 'Skills'], [4776, 4796, 'Skills'], [4760, 4775, 'Skills'], [4738, 4758, 'Skills'], [4706, 4736, 'Skills'], [4687, 4704, 'Skills'], [4672, 4685, 'Skills'], [4642, 4651, 'Skills'], [4606, 4621, 'Skills'], [4574, 4594, 'Skills'], [4553, 4562, 'Skills'], [4536, 4541, 'Skills'], [4486, 4494, 'Degree'], [4437, 4464, 'Designation'], [4013, 4029, 'Designation'], [3612, 3619, 'Designation'], [3606, 3619, 'Designation'], [3599, 3619, 'Designation'], [2604, 2611, 'Designation'], [2598, 2611, 'Designation'], [1078, 1085, 'Designation'], [273, 296, 'Skills'], [265, 285, 'Skills'], [142, 150, 'Degree'], [23, 30, 'Designation']], [[5362, 5380, 'Skills'], [5334, 5350, 'Skills'], [5314, 5322, 'Skills'], [5292, 5302, 'Skills'], [5274, 5279, 'Skills'], [5210, 5216, 'Degree'], [5083, 5091, 'Skills'], [4155, 4173, 'Designation'], [2880, 2898, 'Designation'], [1181, 1194, 'Designation'], [14, 27, 'Designation']], [[5062, 5073, 'Skills'], [5030, 5041, 'Skills'], [4994, 5009, 'Skills'], [4964, 4973, 'Skills'], [4944, 4952, 'Skills'], [4858, 4878, 'Degree'], [4811, 4837, 'Degree'], [4385, 4401, 'Designation'], [681, 695, 'Designation'], [594, 608, 'Designation'], [346, 366, 'Designation'], [14, 31, 'Designation']], [[4844, 4857, 'Skills'], [4635, 4691, 'Degree'], [4550, 4553, 'Degree'], [4249, 4268, 'Designation'], [3577, 3597, 'Designation'], [2720, 2733, 'Designation'], [1673, 1686, 'Designation'], [620, 633, 'Skills'], [249, 268, 'Designation'], [12, 31, 'Designation']], [[2923, 2936, 'Skills'], [2886, 2902, 'Skills'], [2857, 2866, 'Skills'], [2816, 2836, 'Skills'], [2796, 2805, 'Skills'], [2726, 2764, 'Degree'], [2647, 2669, 'Degree'], [2598, 2611, 'Designation'], [2573, 2586, 'Designation'], [2568, 2586, 'Designation'], [2527, 2553, 'Designation'], [2493, 2506, 'Designation'], [2139, 2152, 'Designation'], [1437, 1450, 'Designation'], [1432, 1450, 'Designation'], [1106, 1119, 'Designation'], [1101, 1119, 'Designation'], [817, 843, 'Designation'], [817, 843, 'Designation'], [633, 646, 'Designation'], [551, 564, 'Designation'], [537, 564, 'Designation'], [30, 43, 'Designation'], [16, 43, 'Designation']], [[1001, 1004, 'Skills'], [987, 992, 'Skills'], [987, 992, 'Skills'], [770, 774, 'Skills'], [625, 640, 'Skills'], [599, 604, 'Skills'], [574, 578, 'Skills'], [550, 553, 'Skills'], [437, 467, 'Degree'], [333, 358, 'Designation'], [260, 285, 'Designation'], [21, 46, 'Designation']], [[462, 486, 'Skills'], [396, 404, 'Degree'], [316, 330, 'Designation'], [236, 262, 'Designation'], [131, 144, 'Designation'], [13, 26, 'Designation']], [[4300, 4309, 'Skills'], [4263, 4279, 'Skills'], [3983, 3998, 'Degree'], [2693, 2706, 'Designation'], [2675, 2706, 'Designation'], [2675, 2690, 'Degree'], [1936, 1949, 'Designation'], [1149, 1166, 'Designation'], [13, 30, 'Designation']], [[7260, 7269, 'Skills'], [7249, 7258, 'Skills'], [7231, 7247, 'Skills'], [7168, 7173, 'Degree'], [6961, 6968, 'Designation'], [6193, 6200, 'Designation'], [6177, 6201, 'Designation'], [5982, 5989, 'Designation'], [5962, 5969, 'Designation'], [4632, 4639, 'Designation'], [4624, 4640, 'Designation'], [3515, 3522, 'Designation'], [3499, 3523, 'Designation'], [2043, 2050, 'Designation'], [2030, 2050, 'Designation'], [946, 953, 'Designation'], [586, 593, 'Designation'], [579, 594, 'Designation'], [355, 362, 'Designation'], [217, 224, 'Designation'], [15, 22, 'Designation']], [[9725, 9742, 'Skills'], [9378, 9395, 'Skills'], [8878, 8892, 'Skills'], [8865, 8877, 'Skills'], [8846, 8863, 'Skills'], [8824, 8834, 'Skills'], [8803, 8812, 'Skills'], [8693, 8719, 'Degree'], [8588, 8638, 'Degree'], [8503, 8534, 'Degree'], [8272, 8289, 'Designation'], [8169, 8186, 'Designation'], [8101, 8118, 'Designation'], [8033, 8046, 'Designation'], [7936, 7951, 'Designation'], [6267, 6280, 'Designation'], [5115, 5138, 'Designation'], [3143, 3160, 'Designation'], [2999, 3016, 'Skills'], [2803, 2820, 'Skills'], [1511, 1528, 'Skills'], [1419, 1437, 'Designation'], [950, 967, 'Skills'], [603, 620, 'Skills']], [[8144, 8148, 'Skills'], [8038, 8044, 'Skills'], [8014, 8018, 'Skills'], [7989, 7995, 'Skills'], [7987, 7994, 'Skills'], [7961, 7967, 'Skills'], [7898, 7903, 'Degree'], [7774, 7791, 'Degree'], [7361, 7379, 'Designation'], [7263, 7283, 'Designation'], [5971, 5988, 'Designation'], [5339, 5364, 'Designation'], [5339, 5357, 'Designation'], [4466, 4482, 'Designation'], [2614, 2632, 'Designation'], [1372, 1395, 'Designation'], [12, 35, 'Designation']], [[799, 808, 'Skills'], [710, 760, 'Skills'], [608, 631, 'Degree'], [357, 370, 'Designation'], [111, 124, 'Designation']], [[1722, 1737, 'Skills'], [1707, 1720, 'Skills'], [1572, 1604, 'Degree'], [1441, 1489, 'Degree'], [974, 989, 'Designation'], [644, 659, 'Designation'], [232, 246, 'Designation']], [[6018, 6034, 'Designation'], [5327, 5343, 'Designation'], [5234, 5239, 'Skills'], [5210, 5222, 'Skills'], [5186, 5198, 'Skills'], [5158, 5174, 'Skills'], [5137, 5146, 'Skills'], [5064, 5077, 'Degree'], [4980, 4996, 'Degree'], [4256, 4272, 'Designation'], [3474, 3494, 'Designation'], [2656, 2669, 'Designation'], [2649, 2669, 'Designation'], [2348, 2361, 'Designation'], [1778, 1791, 'Designation'], [1477, 1490, 'Designation'], [1012, 1025, 'Designation'], [711, 724, 'Designation'], [224, 232, 'Designation'], [13, 21, 'Designation']], [[3842, 3854, 'Skills'], [3812, 3821, 'Skills'], [3804, 3821, 'Skills'], [3767, 3783, 'Skills'], [3747, 3755, 'Skills'], [3726, 3735, 'Skills'], [3454, 3471, 'Degree'], [3197, 3212, 'Designation'], [2723, 2740, 'Designation'], [2010, 2028, 'Designation'], [559, 580, 'Designation'], [164, 191, 'Designation'], [15, 42, 'Designation']], [[5208, 5231, 'Skills'], [5176, 5187, 'Skills'], [5143, 5155, 'Skills'], [5111, 5131, 'Skills'], [5094, 5099, 'Skills'], [5010, 5049, 'Degree'], [4951, 4975, 'Degree'], [1251, 1269, 'Designation'], [295, 313, 'Designation'], [17, 35, 'Designation']], [[645, 764, 'Skills'], [595, 600, 'Degree'], [551, 554, 'Degree'], [490, 493, 'Degree'], [364, 387, 'Designation']], [[1984, 2004, 'Skills'], [1947, 1963, 'Skills'], [1930, 1936, 'Skills'], [1908, 1918, 'Skills'], [1892, 1898, 'Skills'], [1882, 1897, 'Skills'], [1808, 1814, 'Degree'], [1602, 1632, 'Degree'], [700, 716, 'Designation'], [37, 53, 'Designation']], [[2040, 2071, 'Skills'], [2033, 2038, 'Skills'], [2021, 2031, 'Skills'], [1999, 2019, 'Skills'], [1912, 1918, 'Degree'], [1161, 1166, 'Skills'], [1124, 1129, 'Skills'], [876, 881, 'Skills'], [331, 336, 'Skills'], [321, 344, 'Designation'], [27, 32, 'Skills'], [17, 40, 'Designation']], [[2918, 2933, 'Skills'], [2865, 2913, 'Skills'], [2847, 2860, 'Skills'], [2810, 2842, 'Skills'], [2534, 2551, 'Degree'], [898, 912, 'Designation'], [310, 342, 'Designation'], [15, 18, 'Degree']], [[5131, 5142, 'Skills'], [5098, 5110, 'Skills'], [5069, 5077, 'Skills'], [5046, 5057, 'Skills'], [4847, 4879, 'Degree'], [4020, 4035, 'Designation'], [3281, 3302, 'Designation'], [1822, 1835, 'Designation'], [118, 146, 'Designation']], [[3643, 3658, 'Skills'], [3637, 3642, 'Skills'], [3634, 3642, 'Skills'], [3625, 3632, 'Skills'], [3616, 3623, 'Skills'], [3613, 3623, 'Skills'], [3494, 3501, 'Skills'], [3466, 3473, 'Skills'], [3438, 3445, 'Skills'], [3435, 3445, 'Skills'], [3409, 3414, 'Skills'], [3406, 3414, 'Skills'], [3380, 3385, 'Skills'], [3314, 3319, 'Degree'], [3276, 3283, 'Designation'], [2839, 2864, 'Designation'], [2001, 2008, 'Designation'], [1880, 1887, 'Designation'], [1830, 1837, 'Designation'], [1270, 1277, 'Designation'], [1008, 1015, 'Designation'], [1002, 1015, 'Designation'], [317, 324, 'Designation'], [311, 324, 'Designation'], [211, 218, 'Designation'], [205, 218, 'Designation'], [22, 29, 'Designation'], [16, 29, 'Designation']], [[2539, 2548, 'Skills'], [2473, 2484, 'Skills'], [2366, 2377, 'Skills'], [2331, 2345, 'Skills'], [2301, 2310, 'Skills'], [2252, 2257, 'Degree'], [2182, 2206, 'Degree'], [1609, 1624, 'Designation'], [1277, 1292, 'Designation'], [293, 316, 'Designation']], [[2333, 2349, 'Skills'], [2054, 2073, 'Degree'], [1918, 1937, 'Degree'], [843, 866, 'Designation'], [341, 355, 'Designation'], [16, 35, 'Degree']], [[1298, 1389, 'Skills'], [795, 838, 'Degree'], [568, 592, 'Designation'], [414, 429, 'Designation'], [57, 87, 'Degree']], [[4822, 5213, 'Skills'], [3409, 3441, 'Degree'], [2056, 2069, 'Designation'], [1724, 1737, 'Designation'], [1178, 1199, 'Designation'], [584, 605, 'Designation'], [580, 592, 'Designation'], [25, 46, 'Designation'], [21, 33, 'Designation']], [[821, 841, 'Skills'], [789, 807, 'Skills'], [749, 760, 'Degree'], [639, 652, 'Designation'], [132, 145, 'Designation'], [123, 145, 'Designation']], [[532, 546, 'Skills'], [466, 483, 'Degree'], [365, 380, 'Designation'], [156, 169, 'Designation']], [[645, 764, 'Skills'], [595, 600, 'Degree'], [551, 554, 'Degree'], [490, 493, 'Degree'], [364, 387, 'Designation']], [[6839, 6852, 'Skills'], [6702, 6764, 'Degree'], [6140, 6155, 'Designation'], [5676, 5691, 'Designation'], [2798, 2818, 'Designation'], [1311, 1321, 'Designation'], [618, 638, 'Designation'], [273, 293, 'Designation'], [15, 35, 'Designation']], [[4127, 4132, 'Skills'], [4032, 4075, 'Degree'], [4002, 4005, 'Degree'], [3972, 3975, 'Degree'], [3915, 3928, 'Degree'], [3280, 3285, 'Skills'], [3052, 3057, 'Skills'], [3048, 3067, 'Designation'], [2284, 2289, 'Skills'], [2256, 2289, 'Designation'], [1629, 1646, 'Designation'], [1399, 1404, 'Skills'], [1380, 1397, 'Designation'], [1312, 1317, 'Skills'], [1182, 1210, 'Designation'], [905, 910, 'Skills'], [875, 903, 'Designation'], [808, 813, 'Skills'], [743, 748, 'Skills'], [656, 684, 'Designation'], [428, 433, 'Skills'], [399, 427, 'Designation'], [43, 48, 'Skills'], [13, 41, 'Designation']], [[3240, 3299, 'Skills'], [3223, 3238, 'Skills'], [2871, 2876, 'Degree'], [2145, 2167, 'Designation'], [2081, 2098, 'Designation'], [1917, 1933, 'Designation'], [1622, 1643, 'Designation'], [1530, 1547, 'Designation'], [1414, 1432, 'Designation'], [1283, 1305, 'Designation'], [205, 223, 'Designation'], [36, 56, 'Designation'], [16, 34, 'Designation']], [[3627, 3644, 'Skills'], [3609, 3625, 'Skills'], [3359, 3390, 'Degree'], [3245, 3299, 'Degree'], [2849, 2866, 'Designation'], [2421, 2449, 'Designation'], [1235, 1258, 'Designation'], [163, 185, 'Designation'], [12, 34, 'Designation']], [[4978, 4990, 'Skills'], [4724, 4754, 'Skills'], [4601, 4611, 'Skills'], [4469, 4490, 'Skills'], [4459, 4490, 'Skills'], [4371, 4392, 'Skills'], [4338, 4350, 'Skills'], [4307, 4317, 'Skills'], [4265, 4286, 'Skills'], [4255, 4286, 'Skills'], [4204, 4234, 'Skills'], [4115, 4148, 'Degree'], [3589, 3606, 'Designation'], [2747, 2762, 'Designation'], [1373, 1386, 'Designation'], [149, 176, 'Designation'], [15, 42, 'Designation']], [[8706, 8710, 'Skills'], [8678, 8694, 'Skills'], [8648, 8666, 'Skills'], [8624, 8636, 'Skills'], [8606, 8611, 'Skills'], [8437, 8469, 'Degree'], [8344, 8383, 'Degree'], [8274, 8304, 'Degree'], [6684, 6696, 'Designation'], [5711, 5734, 'Designation'], [4678, 4700, 'Designation'], [3154, 3167, 'Designation'], [395, 413, 'Designation']], [[5477, 5484, 'Skills'], [5463, 5476, 'Skills'], [5456, 5461, 'Skills'], [5447, 5454, 'Skills'], [5435, 5445, 'Skills'], [5430, 5433, 'Skills'], [5347, 5354, 'Skills'], [5319, 5327, 'Skills'], [5285, 5298, 'Skills'], [5259, 5264, 'Skills'], [5235, 5238, 'Skills'], [5074, 5108, 'Degree'], [4364, 4384, 'Designation'], [3397, 3410, 'Designation'], [2405, 2419, 'Designation'], [1417, 1431, 'Designation'], [1188, 1202, 'Designation'], [298, 312, 'Designation'], [216, 229, 'Designation'], [11, 24, 'Designation']], [[1077, 1384, 'Skills'], [920, 925, 'Skills'], [888, 899, 'Skills'], [863, 868, 'Skills'], [860, 868, 'Skills'], [829, 839, 'Skills'], [803, 808, 'Skills'], [760, 775, 'Degree'], [582, 585, 'Degree'], [199, 217, 'Designation'], [149, 162, 'Designation']], [[398, 434, 'Skills'], [372, 392, 'Skills'], [345, 370, 'Skills'], [301, 303, 'Degree'], [250, 261, 'Designation'], [207, 220, 'Designation'], [157, 164, 'Designation']], [[6555, 6559, 'Skills'], [6526, 6542, 'Skills'], [6443, 6471, 'Degree'], [6318, 6366, 'Degree'], [5561, 5576, 'Designation'], [4988, 5007, 'Designation'], [3442, 3455, 'Designation'], [1935, 1949, 'Designation'], [1311, 1315, 'Skills'], [1068, 1096, 'Degree'], [13, 26, 'Designation']], [[3856, 3870, 'Skills'], [3830, 3835, 'Skills'], [3820, 3835, 'Skills'], [3782, 3799, 'Skills'], [3756, 3761, 'Skills'], [3725, 3735, 'Skills'], [3584, 3618, 'Degree'], [2629, 2644, 'Designation'], [1815, 1843, 'Designation'], [737, 746, 'Designation'], [379, 402, 'Designation'], [17, 40, 'Designation']], [[6714, 6863, 'Skills'], [6598, 6656, 'Degree'], [6500, 6531, 'Degree'], [6444, 6469, 'Degree'], [6368, 6385, 'Designation'], [6289, 6304, 'Designation'], [6089, 6113, 'Designation'], [5228, 5241, 'Designation'], [5143, 5156, 'Designation'], [5077, 5092, 'Designation'], [5008, 5025, 'Designation'], [4990, 5005, 'Designation'], [4926, 4943, 'Designation'], [4910, 4923, 'Designation'], [2037, 2055, 'Designation'], [2019, 2034, 'Designation'], [1645, 1658, 'Designation'], [1592, 1607, 'Designation'], [1487, 1505, 'Designation'], [1469, 1484, 'Designation'], [145, 173, 'Designation']], [[6231, 6238, 'Skills'], [6205, 6210, 'Skills'], [6164, 6181, 'Skills'], [6138, 6143, 'Skills'], [6121, 6126, 'Skills'], [5986, 6002, 'Degree'], [5904, 5918, 'Degree'], [5837, 5871, 'Degree'], [5274, 5292, 'Designation'], [4627, 4651, 'Designation'], [4203, 4222, 'Designation'], [3417, 3436, 'Designation'], [3215, 3234, 'Designation'], [2408, 2426, 'Designation'], [2021, 2039, 'Designation'], [1054, 1067, 'Designation'], [14, 27, 'Designation']], [[4018, 4089, 'Skills'], [3702, 3999, 'Skills'], [3525, 3661, 'Skills'], [3440, 3443, 'Degree'], [2513, 2531, 'Designation'], [2233, 2251, 'Designation'], [1468, 1490, 'Designation'], [172, 194, 'Designation'], [15, 37, 'Designation']], [[6112, 6404, 'Skills'], [5995, 6046, 'Degree'], [5921, 5924, 'Degree'], [5621, 5636, 'Designation'], [5226, 5252, 'Designation'], [4902, 4919, 'Designation'], [4498, 4515, 'Designation'], [4421, 4438, 'Designation'], [3827, 3844, 'Designation'], [2783, 2813, 'Designation'], [712, 740, 'Designation'], [15, 43, 'Designation']], [[4203, 4212, 'Skills'], [4026, 4035, 'Skills'], [3932, 3949, 'Degree'], [3847, 3863, 'Degree'], [3450, 3478, 'Designation'], [3197, 3215, 'Designation'], [2675, 2697, 'Designation'], [2377, 2391, 'Designation'], [2351, 2372, 'Designation'], [1076, 1099, 'Designation'], [724, 748, 'Designation'], [651, 665, 'Designation'], [617, 638, 'Designation'], [324, 354, 'Designation'], [14, 44, 'Designation']], [[4273, 4283, 'Skills'], [4265, 4272, 'Skills'], [4257, 4264, 'Skills'], [4248, 4255, 'Skills'], [4230, 4246, 'Skills'], [4218, 4227, 'Skills'], [4017, 4037, 'Degree'], [3296, 3311, 'Designation'], [1554, 1573, 'Designation'], [1123, 1138, 'Designation'], [18, 37, 'Designation']], [[17104, 17115, 'Skills'], [17084, 17093, 'Skills'], [17066, 17073, 'Skills'], [17047, 17053, 'Skills'], [16901, 16917, 'Skills'], [16883, 16889, 'Skills'], [16860, 16871, 'Skills'], [16840, 16849, 'Skills'], [16821, 16828, 'Skills'], [16741, 16757, 'Degree'], [16648, 16657, 'Skills'], [16641, 16668, 'Degree'], [16223, 16242, 'Designation'], [16223, 16232, 'Skills'], [15741, 15764, 'Designation'], [14909, 14916, 'Designation'], [14890, 14916, 'Designation'], [14466, 14473, 'Designation'], [14447, 14473, 'Designation'], [14177, 14184, 'Designation'], [14163, 14184, 'Designation'], [12993, 13000, 'Designation'], [12974, 13000, 'Designation'], [12655, 12662, 'Designation'], [12641, 12662, 'Designation'], [11790, 11797, 'Designation'], [11777, 11797, 'Designation'], [10567, 10574, 'Designation'], [10554, 10574, 'Designation'], [9845, 9852, 'Designation'], [9729, 9736, 'Designation'], [9718, 9736, 'Designation'], [9203, 9210, 'Designation'], [8685, 8692, 'Designation'], [8674, 8692, 'Designation'], [8171, 8177, 'Skills'], [8070, 8076, 'Skills'], [7475, 7482, 'Designation'], [7426, 7432, 'Skills'], [7386, 7392, 'Skills'], [7300, 7309, 'Skills'], [6922, 6928, 'Skills'], [6455, 6478, 'Designation'], [3747, 3753, 'Skills'], [3509, 3515, 'Skills'], [3201, 3207, 'Skills'], [3151, 3157, 'Skills'], [3107, 3114, 'Skills'], [2891, 2904, 'Designation'], [1777, 1790, 'Designation'], [378, 407, 'Designation'], [23, 29, 'Skills'], [16, 48, 'Designation']], [[4914, 4944, 'Skills'], [4885, 4893, 'Skills'], [4522, 4568, 'Degree'], [3921, 3948, 'Designation'], [3284, 3299, 'Designation'], [2612, 2625, 'Designation'], [1847, 1864, 'Designation'], [1173, 1187, 'Designation'], [602, 616, 'Designation'], [14, 28, 'Designation']], [[575, 605, 'Skills'], [457, 498, 'Degree'], [132, 145, 'Designation']], [[735, 836, 'Skills'], [664, 679, 'Degree'], [509, 524, 'Designation'], [264, 277, 'Designation'], [13, 42, 'Designation']], [[1077, 1384, 'Skills'], [803, 943, 'Skills'], [760, 775, 'Degree'], [582, 585, 'Degree'], [200, 217, 'Designation'], [149, 162, 'Designation']], [[5559, 5588, 'Degree'], [5511, 5530, 'Degree'], [4807, 5033, 'Skills'], [4725, 4744, 'Designation'], [4024, 4046, 'Designation'], [3258, 3280, 'Designation'], [1549, 1571, 'Designation'], [1012, 1033, 'Designation'], [197, 219, 'Designation'], [16, 37, 'Designation']], [[1764, 1887, 'Skills'], [1452, 1516, 'Degree'], [484, 495, 'Designation'], [13, 37, 'Designation'], [13, 24, 'Designation']], [[1483, 1670, 'Skills'], [1296, 1302, 'Degree'], [1222, 1238, 'Degree'], [1085, 1108, 'Designation'], [823, 846, 'Designation'], [772, 821, 'Designation'], [594, 617, 'Designation'], [17, 40, 'Designation']], [[5410, 5430, 'Skills'], [5283, 5324, 'Degree'], [5144, 5197, 'Degree'], [4991, 5064, 'Degree'], [4545, 4599, 'Designation'], [4329, 4383, 'Designation'], [4012, 4027, 'Designation'], [3450, 3470, 'Skills'], [3445, 3494, 'Designation'], [2472, 2495, 'Designation'], [2197, 2220, 'Designation'], [1243, 1258, 'Designation'], [1236, 1264, 'Designation'], [1007, 1022, 'Designation'], [1000, 1028, 'Designation'], [710, 730, 'Skills'], [428, 443, 'Designation'], [17, 32, 'Designation']], [[1481, 1489, 'Skills'], [1464, 1479, 'Skills'], [1444, 1462, 'Skills'], [1424, 1442, 'Skills'], [1406, 1422, 'Skills'], [1380, 1404, 'Skills'], [1361, 1378, 'Skills'], [1341, 1359, 'Skills'], [1316, 1339, 'Skills'], [1292, 1314, 'Skills'], [1192, 1212, 'Degree'], [1030, 1091, 'Degree'], [402, 425, 'Designation'], [279, 322, 'Designation'], [37, 54, 'Skills'], [15, 34, 'Designation']], [[3735, 3762, 'Skills'], [3703, 3733, 'Skills'], [3479, 3482, 'Degree'], [3393, 3396, 'Degree'], [2888, 2914, 'Designation'], [2513, 2526, 'Designation'], [2181, 2201, 'Designation'], [1745, 1758, 'Designation'], [1735, 1758, 'Designation'], [1215, 1240, 'Designation'], [504, 519, 'Designation'], [17, 32, 'Designation']], [[3421, 3604, 'Skills'], [3198, 3375, 'Skills'], [2923, 2955, 'Degree'], [2827, 2842, 'Designation'], [2548, 2580, 'Designation'], [2548, 2563, 'Designation'], [1095, 1127, 'Designation'], [1095, 1110, 'Designation'], [1004, 1017, 'Designation'], [994, 1003, 'Designation'], [907, 920, 'Designation'], [897, 906, 'Designation'], [812, 825, 'Designation'], [747, 760, 'Designation'], [544, 557, 'Designation'], [472, 486, 'Designation'], [10, 24, 'Designation']], [[3879, 3892, 'Skills'], [3850, 3871, 'Skills'], [3749, 3757, 'Skills'], [3709, 3718, 'Skills'], [3664, 3672, 'Skills'], [3636, 3645, 'Skills'], [3542, 3550, 'Skills'], [3526, 3530, 'Skills'], [3510, 3515, 'Skills'], [3489, 3498, 'Skills'], [3468, 3478, 'Skills'], [3381, 3420, 'Degree'], [1620, 1643, 'Designation'], [739, 762, 'Designation']], [[2010, 2013, 'Degree'], [973, 1703, 'Skills'], [903, 920, 'Degree'], [857, 860, 'Degree'], [795, 803, 'Designation'], [738, 746, 'Designation'], [454, 462, 'Designation'], [264, 272, 'Designation'], [14, 22, 'Designation']], [[2826, 2879, 'Skills'], [2768, 2810, 'Skills'], [2384, 2428, 'Degree'], [2300, 2328, 'Degree'], [333, 353, 'Designation'], [12, 32, 'Designation']], [[3490, 3523, 'Skills'], [3388, 3420, 'Degree'], [3290, 3311, 'Degree'], [1722, 1740, 'Designation'], [1463, 1489, 'Designation'], [563, 589, 'Designation'], [9, 35, 'Designation']], [[1970, 2083, 'Skills'], [1675, 1926, 'Skills'], [1439, 1488, 'Degree'], [730, 740, 'Designation'], [466, 476, 'Designation'], [14, 24, 'Designation']], [[1710, 1721, 'Skills'], [1692, 1707, 'Skills'], [1404, 1433, 'Degree'], [1122, 1132, 'Degree'], [1051, 1072, 'Degree'], [955, 991, 'Degree'], [342, 363, 'Designation'], [16, 37, 'Designation']], [[4197, 4960, 'Skills'], [3913, 4045, 'Skills'], [3800, 3830, 'Degree'], [3346, 3355, 'Designation'], [2416, 2425, 'Designation'], [1467, 1476, 'Designation'], [1259, 1268, 'Designation'], [12, 21, 'Designation']], [[1439, 1592, 'Skills'], [1248, 1256, 'Degree'], [1118, 1129, 'Degree'], [349, 360, 'Designation'], [9, 20, 'Designation']], [[1219, 1348, 'Skills'], [1152, 1169, 'Degree'], [1053, 1059, 'Degree'], [394, 409, 'Designation']], [[868, 876, 'Skills'], [762, 811, 'Degree'], [708, 713, 'Degree'], [632, 649, 'Degree'], [403, 416, 'Designation'], [349, 366, 'Designation']], [[1878, 1883, 'Skills'], [1871, 1876, 'Skills'], [1831, 1848, 'Skills'], [1803, 1821, 'Skills'], [1735, 1740, 'Skills'], [1709, 1714, 'Skills'], [1680, 1685, 'Skills'], [1597, 1618, 'Degree'], [1577, 1595, 'Degree'], [1486, 1500, 'Degree'], [1069, 1087, 'Designation'], [313, 330, 'Designation'], [11, 28, 'Designation']], [[11663, 12212, 'Skills'], [11476, 11559, 'Skills'], [11357, 11387, 'Degree'], [4347, 4365, 'Designation'], [2053, 2071, 'Designation'], [16, 34, 'Designation']], [[4611, 4621, 'Skills'], [4526, 4529, 'Degree'], [4368, 4385, 'Designation'], [3749, 3766, 'Designation'], [2726, 2783, 'Designation'], [2138, 2195, 'Designation'], [13, 70, 'Designation']], [[2444, 2469, 'Skills'], [2415, 2440, 'Skills'], [2403, 2412, 'Skills'], [2355, 2399, 'Skills'], [2293, 2305, 'Skills'], [2172, 2210, 'Skills'], [1338, 1341, 'Skills'], [1119, 1122, 'Skills'], [851, 860, 'Skills'], [828, 831, 'Skills'], [796, 807, 'Skills'], [789, 795, 'Skills'], [762, 768, 'Skills'], [735, 741, 'Skills'], [552, 555, 'Degree'], [486, 489, 'Degree'], [404, 446, 'Designation'], [14, 56, 'Designation']], [[1356, 1793, 'Skills'], [1136, 1248, 'Skills'], [821, 856, 'Degree'], [722, 742, 'Designation'], [640, 656, 'Designation'], [555, 573, 'Designation'], [444, 469, 'Designation'], [13, 38, 'Designation']], [[667, 703, 'Skills'], [612, 637, 'Degree'], [587, 590, 'Degree'], [526, 536, 'Designation'], [491, 503, 'Designation'], [246, 258, 'Designation'], [226, 236, 'Designation'], [177, 207, 'Designation'], [19, 31, 'Designation']], [[2246, 2573, 'Skills'], [875, 964, 'Skills'], [773, 830, 'Degree'], [714, 741, 'Degree'], [233, 252, 'Designation'], [16, 35, 'Designation']], [[4652, 4850, 'Skills'], [4499, 4541, 'Degree'], [2632, 2652, 'Designation'], [1238, 1258, 'Designation'], [465, 485, 'Designation'], [16, 36, 'Designation']], [[1894, 2173, 'Skills'], [1726, 1851, 'Skills'], [1610, 1642, 'Degree'], [1276, 1325, 'Degree'], [181, 202, 'Designation'], [17, 31, 'Designation']], [[5419, 5425, 'Degree'], [1725, 1758, 'Designation'], [1576, 1706, 'Skills'], [14, 47, 'Designation']], [[3052, 3067, 'Skills'], [2951, 2992, 'Degree'], [847, 868, 'Designation'], [577, 598, 'Designation'], [19, 40, 'Designation']], [[2169, 2179, 'Skills'], [2154, 2166, 'Skills'], [2142, 2151, 'Skills'], [2105, 2140, 'Skills'], [1305, 1486, 'Skills'], [910, 939, 'Degree'], [387, 403, 'Designation'], [15, 31, 'Designation']], [[4048, 4169, 'Skills'], [3970, 3975, 'Degree'], [3804, 3820, 'Designation'], [3721, 3734, 'Designation'], [2023, 2032, 'Designation'], [187, 196, 'Designation'], [11, 20, 'Designation']], [[3086, 3255, 'Skills'], [3046, 3058, 'Skills'], [2975, 2979, 'Degree'], [2932, 2936, 'Degree'], [2846, 2868, 'Degree'], [2614, 2693, 'Skills'], [2385, 2401, 'Designation'], [837, 849, 'Skills'], [311, 327, 'Designation'], [221, 233, 'Skills'], [138, 170, 'Degree'], [14, 30, 'Designation']], [[1844, 1873, 'Skills'], [1844, 1860, 'Skills'], [1811, 1815, 'Skills'], [1794, 1830, 'Skills'], [1765, 1771, 'Skills'], [1748, 1790, 'Skills'], [1742, 1745, 'Skills'], [1734, 1745, 'Skills'], [1666, 1670, 'Skills'], [1636, 1645, 'Skills'], [1599, 1615, 'Skills'], [1575, 1578, 'Skills'], [1548, 1554, 'Skills'], [1328, 1366, 'Degree'], [1106, 1183, 'Degree'], [894, 897, 'Skills'], [886, 897, 'Skills'], [856, 862, 'Skills'], [211, 233, 'Designation']], [[1466, 1549, 'Skills'], [1025, 1038, 'Degree'], [378, 387, 'Designation'], [19, 28, 'Designation']], [[524, 661, 'Skills'], [400, 422, 'Degree'], [306, 332, 'Designation']], [[2957, 3074, 'Skills'], [2823, 2854, 'Degree'], [2780, 2822, 'Degree'], [2683, 2732, 'Degree'], [1044, 1064, 'Designation'], [626, 1024, 'Skills']], [[696, 1129, 'Skills'], [575, 624, 'Degree'], [406, 450, 'Designation'], [21, 65, 'Designation']], [[2566, 2783, 'Skills'], [2356, 2362, 'Degree'], [2308, 2331, 'Designation'], [1270, 1293, 'Designation'], [1122, 1145, 'Designation']], [[4563, 4747, 'Skills'], [4511, 4536, 'Degree'], [4443, 4496, 'Degree'], [2711, 2736, 'Designation'], [2663, 2686, 'Designation'], [2012, 2035, 'Designation'], [1573, 1596, 'Designation']], [[3822, 3978, 'Skills'], [3466, 3819, 'Skills'], [943, 973, 'Degree'], [810, 850, 'Designation'], [709, 753, 'Designation'], [454, 464, 'Designation'], [245, 255, 'Designation']], [[2833, 4400, 'Skills'], [2766, 2779, 'Degree'], [1645, 1674, 'Designation'], [15, 44, 'Designation']], [[6305, 7258, 'Skills'], [6117, 6151, 'Degree'], [2962, 2985, 'Designation'], [1292, 1315, 'Designation'], [14, 37, 'Designation']], [[931, 1013, 'Skills'], [737, 772, 'Degree'], [319, 340, 'Designation'], [14, 29, 'Designation']], [[1821, 2095, 'Skills'], [1684, 1690, 'Degree'], [169, 192, 'Designation'], [13, 36, 'Designation']], [[2110, 2404, 'Skills'], [1895, 1947, 'Skills'], [1794, 1826, 'Degree'], [479, 493, 'Designation'], [337, 351, 'Designation'], [219, 234, 'Designation'], [11, 25, 'Designation']], [[605, 753, 'Skills'], [344, 349, 'Degree'], [220, 247, 'Degree'], [139, 150, 'Designation']], [[3272, 3302, 'Degree'], [2941, 3244, 'Skills'], [2780, 2892, 'Skills'], [789, 799, 'Designation'], [229, 239, 'Designation'], [12, 22, 'Designation']], [[3132, 3611, 'Skills'], [3005, 3083, 'Skills'], [2912, 2935, 'Degree'], [2873, 2884, 'Degree'], [1610, 1623, 'Designation'], [1550, 1563, 'Designation'], [317, 330, 'Designation'], [13, 26, 'Designation']], [[3036, 3078, 'Skills'], [2922, 3018, 'Skills'], [2738, 2824, 'Skills'], [2658, 2671, 'Degree'], [2513, 2528, 'Designation'], [1861, 1878, 'Designation'], [417, 437, 'Designation'], [83, 96, 'Degree'], [21, 49, 'Designation']], [[3511, 3749, 'Skills'], [3313, 3364, 'Skills'], [3273, 3283, 'Degree'], [3172, 3206, 'Degree'], [2399, 2409, 'Degree'], [1008, 1031, 'Designation'], [224, 234, 'Degree'], [124, 134, 'Degree']], [[2707, 2711, 'Skills'], [2683, 2693, 'Skills'], [2677, 2681, 'Skills'], [2670, 2673, 'Skills'], [2662, 2666, 'Skills'], [2654, 2658, 'Skills'], [2626, 2629, 'Skills'], [2607, 2624, 'Skills'], [2599, 2605, 'Skills'], [2594, 2597, 'Skills'], [2585, 2592, 'Skills'], [2561, 2565, 'Skills'], [2541, 2556, 'Skills'], [2515, 2521, 'Skills'], [2499, 2503, 'Skills'], [2487, 2497, 'Skills'], [2456, 2465, 'Skills'], [2333, 2340, 'Degree'], [1982, 1986, 'Skills'], [1977, 1980, 'Skills'], [1971, 1975, 'Skills'], [1959, 1969, 'Skills'], [1888, 1904, 'Designation'], [1824, 1840, 'Designation'], [1436, 1440, 'Skills'], [911, 915, 'Skills'], [906, 909, 'Skills'], [900, 904, 'Skills'], [888, 898, 'Skills'], [819, 835, 'Designation'], [812, 835, 'Designation'], [784, 810, 'Designation'], [712, 716, 'Skills'], [464, 468, 'Skills'], [255, 272, 'Skills'], [250, 253, 'Skills'], [228, 238, 'Skills'], [222, 226, 'Skills'], [216, 220, 'Skills'], [210, 214, 'Skills'], [210, 213, 'Skills'], [203, 208, 'Skills'], [203, 207, 'Skills'], [197, 201, 'Skills'], [185, 195, 'Skills'], [115, 128, 'Designation'], [11, 24, 'Designation']], [[1368, 1560, 'Skills'], [1096, 1133, 'Skills'], [1028, 1037, 'Degree'], [908, 956, 'Degree'], [500, 522, 'Designation'], [17, 39, 'Designation']], [[13907, 13911, 'Skills'], [13883, 13887, 'Skills'], [13883, 13886, 'Skills'], [13724, 13732, 'Skills'], [13716, 13722, 'Skills'], [13707, 13714, 'Skills'], [13699, 13705, 'Skills'], [13691, 13697, 'Skills'], [13687, 13690, 'Skills'], [13682, 13685, 'Skills'], [13665, 13670, 'Skills'], [13650, 13654, 'Skills'], [13636, 13639, 'Skills'], [13478, 13500, 'Designation'], [12020, 12026, 'Skills'], [11962, 11968, 'Skills'], [11701, 11705, 'Skills'], [11578, 11582, 'Skills'], [11578, 11581, 'Skills'], [10980, 11002, 'Designation'], [10829, 10834, 'Skills'], [9450, 9455, 'Skills'], [8846, 8851, 'Skills'], [8704, 8709, 'Skills'], [7512, 7517, 'Skills'], [6507, 6513, 'Skills'], [6503, 6506, 'Skills'], [6479, 6484, 'Skills'], [4994, 4999, 'Skills'], [4213, 4216, 'Skills'], [4122, 4126, 'Skills'], [3540, 3545, 'Skills'], [3520, 3524, 'Skills'], [3466, 3488, 'Designation'], [3300, 3306, 'Degree'], [3269, 3273, 'Skills'], [3248, 3268, 'Skills'], [3243, 3247, 'Skills'], [3243, 3246, 'Skills'], [3236, 3242, 'Skills'], [3219, 3234, 'Skills'], [3083, 3110, 'Skills'], [3052, 3059, 'Skills'], [3017, 3036, 'Skills'], [2980, 3016, 'Skills'], [2951, 2979, 'Skills'], [2936, 2950, 'Skills'], [2915, 2935, 'Skills'], [2891, 2914, 'Skills'], [2596, 2618, 'Designation'], [1109, 1115, 'Skills'], [1051, 1057, 'Skills'], [790, 794, 'Skills'], [667, 671, 'Skills'], [667, 670, 'Skills'], [34, 48, 'Designation'], [17, 32, 'Designation']], [[989, 1007, 'Skills'], [952, 968, 'Skills'], [919, 943, 'Skills'], [889, 916, 'Skills'], [762, 775, 'Skills'], [732, 741, 'Skills'], [705, 712, 'Skills'], [677, 684, 'Skills'], [647, 656, 'Skills'], [623, 627, 'Skills'], [536, 547, 'Degree'], [198, 226, 'Designation'], [13, 41, 'Designation']], [[4093, 4190, 'Skills'], [3940, 4089, 'Skills'], [3824, 3895, 'Skills'], [3749, 3768, 'Degree'], [3191, 3209, 'Designation'], [2277, 2294, 'Designation'], [1377, 1394, 'Designation'], [12, 29, 'Designation']], [[4888, 4937, 'Degree'], [4812, 4841, 'Degree'], [4484, 4505, 'Skills'], [4285, 4355, 'Skills'], [4189, 4259, 'Skills'], [2041, 2054, 'Designation'], [1960, 1993, 'Designation'], [1789, 1816, 'Designation'], [1718, 1745, 'Designation'], [1563, 1592, 'Designation'], [15, 45, 'Designation'], [15, 44, 'Designation']], [[2668, 2945, 'Skills'], [2582, 2616, 'Degree'], [2489, 2516, 'Degree'], [1063, 1087, 'Designation'], [10, 34, 'Designation']], [[4542, 4549, 'Skills'], [4178, 4187, 'Skills'], [3996, 3999, 'Skills'], [3985, 3993, 'Skills'], [3929, 3933, 'Skills'], [3840, 3849, 'Skills'], [3814, 3828, 'Skills'], [3787, 3793, 'Skills'], [3759, 3766, 'Skills'], [3735, 3738, 'Skills'], [3707, 3714, 'Skills'], [3682, 3686, 'Skills'], [3653, 3661, 'Skills'], [3624, 3633, 'Skills'], [3603, 3612, 'Skills'], [3485, 3508, 'Degree'], [1269, 1286, 'Designation']], [[4213, 4349, 'Skills'], [4015, 4196, 'Skills'], [3908, 3956, 'Degree'], [3824, 3875, 'Degree'], [1814, 1835, 'Designation'], [187, 208, 'Designation'], [11, 43, 'Designation'], [11, 32, 'Designation']], [[3407, 3411, 'Skills'], [3080, 3097, 'Skills'], [3051, 3069, 'Skills'], [3022, 3026, 'Skills'], [2993, 3011, 'Skills'], [2962, 2966, 'Degree'], [2363, 2367, 'Skills'], [1702, 1706, 'Skills'], [328, 332, 'Degree'], [13, 43, 'Designation']], [[602, 741, 'Skills'], [537, 555, 'Degree'], [338, 364, 'Designation']], [[3255, 3264, 'Skills'], [3246, 3254, 'Skills'], [3120, 3140, 'Degree'], [2948, 2969, 'Designation'], [2619, 2640, 'Designation'], [2396, 2417, 'Designation'], [1823, 1844, 'Designation'], [1601, 1622, 'Designation'], [1412, 1433, 'Designation'], [1098, 1119, 'Designation'], [1042, 1051, 'Skills'], [952, 973, 'Designation'], [690, 711, 'Designation'], [524, 545, 'Designation'], [370, 392, 'Designation'], [370, 391, 'Designation'], [238, 259, 'Designation'], [13, 35, 'Designation'], [13, 34, 'Designation']], [[11921, 12599, 'Skills'], [11791, 11876, 'Skills'], [11699, 11735, 'Degree'], [11216, 11234, 'Designation'], [10556, 10574, 'Designation'], [9672, 9690, 'Designation'], [3704, 3734, 'Designation'], [10, 40, 'Designation']], [[210, 251, 'Skills'], [165, 188, 'Degree'], [104, 116, 'Designation']], [[957, 1203, 'Skills'], [662, 775, 'Skills'], [449, 481, 'Degree'], [246, 269, 'Designation'], [14, 37, 'Designation']], [[4690, 5815, 'Skills'], [4551, 4556, 'Degree'], [4468, 4500, 'Degree'], [879, 905, 'Designation'], [15, 41, 'Designation']], [[5925, 5940, 'Skills'], [5433, 5448, 'Skills'], [3347, 3474, 'Skills'], [3250, 3261, 'Degree'], [2550, 2571, 'Designation'], [1556, 1577, 'Designation'], [1314, 1330, 'Designation'], [585, 606, 'Designation'], [568, 607, 'Designation'], [30, 51, 'Designation'], [13, 52, 'Designation']], [[12088, 12384, 'Skills'], [11993, 11999, 'Degree'], [11001, 11012, 'Designation'], [8160, 8171, 'Designation'], [7187, 7198, 'Designation'], [6185, 6196, 'Designation'], [5337, 5348, 'Designation'], [4185, 4196, 'Designation'], [2250, 2261, 'Designation'], [1146, 1157, 'Designation'], [24, 35, 'Designation']], [[2416, 2419, 'Degree'], [2339, 2350, 'Degree'], [2226, 2256, 'Degree'], [1974, 1991, 'Skills'], [1945, 1948, 'Skills'], [1935, 1939, 'Skills'], [1538, 1551, 'Skills'], [1519, 1536, 'Skills'], [1500, 1517, 'Skills'], [1484, 1498, 'Skills'], [1467, 1482, 'Skills'], [1092, 1116, 'Designation'], [511, 514, 'Skills'], [503, 507, 'Skills'], [225, 240, 'Skills']], [[4167, 4170, 'Skills'], [4141, 4145, 'Skills'], [4117, 4120, 'Skills'], [4099, 4114, 'Skills'], [4088, 4096, 'Skills'], [4079, 4086, 'Skills'], [4073, 4077, 'Skills'], [4067, 4069, 'Skills'], [4063, 4066, 'Skills'], [4059, 4061, 'Skills'], [3950, 3953, 'Skills'], [3944, 3948, 'Skills'], [3812, 3814, 'Skills'], [3577, 3581, 'Skills'], [3096, 3100, 'Skills'], [3066, 3074, 'Skills'], [2586, 2593, 'Skills'], [2555, 2562, 'Skills'], [2476, 2483, 'Skills'], [2434, 2455, 'Designation'], [2385, 2406, 'Designation'], [2256, 2275, 'Skills'], [2251, 2254, 'Skills'], [2222, 2230, 'Skills'], [2218, 2220, 'Skills'], [2194, 2198, 'Skills'], [2170, 2173, 'Skills'], [2146, 2149, 'Skills'], [2121, 2125, 'Skills'], [2097, 2100, 'Skills'], [2069, 2076, 'Skills'], [1964, 1970, 'Degree'], [1706, 1709, 'Skills'], [1700, 1704, 'Skills'], [1343, 1347, 'Skills'], [968, 972, 'Skills'], [938, 946, 'Skills'], [412, 441, 'Designation'], [97, 112, 'Skills'], [87, 95, 'Skills'], [83, 85, 'Skills'], [78, 82, 'Skills'], [17, 46, 'Designation']], [[2349, 2642, 'Skills'], [1990, 2044, 'Degree'], [1895, 1913, 'Designation'], [309, 327, 'Designation']], [[415, 1910, 'Skills'], [347, 385, 'Degree'], [311, 315, 'Degree'], [275, 278, 'Degree'], [118, 138, 'Designation']], [[3912, 4040, 'Skills'], [3886, 3898, 'Degree'], [3756, 3813, 'Degree'], [3644, 3682, 'Degree'], [324, 350, 'Designation'], [275, 302, 'Designation'], [13, 23, 'Designation']], [[2717, 2959, 'Skills'], [2668, 2683, 'Degree'], [2577, 2597, 'Degree'], [2465, 2504, 'Degree'], [481, 507, 'Designation'], [373, 399, 'Designation'], [28, 48, 'Degree']], [[2076, 2079, 'Skills'], [2058, 2091, 'Skills'], [2058, 2074, 'Skills'], [1972, 1981, 'Skills'], [1935, 1951, 'Skills'], [1911, 1914, 'Skills'], [1865, 1868, 'Skills'], [1862, 1890, 'Skills'], [1818, 1841, 'Skills'], [1374, 1418, 'Degree'], [510, 525, 'Designation'], [430, 445, 'Designation'], [15, 30, 'Designation']], [[5050, 5057, 'Skills'], [4993, 5027, 'Skills'], [4963, 4968, 'Skills'], [4950, 4953, 'Skills'], [4879, 4882, 'Skills'], [4818, 4824, 'Degree'], [3122, 3125, 'Skills'], [3008, 3011, 'Skills'], [2985, 3006, 'Designation'], [2979, 2982, 'Skills'], [1050, 1053, 'Skills'], [653, 656, 'Skills'], [183, 186, 'Skills'], [43, 46, 'Skills'], [19, 40, 'Designation'], [13, 16, 'Skills']], [[5558, 5568, 'Designation'], [4879, 4889, 'Designation'], [4159, 4169, 'Designation'], [2715, 2725, 'Designation'], [2331, 2368, 'Skills'], [1040, 1140, 'Skills'], [952, 956, 'Degree'], [873, 876, 'Degree'], [794, 797, 'Degree'], [707, 736, 'Degree'], [218, 228, 'Designation'], [36, 46, 'Designation'], [27, 47, 'Designation']], [[210, 251, 'Skills'], [165, 187, 'Degree'], [103, 116, 'Designation']], [[2349, 2472, 'Skills'], [2331, 2340, 'Degree'], [733, 757, 'Designation'], [8, 51, 'Designation']], [[5639, 5803, 'Skills'], [5371, 5638, 'Skills'], [5218, 5345, 'Skills'], [5173, 5185, 'Degree'], [5153, 5158, 'Degree'], [4701, 4721, 'Designation'], [4057, 4077, 'Designation'], [4050, 4077, 'Designation'], [3767, 3785, 'Designation'], [2731, 2749, 'Designation'], [1859, 1877, 'Designation'], [1097, 1115, 'Designation'], [624, 644, 'Designation'], [401, 419, 'Designation'], [15, 33, 'Designation']], [[7736, 8031, 'Skills'], [7534, 7695, 'Skills'], [7449, 7479, 'Degree'], [6587, 6603, 'Designation'], [5752, 5762, 'Designation'], [5103, 5125, 'Designation'], [3690, 3710, 'Designation'], [956, 978, 'Designation'], [389, 507, 'Skills'], [15, 37, 'Designation']], [[7926, 7935, 'Skills'], [7904, 7914, 'Skills'], [7869, 7890, 'Skills'], [7843, 7849, 'Skills'], [7824, 7830, 'Skills'], [7619, 7681, 'Degree'], [6929, 6945, 'Designation'], [4858, 4875, 'Designation'], [4763, 4777, 'Designation'], [3812, 3837, 'Designation'], [3715, 3740, 'Designation'], [2977, 2990, 'Designation'], [2869, 2957, 'Skills'], [1116, 1143, 'Designation'], [788, 831, 'Designation'], [232, 249, 'Designation'], [17, 42, 'Designation']], [[2999, 3008, 'Degree'], [2991, 3144, 'Skills'], [2899, 2915, 'Degree'], [2846, 2855, 'Degree'], [2536, 2561, 'Designation'], [1989, 2007, 'Designation'], [1546, 1560, 'Designation'], [437, 451, 'Designation'], [428, 450, 'Designation'], [384, 409, 'Designation'], [29, 43, 'Designation'], [20, 42, 'Designation']], [[3490, 3499, 'Skills'], [3461, 3470, 'Skills'], [3435, 3440, 'Skills'], [3403, 3409, 'Skills'], [3112, 3137, 'Degree'], [1623, 1646, 'Designation'], [338, 358, 'Designation'], [306, 320, 'Designation'], [256, 261, 'Degree'], [22, 42, 'Designation']], [[1152, 1163, 'Degree'], [1068, 1106, 'Degree'], [1068, 1071, 'Degree'], [915, 1057, 'Skills'], [750, 770, 'Skills'], [668, 671, 'Degree'], [435, 478, 'Designation'], [258, 279, 'Designation']], [[3656, 3685, 'Skills'], [3646, 3654, 'Skills'], [3628, 3644, 'Skills'], [3613, 3626, 'Skills'], [3603, 3611, 'Skills'], [3581, 3601, 'Skills'], [3564, 3579, 'Skills'], [3489, 3506, 'Degree'], [2946, 2968, 'Designation'], [2860, 2879, 'Designation'], [1919, 1932, 'Skills'], [1913, 1932, 'Designation'], [1387, 1400, 'Skills'], [1381, 1400, 'Designation'], [1313, 1326, 'Skills'], [1305, 1326, 'Designation'], [757, 770, 'Skills'], [479, 496, 'Designation'], [356, 373, 'Designation'], [13, 30, 'Designation']], [[9725, 9742, 'Skills'], [9378, 9395, 'Skills'], [8879, 8892, 'Skills'], [8864, 8877, 'Skills'], [8846, 8863, 'Skills'], [8823, 8834, 'Skills'], [8803, 8812, 'Skills'], [8693, 8718, 'Degree'], [8588, 8638, 'Degree'], [8503, 8534, 'Degree'], [8272, 8289, 'Designation'], [8169, 8186, 'Designation'], [8101, 8118, 'Designation'], [8033, 8046, 'Designation'], [7936, 7951, 'Designation'], [6267, 6280, 'Designation'], [5115, 5138, 'Designation'], [3143, 3167, 'Designation'], [2999, 3016, 'Skills'], [2803, 2820, 'Skills'], [1511, 1528, 'Skills'], [1419, 1437, 'Designation'], [950, 967, 'Skills'], [603, 620, 'Skills'], [13, 51, 'Degree']], [[4538, 4548, 'Skills'], [4528, 4548, 'Skills'], [4494, 4507, 'Skills'], [4460, 4473, 'Skills'], [4429, 4439, 'Skills'], [4400, 4417, 'Skills'], [4309, 4339, 'Degree'], [4247, 4250, 'Degree'], [3983, 3993, 'Designation'], [2836, 2861, 'Designation'], [2707, 2714, 'Designation'], [1623, 1634, 'Designation'], [912, 919, 'Designation'], [795, 802, 'Designation'], [11, 18, 'Designation']], [[4457, 4552, 'Skills'], [4364, 4384, 'Designation'], [4152, 4172, 'Degree'], [791, 831, 'Designation'], [620, 667, 'Designation'], [362, 410, 'Designation'], [313, 359, 'Designation'], [177, 201, 'Designation'], [14, 38, 'Designation']], [[1097, 1100, 'Degree'], [970, 988, 'Designation'], [905, 928, 'Skills'], [336, 351, 'Designation'], [11, 26, 'Designation']], [[6607, 6610, 'Skills'], [6298, 6311, 'Skills'], [6268, 6277, 'Skills'], [6253, 6256, 'Skills'], [6234, 6239, 'Skills'], [6132, 6153, 'Degree'], [6021, 6035, 'Designation'], [5923, 5937, 'Designation'], [5916, 5937, 'Designation'], [5400, 5423, 'Designation'], [4844, 4858, 'Designation'], [4775, 4803, 'Designation'], [4685, 4699, 'Designation'], [4680, 4698, 'Designation'], [4625, 4639, 'Designation'], [3996, 4024, 'Designation'], [3268, 3286, 'Designation'], [3186, 3200, 'Designation'], [3181, 3199, 'Designation'], [3136, 3154, 'Designation'], [3012, 3031, 'Designation'], [2967, 2985, 'Designation'], [2847, 2866, 'Designation'], [1587, 1606, 'Designation'], [1092, 1111, 'Designation'], [790, 810, 'Designation'], [567, 587, 'Designation'], [21, 41, 'Designation']], [[1764, 1887, 'Skills'], [1452, 1516, 'Degree'], [1325, 1346, 'Designation'], [484, 495, 'Designation'], [13, 24, 'Designation']], [[8362, 8727, 'Skills'], [6731, 6742, 'Skills'], [6707, 6719, 'Skills'], [6685, 6694, 'Skills'], [6661, 6671, 'Skills'], [6642, 6647, 'Skills'], [6579, 6584, 'Degree'], [6498, 6519, 'Degree'], [6270, 6282, 'Designation'], [5628, 5651, 'Designation'], [4584, 4602, 'Designation'], [2639, 2675, 'Designation'], [2104, 2119, 'Designation'], [2072, 2085, 'Skills'], [1325, 1338, 'Designation'], [1217, 1247, 'Degree'], [1171, 1191, 'Degree'], [1039, 1058, 'Skills'], [1022, 1035, 'Skills'], [311, 335, 'Designation'], [162, 190, 'Designation'], [17, 30, 'Designation']], [[8135, 8183, 'Skills'], [7702, 7707, 'Skills'], [7589, 7595, 'Degree'], [7513, 7546, 'Degree'], [7417, 7449, 'Degree'], [6654, 6679, 'Designation'], [6082, 6095, 'Designation'], [5838, 5856, 'Designation'], [5512, 5539, 'Designation'], [5457, 5475, 'Designation'], [4938, 4960, 'Designation'], [4450, 4472, 'Designation'], [3937, 3968, 'Designation'], [3612, 3617, 'Skills'], [2779, 2797, 'Designation'], [1681, 1703, 'Designation'], [393, 405, 'Designation'], [15, 37, 'Designation']], [[821, 841, 'Skills'], [789, 807, 'Skills'], [749, 760, 'Degree'], [639, 652, 'Designation'], [132, 145, 'Designation'], [123, 145, 'Designation']], [[6293, 6347, 'Skills'], [6090, 6147, 'Skills'], [5847, 6068, 'Skills'], [5780, 5799, 'Skills'], [5745, 5768, 'Skills'], [5718, 5733, 'Skills'], [5696, 5706, 'Skills'], [5675, 5684, 'Skills'], [5635, 5638, 'Degree'], [4434, 4441, 'Designation'], [4179, 4197, 'Designation'], [519, 526, 'Designation'], [13, 20, 'Designation']], [[6561, 6641, 'Skills'], [6439, 6517, 'Skills'], [6370, 6375, 'Degree'], [6277, 6286, 'Degree'], [5649, 5679, 'Designation'], [5649, 5666, 'Designation'], [4939, 4957, 'Designation'], [4827, 4845, 'Designation'], [4448, 4465, 'Designation'], [3598, 3628, 'Designation'], [3598, 3615, 'Designation'], [2859, 2887, 'Designation'], [256, 291, 'Designation'], [16, 51, 'Designation']], [[5177, 5197, 'Skills'], [5050, 5059, 'Skills'], [4999, 5005, 'Skills'], [4967, 4996, 'Skills'], [4771, 4914, 'Skills'], [4687, 4719, 'Degree'], [4605, 4610, 'Degree'], [4190, 4223, 'Designation'], [2423, 2438, 'Designation'], [2312, 2327, 'Designation'], [1331, 1353, 'Skills'], [398, 442, 'Designation'], [14, 58, 'Designation']], [[5279, 5296, 'Skills'], [5108, 5129, 'Degree'], [5079, 5084, 'Degree'], [4386, 4401, 'Designation'], [3983, 4012, 'Designation'], [3629, 3658, 'Designation'], [3033, 3050, 'Designation'], [2417, 2454, 'Designation'], [509, 524, 'Designation'], [13, 28, 'Designation']], [[437, 453, 'Skills'], [379, 401, 'Degree'], [133, 157, 'Designation']], [[4095, 4110, 'Skills'], [4055, 4074, 'Skills'], [4025, 4035, 'Skills'], [4007, 4015, 'Skills'], [3985, 3995, 'Skills'], [3888, 3936, 'Degree'], [3777, 3793, 'Degree'], [3679, 3696, 'Designation'], [3494, 3511, 'Designation'], [3202, 3213, 'Designation'], [3003, 3014, 'Designation'], [2910, 2921, 'Designation'], [2796, 2826, 'Designation'], [2681, 2711, 'Designation'], [1364, 1381, 'Designation'], [375, 392, 'Designation'], [20, 37, 'Designation']], [[7648, 7683, 'Skills'], [7551, 7556, 'Skills'], [7524, 7531, 'Skills'], [7498, 7503, 'Skills'], [7360, 7365, 'Degree'], [7275, 7280, 'Degree'], [7185, 7215, 'Degree'], [7157, 7172, 'Designation'], [1357, 1372, 'Designation'], [1331, 1352, 'Designation'], [1098, 1113, 'Designation'], [1006, 1026, 'Designation'], [879, 895, 'Skills'], [853, 875, 'Skills'], [428, 447, 'Skills'], [15, 35, 'Designation']], [[9993, 10013, 'Skills'], [9825, 9851, 'Degree'], [9305, 9325, 'Designation'], [8922, 8929, 'Designation'], [8794, 8801, 'Designation'], [5895, 5902, 'Designation'], [2295, 2302, 'Designation'], [2211, 2223, 'Designation'], [1493, 1500, 'Designation'], [854, 861, 'Designation'], [697, 704, 'Designation'], [502, 509, 'Designation'], [174, 181, 'Designation'], [13, 25, 'Designation']], [[7702, 7704, 'Skills'], [7689, 7691, 'Skills'], [7674, 7687, 'Skills'], [7654, 7672, 'Skills'], [7630, 7652, 'Skills'], [7617, 7628, 'Skills'], [7613, 7615, 'Skills'], [7596, 7611, 'Skills'], [7362, 7367, 'Degree'], [7274, 7277, 'Degree'], [7244, 7247, 'Degree'], [7195, 7197, 'Skills'], [7184, 7186, 'Skills'], [7167, 7169, 'Skills'], [7123, 7125, 'Skills'], [6774, 6776, 'Skills'], [6732, 6734, 'Skills'], [6694, 6696, 'Skills'], [6677, 6679, 'Skills'], [6522, 6524, 'Skills'], [6483, 6485, 'Skills'], [6446, 6457, 'Skills'], [6310, 6312, 'Skills'], [5987, 5990, 'Degree'], [5750, 5755, 'Degree'], [5655, 5657, 'Skills'], [5008, 5010, 'Skills'], [4782, 4793, 'Skills'], [4476, 4478, 'Skills'], [4363, 4365, 'Skills'], [4305, 4307, 'Skills'], [2834, 2847, 'Skills'], [2788, 2799, 'Skills'], [2659, 2672, 'Skills'], [2485, 2496, 'Skills'], [2215, 2226, 'Skills'], [1930, 1932, 'Skills'], [301, 303, 'Skills'], [232, 234, 'Skills'], [217, 234, 'Designation'], [30, 32, 'Skills'], [15, 32, 'Designation']], [[7060, 7063, 'Skills'], [6515, 6526, 'Skills'], [6491, 6494, 'Skills'], [6469, 6479, 'Skills'], [6450, 6457, 'Skills'], [6348, 6367, 'Designation'], [6326, 6370, 'Degree'], [6254, 6273, 'Designation'], [6246, 6276, 'Degree'], [5202, 5221, 'Designation'], [4645, 4664, 'Designation'], [3859, 3866, 'Designation'], [3849, 3866, 'Designation'], [3177, 3184, 'Designation'], [2082, 2089, 'Designation'], [1575, 1594, 'Designation'], [1568, 1594, 'Designation'], [263, 286, 'Designation'], [167, 190, 'Designation'], [14, 37, 'Designation']], [[4009, 4023, 'Skills'], [4009, 4014, 'Skills'], [3976, 3988, 'Skills'], [3937, 3943, 'Skills'], [3910, 3916, 'Skills'], [3893, 3898, 'Skills'], [3714, 3730, 'Degree'], [1567, 1584, 'Designation'], [565, 582, 'Designation'], [13, 30, 'Designation']], [[3683, 3692, 'Skills'], [3655, 3671, 'Skills'], [3628, 3634, 'Skills'], [3601, 3608, 'Skills'], [3585, 3590, 'Skills'], [3513, 3516, 'Degree'], [2687, 2706, 'Designation'], [1298, 1318, 'Designation'], [1001, 1021, 'Designation']], [[10248, 10326, 'Skills'], [10040, 10046, 'Degree'], [9967, 9983, 'Degree'], [9569, 9583, 'Designation'], [9223, 9240, 'Designation'], [8834, 8851, 'Designation'], [8184, 8197, 'Designation'], [6927, 6949, 'Designation'], [6134, 6156, 'Designation'], [6071, 6090, 'Designation'], [5102, 5126, 'Designation'], [3613, 3621, 'Designation'], [2559, 2567, 'Designation'], [1610, 1618, 'Designation'], [536, 544, 'Designation'], [529, 544, 'Designation'], [14, 46, 'Designation']], [[6935, 6969, 'Skills'], [6915, 6933, 'Skills'], [6874, 6894, 'Skills'], [6857, 6862, 'Skills'], [6765, 6796, 'Degree'], [5729, 5748, 'Degree'], [5689, 5710, 'Designation'], [5320, 5339, 'Degree'], [5285, 5304, 'Designation'], [4094, 4107, 'Designation'], [633, 652, 'Degree'], [570, 590, 'Designation'], [54, 73, 'Degree'], [21, 41, 'Designation']], [[4764, 4799, 'Skills'], [4668, 4672, 'Degree'], [4603, 4606, 'Degree'], [4484, 4497, 'Designation'], [4377, 4402, 'Designation'], [4154, 4174, 'Designation'], [3451, 3468, 'Designation'], [1767, 1789, 'Designation'], [33, 55, 'Designation']], [[3436, 3598, 'Skills'], [3358, 3372, 'Skills'], [3322, 3337, 'Skills'], [3291, 3302, 'Skills'], [3262, 3271, 'Skills'], [3232, 3242, 'Skills'], [3124, 3128, 'Degree'], [2878, 2893, 'Designation'], [1232, 1252, 'Designation'], [672, 692, 'Designation'], [16, 36, 'Designation']], [[8145, 8149, 'Skills'], [8039, 8043, 'Skills'], [8015, 8019, 'Skills'], [7990, 7994, 'Skills'], [7987, 7994, 'Skills'], [7961, 7966, 'Skills'], [7898, 7903, 'Degree'], [7774, 7777, 'Degree'], [7361, 7379, 'Designation'], [7263, 7283, 'Designation'], [5971, 5987, 'Designation'], [5339, 5357, 'Designation'], [4466, 4482, 'Designation'], [2614, 2632, 'Designation'], [1372, 1394, 'Designation'], [12, 34, 'Designation']], [[4801, 4824, 'Skills'], [4651, 4671, 'Skills'], [4618, 4641, 'Skills'], [4594, 4604, 'Skills'], [4551, 4574, 'Skills'], [4541, 4574, 'Skills'], [4501, 4522, 'Skills'], [4378, 4384, 'Degree'], [4345, 4354, 'Skills'], [4344, 4354, 'Skills'], [4324, 4333, 'Skills'], [4323, 4333, 'Skills'], [4306, 4312, 'Degree'], [4259, 4278, 'Designation'], [4064, 4081, 'Designation'], [3988, 3997, 'Skills'], [3987, 3997, 'Skills'], [3927, 3936, 'Skills'], [3926, 3936, 'Skills'], [3835, 3852, 'Designation'], [3257, 3264, 'Designation'], [2239, 2246, 'Designation'], [2020, 2029, 'Skills'], [2006, 2013, 'Designation'], [1700, 1709, 'Skills'], [1685, 1692, 'Designation'], [1345, 1352, 'Designation'], [868, 877, 'Skills'], [859, 866, 'Designation'], [841, 866, 'Designation'], [537, 546, 'Skills'], [536, 546, 'Skills'], [265, 274, 'Skills'], [166, 169, 'Degree'], [42, 51, 'Skills'], [33, 40, 'Designation'], [15, 40, 'Designation']], [[5123, 5146, 'Skills'], [5101, 5121, 'Skills'], [5079, 5099, 'Skills'], [5066, 5077, 'Skills'], [5059, 5064, 'Skills'], [4969, 5001, 'Degree'], [4893, 4914, 'Degree'], [3946, 3953, 'Designation'], [2439, 2444, 'Skills'], [2429, 2436, 'Designation'], [2228, 2233, 'Skills'], [2218, 2225, 'Designation'], [2211, 2225, 'Designation'], [2086, 2103, 'Designation'], [2034, 2050, 'Designation'], [1964, 1990, 'Designation'], [1829, 1836, 'Designation'], [1823, 1837, 'Designation'], [1510, 1534, 'Designation'], [1510, 1515, 'Skills'], [1500, 1507, 'Designation'], [1236, 1241, 'Skills'], [1226, 1233, 'Designation'], [1219, 1233, 'Designation'], [1032, 1037, 'Skills'], [1024, 1037, 'Designation'], [1024, 1031, 'Designation'], [575, 595, 'Skills'], [315, 320, 'Skills'], [243, 263, 'Skills'], [198, 209, 'Skills'], [27, 32, 'Skills'], [17, 24, 'Designation']], [[9154, 9157, 'Skills'], [8361, 8370, 'Skills'], [8353, 8370, 'Skills'], [8326, 8342, 'Skills'], [8283, 8315, 'Skills'], [8269, 8272, 'Skills'], [8249, 8258, 'Skills'], [8033, 8063, 'Degree'], [7948, 7972, 'Degree'], [7608, 7626, 'Designation'], [7097, 7114, 'Designation'], [6804, 6831, 'Designation'], [6556, 6574, 'Designation'], [6259, 6283, 'Designation'], [5059, 5076, 'Designation'], [5042, 5057, 'Designation'], [4095, 4137, 'Designation'], [1375, 1378, 'Skills'], [1106, 1109, 'Skills'], [802, 805, 'Skills'], [233, 236, 'Skills'], [216, 247, 'Designation'], [34, 37, 'Skills'], [17, 48, 'Designation']], [[10239, 10242, 'Skills'], [10127, 10130, 'Skills'], [9548, 9566, 'Skills'], [9534, 9537, 'Skills'], [9520, 9523, 'Skills'], [9497, 9506, 'Skills'], [9478, 9483, 'Skills'], [9392, 9415, 'Degree'], [9306, 9336, 'Degree'], [9012, 9028, 'Designation'], [8764, 8780, 'Designation'], [8270, 8286, 'Designation'], [8093, 8109, 'Designation'], [6104, 6127, 'Designation'], [5333, 5336, 'Skills'], [5294, 5310, 'Designation'], [5178, 5219, 'Designation'], [4978, 5019, 'Designation'], [1438, 1454, 'Designation'], [1292, 1319, 'Designation'], [1203, 1206, 'Skills'], [591, 594, 'Skills'], [445, 448, 'Skills'], [329, 345, 'Designation'], [167, 183, 'Designation'], [13, 29, 'Designation']], [[12774, 12784, 'Skills'], [12754, 12762, 'Skills'], [12733, 12742, 'Skills'], [12707, 12719, 'Skills'], [12686, 12693, 'Skills'], [12546, 12550, 'Degree'], [12491, 12494, 'Degree'], [11359, 11384, 'Designation'], [7624, 7642, 'Designation'], [4764, 4779, 'Designation'], [3478, 3493, 'Designation'], [2495, 2510, 'Designation'], [656, 680, 'Designation'], [17, 41, 'Designation']], [[5881, 5889, 'Skills'], [5825, 5845, 'Skills'], [5714, 5722, 'Skills'], [5681, 5693, 'Skills'], [5648, 5660, 'Skills'], [5610, 5627, 'Skills'], [5579, 5599, 'Skills'], [5495, 5548, 'Degree'], [5102, 5122, 'Skills'], [4487, 4530, 'Designation'], [4472, 4485, 'Designation'], [3001, 3014, 'Designation'], [2409, 2422, 'Designation'], [1459, 1479, 'Skills'], [784, 804, 'Skills'], [589, 602, 'Designation'], [495, 515, 'Skills'], [231, 248, 'Skills'], [199, 219, 'Skills'], [13, 26, 'Designation']], [[2646, 2657, 'Skills'], [2625, 2635, 'Skills'], [2258, 2263, 'Skills'], [2210, 2239, 'Skills'], [2182, 2189, 'Skills'], [2025, 2034, 'Degree'], [472, 486, 'Designation'], [290, 311, 'Degree'], [15, 29, 'Designation']], [[4030, 4046, 'Skills'], [4004, 4009, 'Skills'], [3963, 3968, 'Skills'], [3937, 3942, 'Skills'], [3889, 3907, 'Degree'], [3581, 3601, 'Designation'], [3402, 3422, 'Designation'], [2938, 2968, 'Designation'], [826, 844, 'Designation'], [446, 478, 'Designation'], [446, 464, 'Designation'], [10, 42, 'Designation'], [10, 28, 'Designation']], [[1701, 1725, 'Skills'], [1609, 1619, 'Skills'], [1591, 1606, 'Skills'], [1573, 1588, 'Skills'], [1557, 1570, 'Skills'], [1538, 1554, 'Skills'], [1513, 1535, 'Skills'], [1485, 1510, 'Skills'], [1455, 1482, 'Skills'], [1386, 1452, 'Skills'], [1356, 1383, 'Skills'], [1340, 1352, 'Skills'], [1243, 1270, 'Degree'], [1195, 1205, 'Skills'], [1177, 1192, 'Skills'], [1159, 1174, 'Skills'], [1143, 1156, 'Skills'], [1124, 1140, 'Skills'], [1099, 1121, 'Skills'], [969, 994, 'Skills'], [939, 966, 'Skills'], [839, 866, 'Skills'], [822, 834, 'Skills'], [744, 759, 'Designation'], [695, 710, 'Designation'], [608, 625, 'Designation'], [499, 516, 'Designation']], [[5175, 5229, 'Skills'], [4841, 4931, 'Skills'], [4663, 4696, 'Degree'], [4597, 4612, 'Designation'], [3480, 3497, 'Designation'], [3349, 3366, 'Designation'], [1552, 1564, 'Designation'], [1420, 1437, 'Designation'], [842, 860, 'Skills'], [339, 356, 'Designation'], [13, 30, 'Designation']], [[1501, 1517, 'Skills'], [1136, 1170, 'Degree'], [1046, 1068, 'Designation'], [610, 628, 'Designation'], [266, 294, 'Designation']], [[5548, 5565, 'Skills'], [5529, 5546, 'Skills'], [5521, 5527, 'Skills'], [5500, 5519, 'Skills'], [5481, 5498, 'Skills'], [5459, 5479, 'Skills'], [5332, 5364, 'Degree'], [5152, 5169, 'Skills'], [5145, 5151, 'Skills'], [5124, 5141, 'Skills'], [5117, 5123, 'Skills'], [4999, 5033, 'Degree'], [4916, 4933, 'Skills'], [4915, 4933, 'Degree'], [4774, 4791, 'Skills'], [4765, 4815, 'Degree'], [4765, 4771, 'Skills'], [4747, 4764, 'Skills'], [4746, 4764, 'Degree'], [4714, 4745, 'Degree'], [4708, 4713, 'Degree'], [3853, 3879, 'Designation'], [3036, 3055, 'Designation'], [2351, 2370, 'Designation'], [1727, 1740, 'Designation'], [844, 861, 'Designation'], [464, 470, 'Skills']], [[13424, 13434, 'Skills'], [13401, 13412, 'Skills'], [13389, 13399, 'Skills'], [13367, 13377, 'Skills'], [13355, 13365, 'Skills'], [13332, 13346, 'Skills'], [13321, 13330, 'Skills'], [13301, 13311, 'Skills'], [13284, 13294, 'Skills'], [13277, 13282, 'Skills'], [13166, 13176, 'Degree'], [13090, 13100, 'Skills'], [12805, 12810, 'Skills'], [12798, 12820, 'Designation'], [12091, 12096, 'Skills'], [12081, 12107, 'Designation'], [10946, 10951, 'Skills'], [10936, 10962, 'Designation'], [10277, 10282, 'Skills'], [10270, 10292, 'Designation'], [8622, 8632, 'Skills'], [8582, 8587, 'Skills'], [8577, 8595, 'Designation'], [8330, 8351, 'Designation'], [5070, 5080, 'Skills'], [5056, 5080, 'Designation'], [4911, 4921, 'Skills'], [4833, 4843, 'Skills'], [4763, 4773, 'Skills'], [4723, 4733, 'Skills'], [4493, 4502, 'Skills'], [4427, 4436, 'Skills'], [3957, 3970, 'Designation'], [3473, 3483, 'Skills'], [2592, 2607, 'Designation'], [2366, 2376, 'Skills'], [2345, 2355, 'Skills'], [2260, 2275, 'Designation'], [1673, 1683, 'Skills'], [1040, 1053, 'Designation'], [812, 827, 'Designation'], [23, 46, 'Designation'], [23, 38, 'Designation']], [[4162, 4172, 'Skills'], [4134, 4141, 'Skills'], [4104, 4113, 'Skills'], [4078, 4083, 'Skills'], [4049, 4054, 'Skills'], [3964, 3984, 'Degree'], [3861, 3894, 'Degree'], [3861, 3881, 'Degree'], [3084, 3104, 'Designation'], [2293, 2308, 'Designation'], [1574, 1603, 'Designation'], [464, 492, 'Designation'], [16, 44, 'Designation']], [[3786, 3805, 'Designation'], [3608, 3627, 'Designation'], [3441, 3464, 'Skills'], [3417, 3429, 'Skills'], [3395, 3405, 'Skills'], [3372, 3383, 'Skills'], [3343, 3360, 'Skills'], [3319, 3331, 'Skills'], [3289, 3307, 'Skills'], [3252, 3257, 'Degree'], [3190, 3207, 'Degree'], [3137, 3142, 'Degree'], [2107, 2126, 'Designation'], [1792, 1811, 'Designation'], [471, 490, 'Designation'], [13, 32, 'Designation']], [[5758, 5768, 'Skills'], [5740, 5756, 'Skills'], [5732, 5738, 'Skills'], [5710, 5730, 'Skills'], [5703, 5708, 'Skills'], [5659, 5693, 'Degree'], [5608, 5657, 'Degree'], [5544, 5560, 'Degree'], [5239, 5252, 'Designation'], [4808, 4821, 'Designation'], [4383, 4396, 'Designation'], [4376, 4396, 'Designation'], [4271, 4276, 'Skills'], [4172, 4177, 'Skills'], [3854, 3882, 'Designation'], [3333, 3338, 'Skills'], [3160, 3165, 'Skills'], [3012, 3027, 'Designation'], [1799, 1815, 'Designation'], [209, 224, 'Designation'], [13, 28, 'Designation']], [[785, 812, 'Skills'], [719, 738, 'Degree'], [573, 586, 'Degree'], [478, 491, 'Designation'], [218, 238, 'Designation'], [15, 42, 'Skills']], [[920, 935, 'Skills'], [798, 821, 'Degree'], [712, 737, 'Degree'], [575, 588, 'Designation'], [511, 524, 'Designation'], [387, 400, 'Designation'], [14, 27, 'Designation']], [[5621, 5636, 'Skills'], [5590, 5610, 'Skills'], [5572, 5579, 'Skills'], [5551, 5561, 'Skills'], [5534, 5539, 'Skills'], [5289, 5319, 'Degree'], [5202, 5231, 'Degree'], [4370, 4395, 'Designation'], [2635, 2650, 'Designation'], [1235, 1255, 'Designation'], [137, 153, 'Designation'], [12, 28, 'Designation']], [[5365, 5381, 'Skills'], [5248, 5283, 'Degree'], [5168, 5195, 'Degree'], [5086, 5113, 'Degree'], [4186, 4201, 'Designation'], [4016, 4026, 'Designation'], [2002, 2009, 'Designation'], [1591, 1598, 'Designation'], [1584, 1598, 'Designation'], [568, 582, 'Designation'], [20, 34, 'Designation']], [[1589, 1899, 'Skills'], [1513, 1532, 'Skills'], [1190, 1210, 'Degree'], [1145, 1148, 'Degree'], [856, 892, 'Designation'], [309, 331, 'Designation'], [14, 36, 'Designation']], [[1874, 1886, 'Skills'], [1848, 1853, 'Skills'], [1815, 1821, 'Skills'], [1794, 1803, 'Skills'], [1775, 1780, 'Skills'], [1722, 1727, 'Degree'], [1105, 1125, 'Designation'], [960, 981, 'Designation'], [207, 217, 'Designation'], [13, 23, 'Designation']], [[4517, 4526, 'Skills'], [4495, 4515, 'Skills'], [4232, 4251, 'Degree'], [4150, 4174, 'Degree'], [4061, 4075, 'Degree'], [3358, 3378, 'Designation'], [2466, 2479, 'Designation'], [671, 691, 'Skills'], [655, 669, 'Designation'], [31, 51, 'Skills'], [15, 29, 'Designation']], [[911, 926, 'Skills'], [567, 573, 'Degree'], [505, 511, 'Degree'], [420, 433, 'Designation'], [327, 352, 'Designation'], [226, 241, 'Designation'], [116, 129, 'Designation']], [[2232, 2267, 'Skills'], [1971, 1994, 'Degree'], [1595, 1610, 'Designation'], [1211, 1235, 'Designation'], [887, 900, 'Designation'], [517, 530, 'Designation'], [15, 28, 'Designation']], [[4411, 4418, 'Designation'], [4403, 4418, 'Designation'], [4143, 4150, 'Skills'], [4118, 4122, 'Skills'], [4090, 4098, 'Skills'], [4069, 4079, 'Skills'], [4053, 4058, 'Skills'], [3925, 3943, 'Degree'], [3622, 3629, 'Designation'], [3614, 3629, 'Designation'], [2808, 2815, 'Designation'], [2800, 2815, 'Designation'], [1546, 1553, 'Designation'], [808, 815, 'Designation'], [796, 815, 'Designation'], [690, 697, 'Designation'], [683, 697, 'Designation'], [230, 252, 'Designation'], [13, 28, 'Designation']], [[3052, 3067, 'Skills'], [2951, 2992, 'Degree'], [847, 868, 'Designation'], [577, 598, 'Designation'], [19, 40, 'Designation']], [[2169, 2179, 'Skills'], [2154, 2166, 'Skills'], [2142, 2151, 'Skills'], [2105, 2140, 'Skills'], [1305, 1486, 'Skills'], [910, 939, 'Degree'], [387, 403, 'Designation'], [15, 31, 'Designation']], [[4563, 4747, 'Skills'], [4511, 4536, 'Degree'], [4443, 4496, 'Degree'], [2711, 2736, 'Designation'], [2663, 2686, 'Designation'], [2012, 2035, 'Designation'], [1573, 1596, 'Designation'], [1042, 1083, 'Skills']], [[773, 848, 'Skills'], [642, 685, 'Degree'], [549, 592, 'Degree'], [391, 408, 'Designation'], [124, 141, 'Designation'], [16, 36, 'Designation']], [[8800, 8928, 'Skills'], [8754, 8758, 'Degree'], [285, 288, 'Designation'], [199, 202, 'Designation']], [[589, 737, 'Skills'], [421, 523, 'Skills'], [391, 396, 'Degree'], [304, 321, 'Degree'], [189, 199, 'Designation'], [26, 37, 'Designation']], [[1779, 1782, 'Skills'], [1771, 1776, 'Skills'], [1745, 1769, 'Skills'], [1732, 1735, 'Degree'], [1370, 1381, 'Designation'], [954, 979, 'Designation'], [442, 456, 'Designation'], [370, 383, 'Designation']], [[989, 1007, 'Skills'], [952, 968, 'Skills'], [919, 943, 'Skills'], [889, 916, 'Skills'], [762, 775, 'Skills'], [732, 741, 'Skills'], [705, 712, 'Skills'], [677, 684, 'Skills'], [647, 656, 'Skills'], [623, 627, 'Skills'], [536, 547, 'Degree'], [198, 226, 'Designation'], [13, 41, 'Designation']], [[4690, 5815, 'Skills'], [4551, 4556, 'Degree'], [4468, 4500, 'Degree'], [3227, 3243, 'Designation'], [879, 905, 'Designation'], [15, 41, 'Designation']], [[4764, 4799, 'Skills'], [4668, 4672, 'Degree'], [4603, 4606, 'Degree'], [4484, 4497, 'Designation'], [4377, 4402, 'Designation'], [4154, 4174, 'Designation'], [3451, 3468, 'Designation'], [1767, 1789, 'Designation'], [33, 55, 'Designation']], [[1043, 1048, 'Skills'], [1009, 1013, 'Skills'], [1004, 1007, 'Skills'], [593, 598, 'Skills'], [555, 572, 'Skills'], [530, 534, 'Skills'], [497, 509, 'Skills'], [473, 476, 'Skills'], [334, 373, 'Degree'], [307, 314, 'Designation'], [14, 21, 'Designation']], [[218, 240, 'Skills'], [178, 189, 'Degree'], [157, 165, 'Designation']], [[938, 942, 'Skills'], [762, 780, 'Skills'], [703, 711, 'Skills'], [678, 682, 'Skills'], [649, 657, 'Skills'], [588, 616, 'Degree'], [14, 49, 'Designation']], [[3768, 4034, 'Skills'], [3511, 3749, 'Skills'], [3445, 3460, 'Skills'], [3313, 3364, 'Skills'], [3273, 3283, 'Degree'], [3172, 3206, 'Degree'], [2399, 2409, 'Degree'], [1183, 1204, 'Designation'], [1008, 1031, 'Designation'], [224, 234, 'Degree'], [124, 134, 'Degree'], [9, 30, 'Designation']], [[3056, 3090, 'Skills'], [2929, 2961, 'Degree'], [1209, 1231, 'Designation'], [1123, 1206, 'Skills'], [615, 635, 'Designation'], [11, 33, 'Designation']], [[5471, 5838, 'Skills'], [5311, 5343, 'Degree'], [4146, 4183, 'Designation'], [3641, 3705, 'Skills'], [3483, 3555, 'Skills'], [2713, 2762, 'Designation'], [2565, 2629, 'Skills'], [2198, 2270, 'Skills'], [1607, 1650, 'Designation'], [234, 267, 'Skills'], [183, 232, 'Skills']], [[1171, 1574, 'Skills'], [962, 1096, 'Skills'], [887, 923, 'Degree'], [633, 638, 'Degree'], [273, 312, 'Designation'], [212, 231, 'Designation']], [[2348, 3131, 'Skills'], [2058, 2091, 'Degree'], [1980, 2007, 'Degree'], [729, 742, 'Designation'], [624, 637, 'Designation'], [32, 46, 'Designation'], [32, 45, 'Designation']], [[589, 737, 'Skills'], [421, 523, 'Skills'], [391, 396, 'Degree'], [304, 321, 'Degree'], [26, 37, 'Designation']], [[2246, 2573, 'Skills'], [875, 964, 'Skills'], [773, 830, 'Degree'], [714, 741, 'Degree'], [233, 252, 'Designation'], [16, 35, 'Designation']], [[2646, 2657, 'Skills'], [2625, 2635, 'Skills'], [2499, 2512, 'Skills'], [2258, 2263, 'Skills'], [2210, 2239, 'Skills'], [2182, 2189, 'Skills'], [2025, 2034, 'Degree'], [1510, 1523, 'Skills'], [472, 486, 'Designation'], [290, 311, 'Degree'], [157, 171, 'Designation'], [15, 29, 'Designation']], [[911, 926, 'Skills'], [567, 573, 'Degree'], [505, 511, 'Degree'], [420, 433, 'Designation'], [327, 352, 'Designation'], [226, 241, 'Designation'], [116, 129, 'Designation']], [[4672, 4951, 'Skills'], [4615, 4649, 'Degree'], [4566, 4599, 'Degree'], [4494, 4510, 'Degree'], [4430, 4459, 'Degree'], [3144, 3164, 'Designation'], [2804, 2824, 'Designation'], [1207, 1224, 'Designation'], [211, 228, 'Designation'], [13, 49, 'Designation']], [[12088, 12384, 'Skills'], [11993, 11999, 'Degree'], [11001, 11012, 'Designation'], [8160, 8171, 'Designation'], [7187, 7198, 'Designation'], [6185, 6196, 'Designation'], [5337, 5348, 'Designation'], [4185, 4196, 'Designation'], [2250, 2261, 'Designation'], [1146, 1157, 'Designation'], [1077, 1098, 'Designation'], [24, 35, 'Designation']], [[6401, 6427, 'Skills'], [6106, 6126, 'Designation'], [6034, 6097, 'Skills'], [5665, 5670, 'Degree'], [5617, 5654, 'Designation'], [5409, 5439, 'Designation'], [5134, 5157, 'Designation'], [4140, 4160, 'Designation'], [2488, 2508, 'Designation'], [2461, 2481, 'Designation'], [2315, 2335, 'Designation'], [649, 675, 'Skills'], [453, 475, 'Designation'], [338, 378, 'Skills'], [12, 34, 'Designation']], [[926, 955, 'Skills'], [821, 862, 'Degree'], [529, 542, 'Designation'], [277, 290, 'Designation'], [272, 290, 'Designation'], [142, 155, 'Designation'], [137, 155, 'Designation']], [[4476, 4506, 'Skills'], [4398, 4419, 'Degree'], [4016, 4033, 'Designation'], [3239, 3259, 'Designation'], [1569, 1582, 'Designation'], [13, 26, 'Designation']], [[2145, 2181, 'Skills'], [2109, 2142, 'Skills'], [2043, 2048, 'Skills'], [2021, 2026, 'Skills'], [1997, 2008, 'Skills'], [1948, 1977, 'Skills'], [1918, 1934, 'Skills'], [1851, 1854, 'Degree'], [1427, 1447, 'Designation'], [191, 204, 'Designation'], [13, 26, 'Designation']], [[2584, 2607, 'Skills'], [2405, 2432, 'Degree'], [995, 1012, 'Designation'], [689, 711, 'Designation'], [324, 337, 'Designation']], [[13335, 13338, 'Skills'], [11524, 11527, 'Skills'], [11508, 11522, 'Skills'], [11503, 11506, 'Skills'], [11495, 11501, 'Skills'], [11490, 11493, 'Skills'], [11485, 11488, 'Skills'], [11479, 11483, 'Skills'], [11451, 11460, 'Skills'], [11443, 11449, 'Skills'], [11433, 11441, 'Skills'], [11424, 11431, 'Skills'], [11374, 11396, 'Skills'], [11365, 11369, 'Skills'], [11355, 11363, 'Skills'], [11337, 11353, 'Skills'], [11311, 11323, 'Skills'], [11282, 11288, 'Skills'], [11275, 11280, 'Skills'], [11264, 11273, 'Skills'], [11249, 11262, 'Skills'], [11242, 11247, 'Skills'], [11209, 11216, 'Skills'], [11186, 11207, 'Skills'], [11170, 11184, 'Skills'], [11106, 11145, 'Skills'], [11101, 11104, 'Skills'], [10666, 10728, 'Degree'], [8427, 8462, 'Designation'], [7287, 7313, 'Designation'], [5852, 5878, 'Designation'], [5845, 5909, 'Designation'], [5131, 5157, 'Designation'], [5124, 5175, 'Designation'], [3729, 3771, 'Designation'], [1392, 1427, 'Designation'], [1046, 1054, 'Skills'], [1040, 1044, 'Skills'], [12, 47, 'Designation']], [[10414, 10428, 'Skills'], [10364, 10410, 'Skills'], [10342, 10361, 'Skills'], [10325, 10339, 'Skills'], [10304, 10321, 'Skills'], [10281, 10301, 'Skills'], [10265, 10278, 'Skills'], [10242, 10262, 'Skills'], [10225, 10239, 'Skills'], [10192, 10222, 'Skills'], [8918, 8953, 'Degree'], [8825, 8859, 'Degree'], [8761, 8795, 'Degree'], [8556, 8566, 'Designation'], [8311, 8326, 'Designation'], [8222, 8237, 'Designation'], [5887, 5913, 'Designation'], [3747, 3764, 'Designation'], [2367, 2381, 'Skills'], [1873, 1886, 'Designation'], [1601, 1614, 'Designation'], [402, 416, 'Skills'], [126, 153, 'Designation'], [12, 25, 'Designation']], [[4412, 4425, 'Skills'], [4405, 4410, 'Skills'], [4379, 4382, 'Skills'], [4348, 4358, 'Skills'], [4296, 4304, 'Skills'], [4268, 4275, 'Skills'], [4234, 4247, 'Skills'], [4208, 4213, 'Skills'], [4184, 4187, 'Skills'], [4025, 4060, 'Degree'], [3315, 3335, 'Designation'], [2350, 2382, 'Designation'], [1261, 1294, 'Designation'], [1261, 1275, 'Designation'], [370, 384, 'Designation'], [162, 176, 'Designation'], [11, 25, 'Designation']], [[3436, 3598, 'Skills'], [3358, 3372, 'Skills'], [3322, 3337, 'Skills'], [3291, 3302, 'Skills'], [3262, 3271, 'Skills'], [3232, 3242, 'Skills'], [3124, 3128, 'Degree'], [2878, 2893, 'Designation'], [1232, 1252, 'Designation'], [672, 692, 'Designation'], [16, 36, 'Designation']], [[1141, 1157, 'Skills'], [926, 955, 'Skills'], [821, 862, 'Degree'], [529, 542, 'Designation'], [277, 290, 'Designation'], [272, 290, 'Designation'], [142, 155, 'Designation'], [137, 155, 'Designation']], [[2407, 2419, 'Skills'], [2389, 2398, 'Skills'], [2335, 2368, 'Skills'], [2237, 2289, 'Skills'], [2183, 2192, 'Skills'], [2153, 2162, 'Skills'], [1945, 1953, 'Degree'], [1768, 1790, 'Designation'], [1590, 1612, 'Designation'], [1010, 1022, 'Designation'], [706, 719, 'Designation'], [541, 554, 'Designation'], [12, 25, 'Designation']], [[630, 679, 'Skills'], [608, 612, 'Degree'], [559, 575, 'Degree'], [559, 563, 'Degree'], [120, 133, 'Designation']], [[1439, 1451, 'Skills'], [1427, 1437, 'Skills'], [1278, 1281, 'Degree'], [1112, 1115, 'Degree'], [781, 794, 'Designation'], [686, 715, 'Designation'], [530, 557, 'Designation'], [486, 499, 'Designation'], [436, 449, 'Designation'], [15, 28, 'Designation']], [[398, 434, 'Skills'], [372, 392, 'Skills'], [345, 370, 'Skills'], [301, 303, 'Degree'], [250, 261, 'Designation'], [207, 220, 'Designation'], [157, 164, 'Designation']], [[4517, 4526, 'Skills'], [4495, 4515, 'Skills'], [4232, 4251, 'Degree'], [4150, 4174, 'Degree'], [4061, 4075, 'Degree'], [3358, 3378, 'Designation'], [2466, 2479, 'Designation'], [671, 691, 'Skills'], [655, 669, 'Designation'], [31, 51, 'Skills'], [15, 29, 'Designation']], [[434, 439, 'Skills'], [422, 432, 'Skills'], [375, 381, 'Degree'], [257, 269, 'Designation'], [257, 262, 'Skills'], [115, 128, 'Designation'], [12, 25, 'Designation']], [[1988, 1992, 'Skills'], [1978, 1981, 'Skills'], [1412, 1417, 'Skills'], [1387, 1391, 'Skills'], [1340, 1366, 'Skills'], [1310, 1319, 'Skills'], [1286, 1289, 'Skills'], [1196, 1199, 'Degree'], [1098, 1140, 'Degree'], [354, 373, 'Designation'], [15, 34, 'Designation']], [[2067, 2080, 'Skills'], [2023, 2046, 'Skills'], [1750, 1764, 'Degree'], [821, 844, 'Designation'], [262, 275, 'Designation']], [[5192, 5199, 'Skills'], [5177, 5190, 'Skills'], [5164, 5175, 'Skills'], [5147, 5162, 'Skills'], [5128, 5145, 'Skills'], [4928, 4933, 'Degree'], [4828, 4837, 'Degree'], [3524, 3531, 'Designation'], [3514, 3531, 'Designation'], [2422, 2429, 'Designation'], [2412, 2429, 'Designation'], [1215, 1222, 'Designation'], [933, 940, 'Designation'], [281, 290, 'Degree'], [247, 254, 'Designation'], [14, 21, 'Designation']], [[5163, 5172, 'Skills'], [5147, 5152, 'Skills'], [5123, 5135, 'Skills'], [5099, 5111, 'Skills'], [5071, 5087, 'Skills'], [4973, 5005, 'Degree'], [4047, 4086, 'Designation'], [3023, 3048, 'Designation'], [1584, 1619, 'Designation'], [481, 494, 'Designation'], [12, 25, 'Designation']], [[1821, 2095, 'Skills'], [1684, 1690, 'Degree'], [1651, 1671, 'Designation'], [1588, 1608, 'Designation'], [169, 192, 'Designation'], [13, 36, 'Designation']], [[9311, 9320, 'Skills'], [9296, 9309, 'Skills'], [9264, 9294, 'Skills'], [9244, 9262, 'Skills'], [9231, 9242, 'Skills'], [9220, 9229, 'Skills'], [9204, 9218, 'Skills'], [9187, 9202, 'Skills'], [9113, 9126, 'Degree'], [9048, 9064, 'Degree'], [7981, 7994, 'Designation'], [5003, 5018, 'Designation'], [3163, 3178, 'Designation'], [1849, 1860, 'Skills'], [1518, 1533, 'Designation'], [1414, 1427, 'Designation'], [1292, 1305, 'Designation'], [451, 462, 'Skills'], [375, 388, 'Skills'], [15, 28, 'Designation']], [[2624, 2640, 'Skills'], [2536, 2552, 'Degree'], [2241, 2257, 'Designation'], [1767, 1787, 'Designation'], [1176, 1200, 'Designation'], [818, 829, 'Designation'], [257, 270, 'Designation'], [16, 29, 'Designation']], [[5362, 5372, 'Skills'], [5330, 5341, 'Skills'], [5236, 5271, 'Degree'], [4278, 4312, 'Designation'], [3955, 3962, 'Designation'], [3315, 3322, 'Designation'], [2871, 2878, 'Designation'], [2700, 2707, 'Designation'], [2574, 2588, 'Designation'], [2050, 2057, 'Designation'], [2037, 2057, 'Designation'], [1575, 1582, 'Designation'], [1561, 1582, 'Designation'], [1481, 1488, 'Designation'], [1466, 1488, 'Designation'], [1389, 1396, 'Designation'], [1374, 1396, 'Designation'], [600, 607, 'Designation'], [156, 163, 'Designation'], [141, 163, 'Designation'], [37, 44, 'Designation'], [21, 44, 'Designation']], [[1403, 1487, 'Skills'], [1314, 1349, 'Degree'], [1281, 1302, 'Designation']], [[3894, 3911, 'Skills'], [3838, 3847, 'Skills'], [3816, 3836, 'Skills'], [3807, 3814, 'Skills'], [3776, 3793, 'Skills'], [3662, 3700, 'Degree'], [3483, 3496, 'Designation'], [3352, 3370, 'Designation'], [3200, 3233, 'Designation'], [3083, 3116, 'Designation'], [2588, 2614, 'Designation'], [1212, 1225, 'Designation'], [964, 995, 'Designation'], [104, 111, 'Skills'], [90, 99, 'Skills']], [[3166, 3171, 'Skills'], [3162, 3165, 'Skills'], [3152, 3161, 'Skills'], [3112, 3126, 'Skills'], [3104, 3111, 'Skills'], [3080, 3085, 'Skills'], [3070, 3079, 'Skills'], [3053, 3068, 'Skills'], [3049, 3052, 'Skills'], [3026, 3031, 'Skills'], [3022, 3025, 'Skills'], [3012, 3021, 'Skills'], [2970, 2984, 'Skills'], [2962, 2969, 'Skills'], [2938, 2943, 'Skills'], [2928, 2937, 'Skills'], [2911, 2926, 'Skills'], [2907, 2910, 'Skills'], [2786, 2789, 'Skills'], [2722, 2745, 'Degree'], [2638, 2656, 'Degree'], [2374, 2377, 'Skills'], [2368, 2372, 'Skills'], [1685, 1702, 'Designation'], [1330, 1339, 'Skills'], [918, 921, 'Skills'], [682, 699, 'Designation'], [675, 699, 'Designation'], [637, 641, 'Skills'], [630, 635, 'Skills'], [603, 608, 'Skills'], [596, 601, 'Skills'], [585, 594, 'Skills'], [576, 583, 'Skills'], [560, 574, 'Skills'], [546, 549, 'Skills'], [535, 544, 'Skills'], [509, 514, 'Skills'], [492, 495, 'Skills'], [149, 166, 'Designation'], [142, 166, 'Designation'], [21, 38, 'Designation'], [14, 38, 'Designation']], [[29595, 29601, 'Skills'], [29578, 29583, 'Skills'], [29554, 29564, 'Skills'], [29529, 29540, 'Skills'], [29472, 29513, 'Degree'], [27702, 27722, 'Designation'], [27481, 27501, 'Designation'], [26617, 26624, 'Designation'], [23284, 23308, 'Designation'], [20659, 20676, 'Designation'], [18998, 19015, 'Designation'], [13562, 13583, 'Designation'], [10439, 10453, 'Designation'], [8012, 8026, 'Designation'], [7185, 7200, 'Designation'], [6346, 6379, 'Designation'], [4770, 4808, 'Designation'], [3181, 3224, 'Designation'], [3181, 3219, 'Designation'], [243, 282, 'Designation'], [16, 55, 'Designation']], [[623, 635, 'Skills'], [586, 602, 'Skills'], [545, 565, 'Skills'], [526, 543, 'Skills'], [509, 524, 'Skills'], [393, 444, 'Degree'], [248, 260, 'Skills'], [226, 260, 'Designation']], [[760, 763, 'Skills'], [755, 758, 'Skills'], [746, 753, 'Skills'], [740, 744, 'Skills'], [647, 684, 'Degree'], [323, 353, 'Degree'], [202, 212, 'Designation']], [[2307, 2310, 'Skills'], [2278, 2281, 'Degree'], [2062, 2065, 'Degree'], [2000, 2043, 'Skills'], [1976, 1999, 'Skills'], [1941, 1975, 'Skills'], [1815, 1818, 'Skills'], [1790, 1794, 'Skills'], [1775, 1778, 'Degree'], [1597, 1602, 'Degree'], [1412, 1415, 'Degree'], [776, 789, 'Designation'], [766, 789, 'Designation'], [331, 344, 'Designation'], [14, 27, 'Designation']], [[4858, 4862, 'Skills'], [4598, 4607, 'Skills'], [4570, 4574, 'Skills'], [4550, 4555, 'Skills'], [4533, 4538, 'Skills'], [4508, 4521, 'Skills'], [4401, 4444, 'Degree'], [4323, 4345, 'Degree'], [3168, 3213, 'Designation'], [2432, 2445, 'Designation'], [679, 692, 'Designation'], [16, 29, 'Designation']], [[623, 635, 'Skills'], [586, 602, 'Skills'], [545, 565, 'Skills'], [526, 543, 'Skills'], [509, 524, 'Skills'], [393, 444, 'Degree'], [248, 260, 'Skills'], [226, 260, 'Designation']], [[4306, 4311, 'Skills'], [4268, 4275, 'Skills'], [4241, 4248, 'Skills'], [4210, 4221, 'Skills'], [4193, 4198, 'Skills'], [4121, 4138, 'Degree'], [3545, 3559, 'Designation'], [3111, 3128, 'Designation'], [2703, 2725, 'Designation'], [1215, 1220, 'Skills'], [1208, 1229, 'Designation'], [357, 362, 'Skills'], [347, 370, 'Designation'], [28, 33, 'Skills'], [18, 41, 'Designation']], [[10067, 10077, 'Skills'], [10038, 10046, 'Skills'], [10011, 10018, 'Skills'], [9985, 9990, 'Skills'], [9958, 9964, 'Skills'], [9899, 9903, 'Degree'], [9811, 9814, 'Degree'], [9679, 9695, 'Designation'], [9510, 9541, 'Designation'], [5921, 5952, 'Designation'], [5672, 5703, 'Designation'], [2759, 2776, 'Designation'], [478, 495, 'Designation'], [315, 332, 'Designation'], [19, 36, 'Designation']], [[2164, 2180, 'Skills'], [2164, 2170, 'Skills'], [2137, 2143, 'Skills'], [2117, 2125, 'Skills'], [2100, 2105, 'Skills'], [2041, 2061, 'Degree'], [1668, 1673, 'Skills'], [1639, 1659, 'Designation'], [778, 794, 'Designation'], [588, 606, 'Designation'], [407, 425, 'Designation'], [200, 218, 'Designation'], [13, 31, 'Designation']], [[4836, 4859, 'Skills'], [4813, 4833, 'Skills'], [4545, 4568, 'Skills'], [4513, 4533, 'Skills'], [4440, 4471, 'Degree'], [4363, 4366, 'Degree'], [4253, 4288, 'Designation'], [3638, 3666, 'Designation'], [3638, 3658, 'Skills'], [2100, 2117, 'Designation'], [1053, 1071, 'Designation'], [968, 986, 'Designation'], [362, 375, 'Designation'], [218, 231, 'Designation'], [14, 27, 'Designation']], [[3776, 3785, 'Skills'], [3616, 3645, 'Degree'], [3542, 3566, 'Degree'], [2665, 2699, 'Designation'], [2465, 2499, 'Designation'], [1898, 1918, 'Designation'], [1731, 1751, 'Designation'], [849, 874, 'Designation'], [712, 737, 'Designation'], [447, 470, 'Designation'], [312, 335, 'Designation'], [15, 38, 'Designation']], [[9410, 9413, 'Skills'], [9219, 9224, 'Degree'], [9164, 9169, 'Degree'], [8289, 8305, 'Designation'], [7249, 7262, 'Designation'], [6064, 6082, 'Designation'], [4676, 4692, 'Designation'], [3254, 3272, 'Designation'], [3219, 3237, 'Designation'], [1591, 1609, 'Designation'], [1549, 1567, 'Designation'], [8, 21, 'Designation']], [[4836, 4859, 'Skills'], [4813, 4833, 'Skills'], [4545, 4568, 'Skills'], [4513, 4533, 'Skills'], [4363, 4366, 'Degree'], [4253, 4288, 'Degree'], [3638, 3666, 'Designation'], [3638, 3658, 'Skills'], [2100, 2117, 'Designation'], [1053, 1071, 'Designation'], [968, 986, 'Designation'], [362, 375, 'Designation'], [218, 231, 'Designation'], [14, 27, 'Designation']], [[6172, 6193, 'Skills'], [6138, 6151, 'Skills'], [6108, 6117, 'Skills'], [6069, 6087, 'Skills'], [6045, 6057, 'Skills'], [5971, 5985, 'Degree'], [5873, 5890, 'Degree'], [5780, 5797, 'Designation'], [927, 941, 'Designation'], [17, 31, 'Designation']]]"
     ]
    },
    {
     "name": "stdout",
     "output_type": "stream",
     "text": [
      "\n"
     ]
    }
   ],
   "source": [
    "## filter all annotation based on filter list\n",
    "def filter_ents(ents, filter):\n",
    "    filtered = [ent for ent in ents if ent[2] in filter]\n",
    "    #print(filtered)\n",
    "    return filtered\n",
    "\n",
    "## TODO use method above to remove all but relevant (chosen) entity annotations and store in X variable \n",
    "X = [filter_ents(ents[1][\"entities\"], chosen_entity_labels) for ents in training_data]\n",
    "print(X)"
   ]
  },
  {
   "cell_type": "markdown",
   "metadata": {},
   "source": [
    "##### Remove resumes that cause errors in spacy\n",
    "Depending on what entities you chose, some of the resumes might cause errors in spacy. We don't need to get into details as to why, suffice to say it has to do with whitespace and syntax in the entity annotations. If these resumes are not removed from our training data, spacy will throw an exception during training, so we need to remove them first. \n",
    "\n",
    "We will use the remove_bad_data function below to do this. This function does the following:\n",
    "* calls train_spacy_ner with debug=True and n_iter=1. This causes spacy to process the documents one-by-one, and gather the documents that throw an exception in a list of \"bad docs\" which it returns. \n",
    "* You will complete the function to remove any baddocs (returned by remove_bad_data) from your training data list. \n",
    "\n",
    "You may or may not have any bad documents depending on the entities you chose. In any case, there should not be more than a dozen or so bad docs.  "
   ]
  },
  {
   "cell_type": "code",
   "execution_count": null,
   "metadata": {},
   "outputs": [],
   "source": [
    "from spacy_train_resume_ner import train_spacy_ner\n",
    "\n",
    "def remove_bad_data(training_data):\n",
    "    model, baddocs = train_spacy_ner(training_data, debug=True, n_iter=1)\n",
    "    ## training data is list of lists with each list containing a text and annotations\n",
    "    ## baddocs is a set of strings/resume texts.\n",
    "    ## TODO complete implementation to filter bad docs and store filter result (good docs) in filtered variable\n",
    "    filtered = [data for data in training_data if data[0] not in baddocs]\n",
    "    print(\"Unfiltered training data size: \",len(training_data))\n",
    "    print(\"Filtered training data size: \", len(filtered))\n",
    "    print(\"Bad data size: \", len(baddocs))\n",
    "    return filtered\n",
    "\n",
    "## call remove method. It may take a few minutes for the method to complete.\n",
    "## you will know it is complete when the print output above. \n",
    "X = remove_bad_data(X)"
   ]
  },
  {
   "cell_type": "markdown",
   "metadata": {},
   "source": [
    "##### Question: How many bad docs did you have? What is the size of your new (filtered) training data? \n",
    "*Answer here*"
   ]
  },
  {
   "cell_type": "markdown",
   "metadata": {},
   "source": [
    "##### Train/Test Split\n",
    "Now before we train our model, we have to split our available training data into training and test sets. Splitting our data into train and test (or holdout) datasets is a fundamental technique in machine learning, and essential to avoid the problem of overfitting.\n",
    "Before we go on, you should get a grasp of how train/test split helps us avoid overfitting. Please take the time now to do a quick web search on the topic. There are many resources available. You should search for \"train test validation overfitting\" or some subset of those terms.\n",
    "\n",
    "Here are a few articles to start with:\n",
    "* https://machinelearningmastery.com/a-simple-intuition-for-overfitting/\n",
    "* https://scikit-learn.org/stable/modules/cross_validation.html#cross-validation (Note: you are free to install scikit learn and use the train_test_split method documented here, but it is not necessary. It is the concept that is important)\n",
    "\n",
    "##### Question: What is overfitting and how does doing a train/test split help us avoid overfitting when training our models? Please answer in your own words. \n",
    "*Answer here*"
   ]
  },
  {
   "cell_type": "markdown",
   "metadata": {},
   "source": [
    "Now that we understand why we do a train/test split, we will write some code that splits our data into train and test sets. Usually we want around 70-80% of the data for train, and the rest for test. \n",
    "##### TODO: Complete the code below to create a train and test dataset"
   ]
  },
  {
   "cell_type": "code",
   "execution_count": null,
   "metadata": {},
   "outputs": [],
   "source": [
    "##TODO complete the implementation  of the train test split function below\n",
    "def train_test_split(X,train_percent):\n",
    "    train_size = None\n",
    "    train = None\n",
    "    test = None\n",
    "    return train,test\n",
    "## TODO chose train size percent and call train test split, storing results in \"train\" and \"test\" variables.\n",
    "train,test = None\n",
    "## TODO use python assert to assert that the size of train and test sets add up to the size of all the data \n",
    "assert None    "
   ]
  },
  {
   "cell_type": "markdown",
   "metadata": {},
   "source": [
    "##### Train a spacy ner model with our training data\n",
    "OK, now it is (finally) time to train our own custom NER model using spacy. Because our training data has been preprocessed to only include annotations for the entities we are interested in, the model will only be able to predict/extract those entities. \n",
    "*Depending on your computer, this step may take a while.* Training 20 epochs (iterations) using 480 training examples takes around 10 minutes on my machine (core i7 CPU). You will see output like *Losses {'ner':2342.23342342}* after each epoch/iteration. The default number of iterations is 20, so you will see this output 20 times. When this step is done, we will use the trained ner model to perform predictions on our test data in our test set.  "
   ]
  },
  {
   "cell_type": "code",
   "execution_count": null,
   "metadata": {},
   "outputs": [],
   "source": [
    "## run this code to train a ner model using spacy\n",
    "custom_nlp,_= train_spacy_ner(train,n_iter=20)"
   ]
  },
  {
   "cell_type": "markdown",
   "metadata": {},
   "source": [
    "##### Inspect NER predictions on one sample resume\n",
    "Now that we have a trained model, let's see how it works on one of our resumes. "
   ]
  },
  {
   "cell_type": "code",
   "execution_count": null,
   "metadata": {},
   "outputs": [],
   "source": [
    "## TODO fetch one resume out of our test dataset and store to the \"resume\" variable\n",
    "resume = None\n",
    "## TODO create a spacy doc out of the resume using our trained model and save to the \"doc\" variable \n",
    "doc = None"
   ]
  },
  {
   "cell_type": "markdown",
   "metadata": {},
   "source": [
    "Now we will output the predicted entities and the existing annotated entities in that doc"
   ]
  },
  {
   "cell_type": "code",
   "execution_count": null,
   "metadata": {},
   "outputs": [],
   "source": [
    "## TODO output label and text of predicted entities (in \"ents\" variable of the spacy doc created above)\n",
    "print(\"PREDICTED:\")\n",
    "for ent in None:\n",
    "    pass\n",
    "## TODO output labeled entities (in \"entities\" dictionary of resume)\n",
    "print(\"LABELED:\")\n",
    "for ent in None:\n",
    "    pass    \n"
   ]
  },
  {
   "cell_type": "markdown",
   "metadata": {},
   "source": [
    "#### Evaluation Metrics for NER\n",
    "Now that we can predict entities using our trained model, we can compare our predictions with the original annotations in our training data to evaluate how well our model performs for our task. The original annotations have been annotated manually by human annotators, and represent a \"Gold Standard\" against which we can compare our predictions. \n",
    "\n",
    "For most classification tasks, the most common evaluation metrics are:\n",
    "* accuracy\n",
    "* precision\n",
    "* recall\n",
    "* f1 score\n",
    "\n",
    "In order to understand these metrics, we need to understand the following concepts:\n",
    "* True positives - How many of the predicted entities are \"true\" according to the Gold Standard? (training annotation) \n",
    "* True negatives - How many entities did the model not predict which are actually not entities according to the Gold Standard?\n",
    "* False positives - How many entities did the model predict which are NOT entities according to the Gold Standard?  \n",
    "* False negatives - How many entities did the model \"miss\" - e.g. did not recognize as entities which are entities according to the Gold Standard? \n",
    "\n",
    "Before we go on, it is important that you understand true/false positives/negatives as well as the evaluation metrics above. Take some time now to research the web in order to find answers to the following questions:\n",
    "\n",
    "##### Question: How are the evaluation metrics above defined in the context of evaluating Machine Learning models? How do they relate to True/False Positives/Negatives above? Please provide an intuitive description as well as the mathmatical formula for each metric. \n",
    "*Answers here*\n"
   ]
  },
  {
   "cell_type": "markdown",
   "metadata": {},
   "source": [
    "##### Calculating Metrics based on token-level annotations or full entity-level. \n",
    "The concepts above are our first step toward understanding how to evaluate our model effectively. However, in NER, we need to take into account that we can calculate our metrics either based on all tokens (words) found in the document, or only on the entities found in the document.  \n",
    "\n",
    "##### Token-Level evaluation. \n",
    "Token level evaluation evaluates how accurately did the model tag *each individual word/token* in the input. In order to understand this, we need to understand something called the \"BILUO\" Scheme (or BILOU or BIO). The spacy docs have a good reference. Please read and familiarize yourself with BILUO. \n",
    "\n",
    "https://spacy.io/api/annotation#biluo\n",
    "\n",
    "Up to now, we have not been working with the BILUO scheme, but with \"offsets\" (for example: (112,150,\"Email\") - which says there is an \"Email\" entity between positions 112 and 150 in the text). We would like to be able to evaluate our models on a token-level using BILUO - so we need to convert our data to BILUO. Fortunately, Spacy provides a helper method to do this for us.\n",
    "\n",
    "*Execute the code below to see how our \"Gold Standard\" and predictions for our example doc above look in BILUO scheme.* \n",
    "Note: some of the lines might be ommited for display purposes. "
   ]
  },
  {
   "cell_type": "code",
   "execution_count": null,
   "metadata": {},
   "outputs": [],
   "source": [
    "from spacy.gold import biluo_tags_from_offsets\n",
    "import pandas as pd\n",
    "from IPython.display import display, HTML\n",
    "\n",
    "## returns a pandas dataframe with tokens, prediction, and true (Gold Standard) annotations of tokens\n",
    "def make_bilou_df(nlp,resume):\n",
    "    \"\"\"\n",
    "    param nlp - a trained spacy model\n",
    "    param resume - a resume from our train or test set\n",
    "    \"\"\"\n",
    "    doc = nlp(resume[0])\n",
    "    bilou_ents_predicted = biluo_tags_from_offsets(doc, [(ent.start_char,ent.end_char,ent.label_)for ent in doc.ents])\n",
    "    bilou_ents_true = biluo_tags_from_offsets(doc,\n",
    "                                                   [(ent[0], ent[1], ent[2]) for ent in resume[1][\"entities\"]])\n",
    "\n",
    "    \n",
    "    doc_tokens = [tok.text for tok in doc]\n",
    "    bilou_df = pd.DataFrame()\n",
    "    bilou_df[\"Tokens\"] =doc_tokens\n",
    "    bilou_df[\"Tokens\"] = bilou_df[\"Tokens\"].str.replace(\"\\\\s+\",\"\") \n",
    "    bilou_df[\"Predicted\"] = bilou_ents_predicted\n",
    "    bilou_df[\"True\"] = bilou_ents_true\n",
    "    return bilou_df\n",
    "\n",
    "## TODO call method above with a resume from test set and store result in bilou_df variable.\n",
    "bilou_df = None\n",
    "display(bilou_df)  \n"
   ]
  },
  {
   "cell_type": "markdown",
   "metadata": {},
   "source": [
    "Based on this output, it should be very easy to calculate a token-level accuracy. We simply compare the \"Predicted\" to \"True\" columns and calculate what percentage are the same. "
   ]
  },
  {
   "cell_type": "code",
   "execution_count": null,
   "metadata": {},
   "outputs": [],
   "source": [
    "## TODO bilou_df is a pandas dataframe. Use pandas dataframe api to get a subset where predicted and true are the same. \n",
    "same_df = None\n",
    "## accuracy is the length of this subset divided by the length of bilou_df\n",
    "accuracy = None\n",
    "print(\"Accuracy on one resume: \",accuracy)\n"
   ]
  },
  {
   "cell_type": "markdown",
   "metadata": {},
   "source": [
    "The accuracy might seem pretty good... if it is not 100%, then let's print out those tokens where the model predicted something different than the gold standard by running the code below. \n",
    "\n",
    "Note - if your score on one doc is 100%, pick another document and re-run the last few cells above. "
   ]
  },
  {
   "cell_type": "code",
   "execution_count": null,
   "metadata": {},
   "outputs": [],
   "source": [
    "## TODO find all rows in bilou_df where \"Predicted\" not equal to \"True\" column. \n",
    "diff_df = None\n",
    "display(diff_df)"
   ]
  },
  {
   "cell_type": "markdown",
   "metadata": {},
   "source": [
    "Now let's calculate the accuracy on all our test resumes and average them for an accuracy score. \n",
    "\n",
    "Please complete the code below to report an accuracy score on our test resumes"
   ]
  },
  {
   "cell_type": "code",
   "execution_count": null,
   "metadata": {},
   "outputs": [],
   "source": [
    "import numpy as np\n",
    "doc_accuracy = []\n",
    "for res in test:\n",
    "    ## TODO calculate accurac for each 'res' and append to doc_accuracy list \n",
    "    pass\n",
    "\n",
    "## TODO calculate mean/average of doc_accuracy (Tip: use numpy!)\n",
    "total_acc = None\n",
    "print(\"Accuracy: \",total_acc)\n",
    "\n",
    "    "
   ]
  },
  {
   "cell_type": "markdown",
   "metadata": {},
   "source": [
    "##### Question: how does the model perform on token-level accuracy? What did it miss? In those cases where the predictions didn't match the gold standard, were the predictions plausible or just \"spurious\" (wrong)? \n",
    "*Answer here* "
   ]
  },
  {
   "cell_type": "markdown",
   "metadata": {},
   "source": [
    "##### Question: What might the advantages and disadvantages be of calculating accuracy on token-level? Hint: think about a document with 1000 tokens where only 10 tokens are annotated as entities. What might the accuracy be on such a document?  "
   ]
  },
  {
   "cell_type": "markdown",
   "metadata": {},
   "source": [
    "##### Entity-Level evaluation #####\n",
    "Another method of evaluating the performance of our NER model is to calculate metrics not on token-level, but on entity level. There is a good blog article that describes this method. \n",
    "\n",
    "http://www.davidsbatista.net/blog/2018/05/09/Named_Entity_Evaluation/\n",
    "\n",
    "The article goes into some detail, the most important part is the scenarios described in the section \"Comparing NER system output and golden standard\". "
   ]
  },
  {
   "cell_type": "markdown",
   "metadata": {},
   "source": [
    "##### Question: how do the first 3 scenarios described in the section \"Comparing NER system output and golden standard\" correlate to  true/false positives/negatives? \n",
    "*Answer here* "
   ]
  },
  {
   "cell_type": "markdown",
   "metadata": {},
   "source": [
    "##### Precision, Recall, F1 #####"
   ]
  },
  {
   "cell_type": "markdown",
   "metadata": {},
   "source": [
    "Now we would like to calculate precision, recall, and f1 for each entity type we are interested in (our chosen entities). To do this, we need to understand the formulas for each. A good article for this is https://skymind.ai/wiki/accuracy-precision-recall-f1. "
   ]
  },
  {
   "cell_type": "markdown",
   "metadata": {},
   "source": [
    "##### Question: how can we calculate precision, recall and f1 score based on the information above? Please provide the formulas for each #####\n",
    "*Answer here*"
   ]
  },
  {
   "cell_type": "markdown",
   "metadata": {},
   "source": [
    "Now supply code below which calculates precision and recall and F1 on our test data for each entity type we are interested in. \n",
    "\n"
   ]
  },
  {
   "cell_type": "code",
   "execution_count": null,
   "metadata": {},
   "outputs": [],
   "source": [
    "## TODO cycle through chosen_entity_labels and calculate metrics for each entity using test data\n",
    "data = []\n",
    "for label in chosen_entity_labels:\n",
    "    ## variables to store results for all resumes for one entity type\n",
    "    true_positives = None\n",
    "    false_positives = None\n",
    "    false_negatives = None\n",
    "    for tres in test:\n",
    "        ## use make_bilou_df on each resume in our test set, and calculate for each entity true and false positives,\n",
    "        ## and false negatives. \n",
    "        tres_df = None\n",
    "        ## calculate true false positives and false negatives for each resume\n",
    "        tp = None\n",
    "        fp = None\n",
    "        fn = None\n",
    "        ## aggregate result for each resume to totals\n",
    "        true_positives = None\n",
    "        false_positives = None\n",
    "        false_negatives = None\n",
    "    \n",
    "    print(\"For label '{}' tp: {} fp: {} fn: {}\".format(label,true_positives,false_positives,false_negatives))\n",
    "    \n",
    "    ## TODO Use the formulas you learned to calculate metrics and print them out        \n",
    "    precision = None\n",
    "    recall = None\n",
    "    f1 = None\n",
    "    #print(\"Precision: \",precision)\n",
    "    #print(\"Recall: \",recall)\n",
    "    #print(\"F1: \",f1)\n",
    "    row = [precision,recall,f1]\n",
    "    data.append(row)\n",
    "\n",
    "## make pandas dataframe with metrics data. Use the chosen entity labels as an index, and the metric names as columns. \n",
    "metric_df = None\n",
    "display(metric_df)"
   ]
  },
  {
   "cell_type": "markdown",
   "metadata": {},
   "source": [
    "Now we compute an average score for each metric. "
   ]
  },
  {
   "cell_type": "code",
   "execution_count": null,
   "metadata": {},
   "outputs": [],
   "source": [
    "## TODO compute average metrics And print them out. Use pandas dataframe \"mean\" method to do this\n",
    "pass"
   ]
  },
  {
   "cell_type": "markdown",
   "metadata": {},
   "source": [
    "##### Question: how do the average metrics here (computed on entity-level) compare to the token-level accuracy score above? Which metric(s) would you prefer to use to evaluate the quality of your model? Why? "
   ]
  },
  {
   "cell_type": "markdown",
   "metadata": {},
   "source": [
    "We are almost Done with part II! We just need to save our BILUO training data for reuse in Part III. Run the code below to do this. "
   ]
  },
  {
   "cell_type": "code",
   "execution_count": null,
   "metadata": {},
   "outputs": [],
   "source": [
    "## TODO persist BILUO data as text\n",
    "print(\"Make bilou dfs\")\n",
    "training_data_as_bilou = [make_bilou_df(custom_nlp,res) for res in train]\n",
    "test_data_as_bilou = [make_bilou_df(custom_nlp,res) for res in test]\n",
    "print(\"Done!\")\n",
    "training_df = pd.DataFrame(columns = [\"text\",\"ner\",\"doc\",\"ner_spacy\"])\n",
    "test_df = pd.DataFrame(columns = [\"text\",\"ner\",\"doc\",\"ner_spacy\"])\n",
    "for idx,df in enumerate(training_data_as_bilou):\n",
    "    df2 = pd.DataFrame()\n",
    "    df2[\"text\"] = df[\"Tokens\"]\n",
    "    df2[\"ner\"] = df[\"True\"]\n",
    "    df2[\"ner_spacy\"]=df[\"Predicted\"]\n",
    "    df2[\"doc\"]=idx\n",
    "    training_df = training_df.append(df2)\n",
    "for idx,df in enumerate(test_data_as_bilou):\n",
    "    df2 = pd.DataFrame()\n",
    "    df2[\"text\"] = df[\"Tokens\"]\n",
    "    df2[\"ner\"] = df[\"True\"]\n",
    "    df2[\"ner_spacy\"]=df[\"Predicted\"]\n",
    "    df2[\"doc\"]=idx\n",
    "    test_df = test_df.append(df2)\n",
    "\n",
    "with open(\"../dataset/flair/train_res_bilou.txt\",'w+',encoding=\"utf-8\") as f:\n",
    "    training_df.to_csv(f,sep=\" \",encoding=\"utf-8\",index=False)\n",
    "with open(\"../dataset/flair/test_res_bilou.txt\",'w+',encoding=\"utf-8\") as f:\n",
    "    training_df.to_csv(f,sep=\" \",encoding=\"utf-8\",index=False)"
   ]
  },
  {
   "cell_type": "markdown",
   "metadata": {},
   "source": [
    "Now let's load the data we persisted with flair before we go on"
   ]
  },
  {
   "cell_type": "code",
   "execution_count": null,
   "metadata": {},
   "outputs": [],
   "source": [
    "from flair.data import TaggedCorpus\n",
    "from flair.data_fetcher import NLPTaskDataFetcher\n",
    "columns = {1:\"ner\",3:\"text\"}\n",
    "corpus = NLPTaskDataFetcher.load_column_corpus(\"../dataset/flair\",column_format=columns,\n",
    "                                               train_file=\"train_res_bilou.txt\",\n",
    "                                               test_file=\"test_res_bilou.txt\")"
   ]
  },
  {
   "cell_type": "markdown",
   "metadata": {},
   "source": [
    "If you could load the corpus without error, you are ready to go on to part 3, where we will work with flair nlp! "
   ]
  }
 ],
 "metadata": {
  "kernelspec": {
   "display_name": "Python 3",
   "language": "python",
   "name": "python3"
  },
  "language_info": {
   "codemirror_mode": {
    "name": "ipython",
    "version": 3
   },
   "file_extension": ".py",
   "mimetype": "text/x-python",
   "name": "python",
   "nbconvert_exporter": "python",
   "pygments_lexer": "ipython3",
   "version": "3.7.3"
  }
 },
 "nbformat": 4,
 "nbformat_minor": 1
}
